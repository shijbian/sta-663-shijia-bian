{
 "metadata": {
  "name": "",
  "signature": "sha256:82c0c6efdcfd1d65ee36b28b794998ea17e087f3481756140fa815d453111aa3"
 },
 "nbformat": 3,
 "nbformat_minor": 0,
 "worksheets": []
}