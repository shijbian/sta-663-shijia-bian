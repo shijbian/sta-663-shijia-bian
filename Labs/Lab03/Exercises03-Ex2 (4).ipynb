{
 "metadata": {
  "name": "",
  "signature": "sha256:09f0cb949f06aa80f0d8cbf65d7b8c6fbbcba74b108d3f3a5802dac326fc8f4f"
 },
 "nbformat": 3,
 "nbformat_minor": 0,
 "worksheets": [
  {
   "cells": [
    {
     "cell_type": "code",
     "collapsed": false,
     "input": [
      "import os\n",
      "import sys\n",
      "import glob\n",
      "import matplotlib.pyplot as plt\n",
      "import numpy as np\n",
      "import pandas as pd\n",
      "%matplotlib inline\n",
      "plt.style.use('ggplot')\n"
     ],
     "language": "python",
     "metadata": {},
     "outputs": [],
     "prompt_number": 69
    },
    {
     "cell_type": "markdown",
     "metadata": {},
     "source": [
      "**Exercise 1 (10 pts)**. Avoding catastrophic cancellation.\n",
      "\n",
      "The tail of the standard logistic distributon is given by $1 - F(t) = 1 - (1+e^{-t})^{-1}$.\n",
      "\n",
      "- Define a function `f1` to calculate the tail probability of the logistic distribution using the formula given above\n",
      "- Use `sympy` to find the exact value of the tail distribution (using the same symbolic formula) to 20 decimal digits\n",
      "- Calculate the *relative error* of `f1` when $t = 25$ (The relative error is given by `abs(exact - approximate)/exact`)\n",
      "- Rewrite the expression for the tail of the logistic distribution using simple algebra so that there is no risk of cancellation, and write a function `f2` using this formula. Calculate the *relative error* of `f2` when $t = 25$. \n",
      "- How much more accurate is `f2` compared with `f1` in terms of the relative error?"
     ]
    },
    {
     "cell_type": "code",
     "collapsed": false,
     "input": [
      "# Step 1: f1, calculate the tail probability of the logistic distribution using given formila\n",
      "def f1 (t):\n",
      "    result = 1 - np.power((1+np.exp(-t)),-1)\n",
      "    return result\n",
      "\n",
      "# Step 2: exact, calculate the tail probability of the logistic distribution using sympy \n",
      "import sympy \n",
      "def exact (t):\n",
      "    result = 1 - 1/(1+sympy.exp(-t))\n",
      "    return result.evalf(20)\n",
      "#\u4fdd\u7559\u5c0f\u6570sympy.N(,20)\n",
      "\n",
      "# Step 3: relative error of f1 when t=25\n",
      "t = 25\n",
      "relError1 = abs((exact(t)-f1(t))/exact(t))\n",
      "print 'The relative error of f1 to exact value is:',relError1\n",
      "\n",
      "# Step 4: f2, the expression for the tail of the logistic distribution by simple algebra \n",
      "import math\n",
      "def f2 (t):\n",
      "    result = 1/(math.exp(t)+1)\n",
      "    return result\n",
      "\n",
      "# Step 5: relative error of f1 when t=25\n",
      "t = 25\n",
      "relError2 = abs((exact(t)-f2(t))/exact(t))\n",
      "print 'The relative error of f2 to exact value is:',relError2\n",
      "\n",
      "# Step 6: How much more accurate is f2 compared with f1 in terms of the relative error\n",
      "print \"The accuracy of f2 compared with f1 in terms of the relative error is\", (relError2-relError1)/relError1"
     ],
     "language": "python",
     "metadata": {},
     "outputs": [
      {
       "output_type": "stream",
       "stream": "stdout",
       "text": [
        "The relative error of f1 to exact value is: 4.1759147665982646285e-6\n",
        "The relative error of f2 to exact value is: 1.1401906367350844868e-16\n",
        "The accuracy of f2 compared with f1 in terms of the relative error is -0.99999999997269602709\n"
       ]
      }
     ],
     "prompt_number": 151
    },
    {
     "cell_type": "markdown",
     "metadata": {},
     "source": [
      "**Exercise 2 (10 pts)**. Ill-conditioned linear problems.\n",
      "\n",
      "You are given a $n \\times p$ design matrix $X$ and a $p$-vector of observations $y$ and asked to find the coefficients $\\beta$ that solve the linear equations $X \\beta = y$. \n",
      "```python\n",
      "X = np.load('x.npy')\n",
      "y = np.load('y.npy')\n",
      "```\n",
      "\n",
      "The solution $\\beta$ can also be loaded as\n",
      "```python\n",
      "beta = np.load('b.npy')\n",
      "```\n",
      "\n",
      "- Write a formula that could solve the system of linear equations in terms of $X$ and $y$ Write a function `f1` that takes arguments $X$ and $y$ and returns $\\beta$ using this formula.\n",
      "- How could you code this formula using `np.linalg.solve` that does not require inverting a matrix? Write a function `f2` that takes arguments $X$ and $y$ and returns $\\beta$ using this.\n",
      "- Note that carefully designed algorithms *can* solve this ill-conditioned problem, which is why you should always use library functions for linear algebra rather than write your own.\n",
      "```python\n",
      "np.linalg.lstsq(x, y)[0]\n",
      "```\n",
      "- What happens if you try to solve for $\\beta$ using `f1` or `f2`? Remove the column of $X$ that is making the matrix singluar and find the $p-1$ vector $b$ using `f2`.\n",
      "- Note that the solution differs from that given by `np.linalg.lstsq`? This arises because the relevant condition number for `f2` is actually for the matrix $X^TX$ while the condition number of `lstsq` is for the matrix $X$. Why is the condition so high even after removing the column that makes the matrix singular?"
     ]
    },
    {
     "cell_type": "heading",
     "level": 6,
     "metadata": {},
     "source": [
      "Question 1: Write a formula that could solve the system of linear equations in terms of $X$ and $y$ Write a function `f1` that takes arguments $X$ and $y$ and returns $\\beta$ using this formula."
     ]
    },
    {
     "cell_type": "code",
     "collapsed": false,
     "input": [
      "import numpy.linalg as la\n",
      "\n",
      "# Function f1: \n",
      "# Pre: solve the system of linear equations given X and y\n",
      "# Post: return beta\n",
      "def f1 (A, Y):\n",
      "    xmat = np.mat(A)\n",
      "    ymat = np.mat(Y).T \n",
      "    return np.dot(np.dot(la.inv(np.dot(xmat.T, xmat)), xmat.T), Y)"
     ],
     "language": "python",
     "metadata": {},
     "outputs": [],
     "prompt_number": 152
    },
    {
     "cell_type": "heading",
     "level": 6,
     "metadata": {},
     "source": [
      "Question 2: How could you code this formula using np.linalg.solve that does not require inverting a matrix? Write a function f2 that takes arguments X and y and returns $\\beta$ using this."
     ]
    },
    {
     "cell_type": "markdown",
     "metadata": {},
     "source": [
      "$\\beta$ cannot be computed by f1, because the matrix X is singular."
     ]
    },
    {
     "cell_type": "markdown",
     "metadata": {},
     "source": [
      "This part needs apply Singular Value Decomposition: \n",
      "$$X=S*U*V$$\n",
      "Given:\n",
      "$$X\\beta=Y$$\n",
      "We can compute:\n",
      "$$S*U*V\\beta=Y$$\n",
      "Since $S$ is orthogonal matrix, so we can get:\n",
      "$$S^T*S*U*V\\beta=S^T*Y$$\n",
      "$$U*V\\beta=S^T*Y$$\n",
      "Therefore, $U*V$ is the new $X$, and $S^T*Y$ becomes the new $Y$."
     ]
    },
    {
     "cell_type": "code",
     "collapsed": false,
     "input": [
      "X = np.load('x.npy')\n",
      "y = np.load('y.npy')\n",
      "\n",
      "#Write a function f2 that takes arguments X and y and returns \u03b2 using this\n",
      "def f2 (X,y):\n",
      "    U,s,V = numpy.linalg.svd(X, full_matrices=False)\n",
      "    S = np.diag(s)\n",
      "    left = dot(S,V)\n",
      "    right = dot(U.T,y)\n",
      "    return numpy.linalg.solve(left,right)\n",
      "\n",
      "print \"The beta computed by f2 is:\"\n",
      "print f2 (X,y)"
     ],
     "language": "python",
     "metadata": {},
     "outputs": [
      {
       "output_type": "stream",
       "stream": "stdout",
       "text": [
        "The beta computed by f2 is:\n",
        "[  4.70119624e-01   9.61722604e-02   9.05820027e-01  -2.76229236e+12\n",
        "   5.24730332e-01   2.76229236e+11]\n"
       ]
      }
     ],
     "prompt_number": 153
    },
    {
     "cell_type": "heading",
     "level": 6,
     "metadata": {},
     "source": [
      "Question 3: Note that carefully designed algorithms can solve this ill-conditioned problem, which is why you should always use library functions for linear algebra rather than write your own.\n",
      "np.linalg.lstsq(x, y)[0]"
     ]
    },
    {
     "cell_type": "code",
     "collapsed": false,
     "input": [
      "# f3 is function using library functions for linear algebra. \n",
      "X = np.load('x.npy')\n",
      "y = np.load('y.npy')\n",
      "def f3 (X,y):\n",
      "    return np.linalg.lstsq(X, y)[0]\n",
      "print \"This is the beta computed by f3:\"\n",
      "print f3(X,y)\n",
      "print \"\\n\"\n",
      "print \"This is the b.npy stored in the system:\"\n",
      "beta = np.load('b.npy')\n",
      "print beta"
     ],
     "language": "python",
     "metadata": {},
     "outputs": [
      {
       "output_type": "stream",
       "stream": "stdout",
       "text": [
        "This is the beta computed by f3:\n",
        "[ 0.46950359  0.09617226  0.90379971  0.00945473  0.52517152  0.09454725]\n",
        "\n",
        "\n",
        "This is the b.npy stored in the system:\n",
        "[ 0.46923853  0.09617226  0.90337017  0.11949047  0.52479938  0.083623  ]\n"
       ]
      }
     ],
     "prompt_number": 155
    },
    {
     "cell_type": "heading",
     "level": 6,
     "metadata": {},
     "source": [
      "Question 4: What happens if you try to solve for $\\beta$ using f1 or f2? Remove the column of X that is making the matrix singluar and find the p\u22121 vector b using f2."
     ]
    },
    {
     "cell_type": "markdown",
     "metadata": {},
     "source": [
      "If I try to solve for $\\beta$ using f1 or f2, f1 is not computable. f2 will give the inaccurate answer. \n",
      "Then I remove the column 4 of X, colomn 4 is exactly the same as colomn 6, it is making the matrix singluar.\n",
      "The output below is how I find the p\u22121 vector b using f2. The solution computed from f2 will be the same as \n",
      "the solution computed from f3."
     ]
    },
    {
     "cell_type": "code",
     "collapsed": false,
     "input": [
      "# Remove the column of X that is making the matrix singluar and find the p\u22121 vector b using f2.\n",
      "X = np.load('x.npy')\n",
      "newX = X[:,[0,1,2,4,5]]\n",
      "y = np.load('y.npy')\n",
      "\n",
      "print \"This is the beta computed by the f2:\"\n",
      "print f2 (newX,y)\n",
      "print \"\\n\""
     ],
     "language": "python",
     "metadata": {},
     "outputs": [
      {
       "output_type": "stream",
       "stream": "stdout",
       "text": [
        "This is the beta computed by the f2:\n",
        "[ 0.47205826  0.09617226  0.90400172  0.52337497  0.09544283]\n",
        "\n",
        "\n"
       ]
      }
     ],
     "prompt_number": 163
    },
    {
     "cell_type": "heading",
     "level": 6,
     "metadata": {},
     "source": [
      "Question 5: Note that the solution differs from that given by np.linalg.lstsq? This arises because the relevant condition number for f2 is actually for the matrix XTX while the condition number of lstsq is for the matrix X. Why is the condition so high even after removing the column that makes the matrix singular?"
     ]
    },
    {
     "cell_type": "code",
     "collapsed": false,
     "input": [
      "print \"This is the beta computed by the f3:\"\n",
      "print f3 (newX,y)\n",
      "\n",
      "# This arises because the relevant condition number for f2 is actually for the matrix XTX while the condition \n",
      "#number of lstsq is for the matrix X. Why is the condition so high even after removing the column that makes \n",
      "#the matrix singular?"
     ],
     "language": "python",
     "metadata": {},
     "outputs": [
      {
       "output_type": "stream",
       "stream": "stdout",
       "text": [
        "This is the beta computed by the f3:\n",
        "[ 0.46950359  0.09617226  0.90379971  0.52517152  0.09549273]\n"
       ]
      }
     ],
     "prompt_number": 165
    },
    {
     "cell_type": "markdown",
     "metadata": {},
     "source": [
      "**Exercise 3 (10 pts)**. Importance of using efficient algorihtms.\n",
      "\n",
      "- Implement bubble sort\n",
      "- Calculate its big $\\mathcal{O}$ algorithmic complexity\n",
      "- Time the performance of bubble sort on random uniform deviate vectors of sizes `range(100, 2000, 100)` using `time.time()` from the standard library\n",
      "- Use `scipy.optimize.curve_fit` to fit an appropriate function to the collection of (size, execution time) data points. Extrapolate how long it would take to sort a random vector of size 1,000,000. Now time how long it takes for the system sort to sort a random vector of size 1,000,000.\n",
      "- Plot the fits together with the data points uisng `matplotlib.pyplot` functions."
     ]
    },
    {
     "cell_type": "code",
     "collapsed": false,
     "input": [
      "# Your code here\n",
      "import time\n",
      "from scipy.interpolate import spline\n",
      "\n",
      "# Define and implement the function of bubble sort\n",
      "def bubbleSort (list):\n",
      "    length = len(list)\n",
      "    for i in range(length):\n",
      "        for j in range(length-1):\n",
      "            if list[j]>list[j+1]:\n",
      "                list[j], list[j+1] = list[j+1], list[j] \n",
      "    return list\n",
      "\n",
      "# Calculate its big O algorithmic complexity\n",
      "# for my algorithm, this is O(n^2)\n",
      "\n",
      "# Time the performance of bubble sort on random uniform \n",
      "# deviate vectors of sizes range(100, 2000, 100) \n",
      "size = range(100, 2000, 100)\n",
      "sizeLen = len(size)\n",
      "timeEff = []\n",
      "for k in range(sizeLen):\n",
      "    start_time = time.time()\n",
      "    my_list = np.random.uniform(0,1,size[k])\n",
      "    bubbleSort(my_list)\n",
      "    end_time = time.time()\n",
      "    timeEff.append(end_time - start_time)\n",
      "print timeEff\n"
     ],
     "language": "python",
     "metadata": {},
     "outputs": [
      {
       "output_type": "stream",
       "stream": "stdout",
       "text": [
        "[0.003648996353149414, 0.014891862869262695, 0.03372693061828613, 0.06278109550476074, 0.09136104583740234, 0.1345961093902588, 0.1811208724975586, 0.23748779296875, 0.2974660396575928, 0.37607693672180176, 0.4486880302429199, 0.5399229526519775, 0.6205971240997314, 0.7357981204986572, 0.8338589668273926, 0.9646530151367188, 1.0688409805297852, 1.215507984161377, 1.3399062156677246]\n"
       ]
      }
     ],
     "prompt_number": 166
    },
    {
     "cell_type": "code",
     "collapsed": false,
     "input": [
      "# Use scipy.optimize.curve_fit to fit an appropriate function \n",
      "# to the collection of (size, execution time) data points\n",
      "import numpy as np\n",
      "from scipy.optimize import curve_fit\n",
      "import matplotlib.pyplot as mpl\n",
      "\n",
      "# By visualizing the pattern of data, we know this is a polynomial curve\n",
      "def func(x, a, b, c):\n",
      "    return a + b*x + c*(x**2)\n",
      "\n",
      "popt, pcov = curve_fit(func, size, timeEff)\n",
      "\n",
      "print \"The coefficients for the polyno\"\n",
      "print popt\n",
      "\n",
      "\n",
      "\n",
      "print 5.38325512e-04 - 2.00264611e-06 * 1000000 + 3.73633724e-07 * 1000000**2\n",
      "#http://docs.scipy.org/doc/numpy/reference/generated/numpy.polyfit.html\n",
      "# extropolate the time in terms of the graph\n",
      "# .sort"
     ],
     "language": "python",
     "metadata": {},
     "outputs": [
      {
       "output_type": "stream",
       "stream": "stdout",
       "text": [
        "[  5.38325512e-04  -2.00264611e-06   3.73633724e-07]\n",
        "373631.721892\n"
       ]
      }
     ],
     "prompt_number": 177
    },
    {
     "cell_type": "code",
     "collapsed": false,
     "input": [
      "\n",
      "# Let's create a function to model and create data\n",
      "def func(x, a, x0, sigma):\n",
      "    return a*np.exp(-(x-x0)**2/(2*sigma**2))\n",
      "plt.plot(size,timeEff, c='blue')\n",
      "plt.xlabel('Size of input (n)', fontsize=16)\n",
      "plt.ylabel('Time of operations', fontsize=16)\n",
      "plt.legend(['$\\mathcal{O}(n^2)$'], loc='best', fontsize=20);\n",
      "\n",
      "#http://docs.scipy.org/doc/numpy/reference/generated/numpy.polyfit.html\n",
      "# extropolate the time in terms of the graph\n",
      "# .sort"
     ],
     "language": "python",
     "metadata": {},
     "outputs": []
    },
    {
     "cell_type": "markdown",
     "metadata": {},
     "source": [
      "**Exercise 4 (20 pts)**. One of the goals of the course it that you will be able to implement novel algorihtms from the literature. \n",
      "\n",
      "- Implement the mean-shift algorithm in 1D as described [here](http://homepages.inf.ed.ac.uk/rbf/CVonline/LOCAL_COPIES/TUZEL1/MeanShift.pdf). \n",
      "    - Use the following function signature\n",
      "    ```python\n",
      "    def mean_shift(xs, x, kernel, max_iters=100, tol=1e-6):\n",
      "    ```\n",
      "    - xs is the data set, x is the starting location, and kernel is a kernel function\n",
      "    - tol is the difference in $||x||$ across iterations\n",
      "- Use the following kernels with bandwidth $h$ (a default value of 1.0 will work fine)\n",
      "    - Flat - return 1 if $||x|| < h$ and 0 otherwise\n",
      "    - Gaussian \n",
      "    $$\\frac{1}{\\sqrt{2 \\pi h}}e^{\\frac{-||x||^2}{h^2}}$$\n",
      "    - Note that $||x||$ is the norm of the data point being evaluated minus the current value of $x$\n",
      "- Use both kernels to find all 3 modes of the data set in `x1d.npy`\n",
      "- Modify the algorithm and/or kernels so that it now works in an arbitrary number of dimensions.\n",
      "- Use both kernels to find all 3 modes of the data set in `x2d.npy`\n",
      "- Plot the path of successive intermediate solutions of the mean-shift algorithm starting from `x0 = (-4, 10)` until it converges onto a mode in the 2D data for each kernel. Superimpose the path on top of a contour plot of the data density."
     ]
    },
    {
     "cell_type": "code",
     "collapsed": false,
     "input": [
      "from numpy import linalg as LA\n",
      "\n",
      "def flat_kernel (xs, x, h=0.1):\n",
      "    num = sum([points* (1 if LA.norm(points-x) < h else 0) for points in xs])\n",
      "    denom = sum([(1 if LA.norm(points-x) < h else 0) for points in xs])\n",
      "    mx = num/denom - x\n",
      "    return mx   \n",
      "\n",
      "def gaussain_kernel (xs, x, h=1):\n",
      "    num = sum([points*exp(-1.0*pow(LA.norm(points-x),2)/pow(h,2)) for points in xs])\n",
      "    denom = sum([exp(-1.0*pow(LA.norm(points-x),2)/pow(h,2)) for points in xs])\n",
      "    mx = num/denom - x\n",
      "    return mx\n",
      "\n",
      "def mean_shift(xs, x, kernel, max_iters=100, tol=1e-6):\n",
      "    inter = 0\n",
      "    mod = []\n",
      "    boolean = True\n",
      "    xt = x\n",
      "    while boolean == True:\n",
      "        mx = kernel (xs, xt, h)\n",
      "        newXt = xt + mx\n",
      "        if LA.norm(newXt-xt) < tol or inter > max_iters:\n",
      "            mod.append(newXt)\n",
      "            boolean = False\n",
      "        xt = newXt\n",
      "        inter = inter + 1\n",
      "    return mod\n",
      "\n",
      "x1d = np.load('x1d.npy')\n",
      "xs = x1d\n",
      "x = 1\n",
      "\n",
      "mean_shift(xs, x, flat_kernel, max_iters=100, tol=1e-6)"
     ],
     "language": "python",
     "metadata": {},
     "outputs": [
      {
       "metadata": {},
       "output_type": "pyout",
       "prompt_number": 160,
       "text": [
        "[0.57546743545549217]"
       ]
      }
     ],
     "prompt_number": 160
    },
    {
     "cell_type": "code",
     "collapsed": false,
     "input": [
      "-4.9297872619004561\n",
      "3.8853805101147536\n",
      "0.55812355368607725\n",
      "\n",
      "for flat\n",
      "-4.9950246796462956\n",
      "3.9793641765699963\n",
      "0.57546743545549217\n",
      "matplotlib.pyplot.hist(x1d)"
     ],
     "language": "python",
     "metadata": {},
     "outputs": [
      {
       "ename": "SyntaxError",
       "evalue": "invalid syntax (<ipython-input-161-921818340a1a>, line 5)",
       "output_type": "pyerr",
       "traceback": [
        "\u001b[1;36m  File \u001b[1;32m\"<ipython-input-161-921818340a1a>\"\u001b[1;36m, line \u001b[1;32m5\u001b[0m\n\u001b[1;33m    for flat\u001b[0m\n\u001b[1;37m            ^\u001b[0m\n\u001b[1;31mSyntaxError\u001b[0m\u001b[1;31m:\u001b[0m invalid syntax\n"
       ]
      }
     ],
     "prompt_number": 161
    },
    {
     "cell_type": "code",
     "collapsed": false,
     "input": [
      "import matplotlib\n",
      "import pylab\n",
      "\n",
      "\n",
      "x2d = np.load('x2d.npy')\n",
      "print x2d[:,1]\n",
      "print len(x2d[:,1])\n",
      "N=len(x2d)\n",
      "\n",
      "matplotlib.pyplot.scatter(x2d[:,1],x2d[:,0])\n",
      "matplotlib.pyplot.show()"
     ],
     "language": "python",
     "metadata": {},
     "outputs": []
    },
    {
     "cell_type": "code",
     "collapsed": false,
     "input": [
      "myList=[1,2,3,4,5,6]\n",
      "\n",
      "a = sum([x*1.0/2 for x in myList])\n",
      "print a\n",
      "\n",
      "mod = range(len(myList))\n",
      "print mod\n",
      "mod[0]"
     ],
     "language": "python",
     "metadata": {},
     "outputs": []
    },
    {
     "cell_type": "code",
     "collapsed": false,
     "input": [
      "from numpy import linalg as LA\n",
      "\n",
      "def flat_kernel (xs, x, h=1):\n",
      "    num = sum([points* (1 if LA.norm(points-x) < h else 0) for points in xs])\n",
      "    denom = sum((1 if LA.norm(points-x) < h else 0) for points in xs)\n",
      "    mx = num/denom - x\n",
      "    return mx\n",
      "\n",
      "x1d = np.load('x1d.npy')\n",
      "x = -4.9297872619004561\n",
      "flat_kernel (x1d, x, h=1)\n",
      "\n"
     ],
     "language": "python",
     "metadata": {},
     "outputs": []
    },
    {
     "cell_type": "code",
     "collapsed": false,
     "input": [],
     "language": "python",
     "metadata": {},
     "outputs": []
    }
   ],
   "metadata": {}
  }
 ]
}