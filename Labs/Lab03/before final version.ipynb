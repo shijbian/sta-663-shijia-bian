{
 "metadata": {
  "name": "",
  "signature": "sha256:99a456a3ddf962f6da864e50fd32101353f6ea662c1235ebb062d7820ea64058"
 },
 "nbformat": 3,
 "nbformat_minor": 0,
 "worksheets": [
  {
   "cells": [
    {
     "cell_type": "code",
     "collapsed": false,
     "input": [
      "import os\n",
      "import sys\n",
      "import glob\n",
      "import matplotlib.pyplot as plt\n",
      "import numpy as np\n",
      "import pandas as pd\n",
      "import math\n",
      "%matplotlib inline\n",
      "plt.style.use('ggplot')"
     ],
     "language": "python",
     "metadata": {},
     "outputs": [],
     "prompt_number": 329
    },
    {
     "cell_type": "markdown",
     "metadata": {},
     "source": [
      "**Exercise 1 (10 pts)**. Avoding catastrophic cancellation.\n",
      "\n",
      "The tail of the standard logistic distributon is given by $1 - F(t) = 1 - (1+e^{-t})^{-1}$.\n",
      "\n",
      "- Define a function `f1` to calculate the tail probability of the logistic distribution using the formula given above\n",
      "- Use `sympy` to find the exact value of the tail distribution (using the same symbolic formula) to 20 decimal digits\n",
      "- Calculate the *relative error* of `f1` when $t = 25$ (The relative error is given by `abs(exact - approximate)/exact`)\n",
      "- Rewrite the expression for the tail of the logistic distribution using simple algebra so that there is no risk of cancellation, and write a function `f2` using this formula. Calculate the *relative error* of `f2` when $t = 25$. \n",
      "- How much more accurate is `f2` compared with `f1` in terms of the relative error?"
     ]
    },
    {
     "cell_type": "code",
     "collapsed": false,
     "input": [
      "# Step 1: f1, calculate the tail probability of the logistic distribution using given formila\n",
      "def f1 (t):\n",
      "    result = 1 - np.power((1+np.exp(-t)),-1)\n",
      "    return result\n",
      "\n",
      "# Step 2: exact, calculate the tail probability of the logistic distribution using sympy \n",
      "import sympy \n",
      "def exact (t):\n",
      "    result = 1 - 1/(1+sympy.exp(-t))\n",
      "    return result.evalf(20) # I use evalf(20) to keep 20 decimals\n",
      "\n",
      "# Step 3: relative error of f1 when t=25\n",
      "t = 25\n",
      "relError1 = abs((exact(t)-f1(t))/exact(t))\n",
      "print 'The relative error of f1 to exact value is:',relError1\n",
      "\n",
      "# Step 4: f2, the expression for the tail of the logistic distribution by simple algebra \n",
      "import math\n",
      "def f2 (t):\n",
      "    result = 1/(math.exp(t)+1)\n",
      "    return result\n",
      "\n",
      "# Step 5: relative error of f1 when t=25\n",
      "t = 25\n",
      "relError2 = abs((exact(t)-f2(t))/exact(t))\n",
      "print 'The relative error of f2 to exact value is:',relError2\n",
      "\n",
      "# Step 6: How much more accurate is f2 compared with f1 in terms of the relative error\n",
      "print \"The accuracy of f2 compared with f1 in terms of the relative error is\", (relError2-relError1)/relError1"
     ],
     "language": "python",
     "metadata": {},
     "outputs": [
      {
       "output_type": "stream",
       "stream": "stdout",
       "text": [
        "The relative error of f1 to exact value is: 4.1759147665982646285e-6\n",
        "The relative error of f2 to exact value is: 1.1401906367350844868e-16\n",
        "The accuracy of f2 compared with f1 in terms of the relative error is -0.99999999997269602709\n"
       ]
      }
     ],
     "prompt_number": 330
    },
    {
     "cell_type": "markdown",
     "metadata": {},
     "source": [
      "**Exercise 2 (10 pts)**. Ill-conditioned linear problems.\n",
      "\n",
      "You are given a $n \\times p$ design matrix $X$ and a $p$-vector of observations $y$ and asked to find the coefficients $\\beta$ that solve the linear equations $X \\beta = y$. \n",
      "```python\n",
      "X = np.load('x.npy')\n",
      "y = np.load('y.npy')\n",
      "```\n",
      "\n",
      "The solution $\\beta$ can also be loaded as\n",
      "```python\n",
      "beta = np.load('b.npy')\n",
      "```\n",
      "\n",
      "- Write a formula that could solve the system of linear equations in terms of $X$ and $y$ Write a function `f1` that takes arguments $X$ and $y$ and returns $\\beta$ using this formula.\n",
      "- How could you code this formula using `np.linalg.solve` that does not require inverting a matrix? Write a function `f2` that takes arguments $X$ and $y$ and returns $\\beta$ using this.\n",
      "- Note that carefully designed algorithms *can* solve this ill-conditioned problem, which is why you should always use library functions for linear algebra rather than write your own.\n",
      "```python\n",
      "np.linalg.lstsq(x, y)[0]\n",
      "```\n",
      "- What happens if you try to solve for $\\beta$ using `f1` or `f2`? Remove the column of $X$ that is making the matrix singluar and find the $p-1$ vector $b$ using `f2`.\n",
      "- Note that the solution differs from that given by `np.linalg.lstsq`? This arises because the relevant condition number for `f2` is actually for the matrix $X^TX$ while the condition number of `lstsq` is for the matrix $X$. Why is the condition so high even after removing the column that makes the matrix singular?"
     ]
    },
    {
     "cell_type": "heading",
     "level": 6,
     "metadata": {},
     "source": [
      "Question 1: Write a formula that could solve the system of linear equations in terms of $X$ and $y$ Write a function `f1` that takes arguments $X$ and $y$ and returns $\\beta$ using this formula."
     ]
    },
    {
     "cell_type": "code",
     "collapsed": false,
     "input": [
      "import numpy.linalg as la\n",
      "\n",
      "# Function f1: \n",
      "# Pre: solve the system of linear equations given X and y\n",
      "#      The formula is (X^T*X)^-1*(X^T*Y)\n",
      "# Post: return beta\n",
      "def f1 (A, Y):\n",
      "    xmat = np.mat(A)\n",
      "    ymat = np.mat(Y).T \n",
      "    return np.dot(np.dot(la.inv(np.dot(xmat.T, xmat)), xmat.T), Y)"
     ],
     "language": "python",
     "metadata": {},
     "outputs": [],
     "prompt_number": 331
    },
    {
     "cell_type": "heading",
     "level": 6,
     "metadata": {},
     "source": [
      "Question 2: How could you code this formula using np.linalg.solve that does not require inverting a matrix? Write a function f2 that takes arguments X and y and returns $\\beta$ using this."
     ]
    },
    {
     "cell_type": "markdown",
     "metadata": {},
     "source": [
      "$\\beta$ cannot be computed by f1, because the matrix X is singular."
     ]
    },
    {
     "cell_type": "markdown",
     "metadata": {},
     "source": [
      "This part needs apply Singular Value Decomposition: \n",
      "$$X=S*U*V$$\n",
      "Given:\n",
      "$$X\\beta=Y$$\n",
      "We can compute:\n",
      "$$S*U*V\\beta=Y$$\n",
      "Since $S$ is orthogonal matrix, so we can get:\n",
      "$$S^T*S*U*V\\beta=S^T*Y$$\n",
      "$$U*V\\beta=S^T*Y$$\n",
      "Therefore, $U*V$ is the new $X$, and $S^T*Y$ becomes the new $Y$."
     ]
    },
    {
     "cell_type": "code",
     "collapsed": false,
     "input": [
      "X = np.load('x.npy')\n",
      "y = np.load('y.npy')\n",
      "\n",
      "#Write a function f2 that takes arguments X and y and returns \u03b2 using this\n",
      "def f2 (X,y):\n",
      "    U,s,V = numpy.linalg.svd(X, full_matrices=False)\n",
      "    S = np.diag(s)\n",
      "    left = dot(S,V)\n",
      "    right = dot(U.T,y)\n",
      "    # Therefore, this does not involve inverse matrix\n",
      "    return numpy.linalg.solve(left,right)\n",
      "\n",
      "print \"The beta computed by f2 is:\"\n",
      "print f2 (X,y)"
     ],
     "language": "python",
     "metadata": {},
     "outputs": [
      {
       "output_type": "stream",
       "stream": "stdout",
       "text": [
        "The beta computed by f2 is:\n",
        "[  4.70119624e-01   9.61722604e-02   9.05820027e-01  -2.76229236e+12\n",
        "   5.24730332e-01   2.76229236e+11]\n"
       ]
      }
     ],
     "prompt_number": 332
    },
    {
     "cell_type": "heading",
     "level": 6,
     "metadata": {},
     "source": [
      "Question 3: Note that carefully designed algorithms can solve this ill-conditioned problem, which is why you should always use library functions for linear algebra rather than write your own.\n",
      "np.linalg.lstsq(x, y)[0]"
     ]
    },
    {
     "cell_type": "code",
     "collapsed": false,
     "input": [
      "# f3 is function using library functions for linear algebra. \n",
      "X = np.load('x.npy')\n",
      "y = np.load('y.npy')\n",
      "def f3 (X,y):\n",
      "    return np.linalg.lstsq(X, y)[0]\n",
      "\n",
      "print \"This is the beta computed by f3:\"\n",
      "print f3(X,y)\n",
      "print \"\\n\"\n",
      "print \"This is the b.npy stored in the system:\"\n",
      "beta = np.load('b.npy')\n",
      "print beta"
     ],
     "language": "python",
     "metadata": {},
     "outputs": [
      {
       "output_type": "stream",
       "stream": "stdout",
       "text": [
        "This is the beta computed by f3:\n",
        "[ 0.46950359  0.09617226  0.90379971  0.00945473  0.52517152  0.09454725]\n",
        "\n",
        "\n",
        "This is the b.npy stored in the system:\n",
        "[ 0.46923853  0.09617226  0.90337017  0.11949047  0.52479938  0.083623  ]\n"
       ]
      }
     ],
     "prompt_number": 333
    },
    {
     "cell_type": "heading",
     "level": 6,
     "metadata": {},
     "source": [
      "Question 4: What happens if you try to solve for $\\beta$ using f1 or f2? Remove the column of X that is making the matrix singluar and find the p\u22121 vector b using f2."
     ]
    },
    {
     "cell_type": "markdown",
     "metadata": {},
     "source": [
      "If I try to solve for $\\beta$ using f1 or f2, f1 is not computable. f2 will give the inaccurate answer. \n",
      "Then I remove the column 4 of X, colomn 4 is exactly the same as colomn 6, it is making the matrix singluar.\n",
      "The output below is how I find the p\u22121 vector b using f2. The solution computed from f2 will be the same as \n",
      "the solution computed from f3."
     ]
    },
    {
     "cell_type": "code",
     "collapsed": false,
     "input": [
      "# Remove the column of X that is making the matrix singluar and find the p\u22121 vector b using f2.\n",
      "X = np.load('x.npy')\n",
      "y = np.load('y.npy')\n",
      "\n",
      "# X and y is not solvable by using function f1\n",
      "#print f1 (X,y)\n",
      "\n",
      "# If I use f2 to solve the function, the answer is inaccurate\n",
      "print \"This is the beta computed by the f2 before removing the singular colomn:\"\n",
      "print f2(X,y)\n",
      "print \"\\n\"\n",
      "#remove the column 4 of X\n",
      "newX = X[:,[0,1,2,4,5]]\n",
      "\n",
      "print \"This is the beta computed by the f2:\"\n",
      "print f2 (newX,y)\n",
      "print \"\\n\"\n",
      "print \"This is the beta computed by the f3:\"\n",
      "print f3 (newX,y)\n",
      "print \"\\n\"\n",
      "print \"The beta computed by f2 and f3 (np.linalg.lstsq) are almost the same.\""
     ],
     "language": "python",
     "metadata": {},
     "outputs": [
      {
       "output_type": "stream",
       "stream": "stdout",
       "text": [
        "This is the beta computed by the f2 before removing the singular colomn:\n",
        "[  4.70119624e-01   9.61722604e-02   9.05820027e-01  -2.76229236e+12\n",
        "   5.24730332e-01   2.76229236e+11]\n",
        "\n",
        "\n",
        "This is the beta computed by the f2:\n",
        "[ 0.47205826  0.09617226  0.90400172  0.52337497  0.09544283]\n",
        "\n",
        "\n",
        "This is the beta computed by the f3:\n",
        "[ 0.46950359  0.09617226  0.90379971  0.52517152  0.09549273]\n",
        "\n",
        "\n",
        "The beta computed by f2 and f3 (np.linalg.lstsq) are almost the same.\n"
       ]
      }
     ],
     "prompt_number": 334
    },
    {
     "cell_type": "heading",
     "level": 6,
     "metadata": {},
     "source": [
      "Question 5: Note that the solution differs from that given by np.linalg.lstsq? This arises because the relevant condition number for f2 is actually for the matrix XTX while the condition number of lstsq is for the matrix X. Why is the condition so high even after removing the column that makes the matrix singular?"
     ]
    },
    {
     "cell_type": "code",
     "collapsed": false,
     "input": [
      "print \"This is the beta computed by the f3:\"\n",
      "print f3 (newX,y)\n",
      "print \"\\n\"\n",
      "print \"The reason that the condition is so high even after removing the colomn is\"\n",
      "print \"because But the resulting non-singular matrix may be useless. The perturbed\"\n",
      "print \"matrix may be theoretically invertible but practically non-invertible.\""
     ],
     "language": "python",
     "metadata": {},
     "outputs": [
      {
       "output_type": "stream",
       "stream": "stdout",
       "text": [
        "This is the beta computed by the f3:\n",
        "[ 0.46950359  0.09617226  0.90379971  0.52517152  0.09549273]\n",
        "\n",
        "\n",
        "The reason that the condition is so high even after removing the colomn is\n",
        "because But the resulting non-singular matrix may be useless. The perturbed\n",
        "matrix may be theoretically invertible but practically non-invertible.\n"
       ]
      }
     ],
     "prompt_number": 335
    },
    {
     "cell_type": "markdown",
     "metadata": {},
     "source": [
      "**Exercise 3 (10 pts)**. Importance of using efficient algorihtms.\n",
      "\n",
      "- Implement bubble sort\n",
      "- Calculate its big $\\mathcal{O}$ algorithmic complexity\n",
      "- Time the performance of bubble sort on random uniform deviate vectors of sizes `range(100, 2000, 100)` using `time.time()` from the standard library\n",
      "- Use `scipy.optimize.curve_fit` to fit an appropriate function to the collection of (size, execution time) data points. Extrapolate how long it would take to sort a random vector of size 1,000,000. Now time how long it takes for the system sort to sort a random vector of size 1,000,000.\n",
      "- Plot the fits together with the data points uisng `matplotlib.pyplot` functions."
     ]
    },
    {
     "cell_type": "code",
     "collapsed": false,
     "input": [
      "import time\n",
      "from scipy.interpolate import spline\n",
      "\n",
      "# Define and implement the function of bubble sort\n",
      "# This algorithm might take a slight longer time, because\n",
      "# this is an inefficient sort algorithm.\n",
      "def bubbleSort (list):\n",
      "    length = len(list)\n",
      "    # sort the function \n",
      "    for i in range(length):\n",
      "        for j in range(length-1):\n",
      "            if list[j]>list[j+1]:\n",
      "                list[j], list[j+1] = list[j+1], list[j] \n",
      "    return list\n",
      "\n",
      "print \"The calculation of big O algorithmic complexity for my algorithm is shown \"\n",
      "print \"throught the computaion time. For this question, it is O(n^2)\"\n",
      "print \"\\n\"\n",
      "# Time the performance of bubble sort on random uniform \n",
      "# deviate vectors of sizes range(100, 2000, 100) \n",
      "size = range(100, 2000, 100)\n",
      "sizeLen = len(size)\n",
      "timeEff = []\n",
      "for k in range(sizeLen):\n",
      "    start_time = time.time()\n",
      "    # uniform deviate vectors of sizes range from 100 to 2000 by 100 increase \n",
      "    my_list = np.random.uniform(0,1,size[k])\n",
      "    bubbleSort(my_list)\n",
      "    end_time = time.time()\n",
      "    # Calculate time spent on each size\n",
      "    timeEff.append(end_time - start_time)\n",
      "print \"Below is the time each of the 20 list take to finish the bubble sort:\"\n",
      "print timeEff\n"
     ],
     "language": "python",
     "metadata": {},
     "outputs": [
      {
       "output_type": "stream",
       "stream": "stdout",
       "text": [
        "The calculation of big O algorithmic complexity for my algorithm is shown \n",
        "throught the computaion time. For this question, it is O(n^2)\n",
        "\n",
        "\n",
        "Below is the time each of the 20 list take to finish the bubble sort:"
       ]
      },
      {
       "output_type": "stream",
       "stream": "stdout",
       "text": [
        "\n",
        "[0.004402875900268555, 0.01564812660217285, 0.04027986526489258, 0.06238293647766113, 0.10354495048522949, 0.14472198486328125, 0.20257902145385742, 0.25484585762023926, 0.3293788433074951, 0.4090301990509033, 0.5029749870300293, 0.6039221286773682, 0.6663851737976074, 0.8154110908508301, 0.8789160251617432, 0.9786550998687744, 1.1373701095581055, 1.277663230895996, 1.4235899448394775]\n"
       ]
      }
     ],
     "prompt_number": 336
    },
    {
     "cell_type": "code",
     "collapsed": false,
     "input": [
      "import numpy as np\n",
      "from scipy.optimize import curve_fit\n",
      "import matplotlib.pyplot as mpl\n",
      "# Use scipy.optimize.curve_fit to fit an appropriate function \n",
      "# to the collection of (size, execution time) data points\n",
      "\n",
      "# By visualizing the pattern of data, we know this is a polynomial curve\n",
      "# Use scipy.optimize.curve_fit to fit the polynomial function\n",
      "def func(x, a, b, c):\n",
      "    # a: constant; b: coefficient for the x; c: coefficient for x^2\n",
      "    return a + b*x + c*(x**2)\n",
      "\n",
      "# popt is the coefficients\n",
      "popt, pcov = curve_fit(func, size, timeEff)\n",
      "\n",
      "\n",
      "print \"The coefficients for the polynomial is: \"\n",
      "print \"NOTE: the coefficient might not be the same for each computation due to the differnet time efficiency\"\n",
      "print popt\n",
      "print \"\\n\"\n",
      "print \"The is the seconds that the bubble sort needs to compute when the length of the list is 1000000: \"\n",
      "print 6.23007360e-03 - 2.99826738e-05 * 1000000 + 4.03442468e-07 * 1000000**2\n"
     ],
     "language": "python",
     "metadata": {},
     "outputs": [
      {
       "output_type": "stream",
       "stream": "stdout",
       "text": [
        "The coefficients for the polynomial is: \n",
        "NOTE: the coefficient might not be the same for each computation due to the differnet time efficiency\n",
        "[ -1.02397877e-02   4.88232604e-05   3.69174756e-07]\n",
        "\n",
        "\n",
        "The is the seconds that the bubble sort needs to compute when the length of the list is 1000000: \n",
        "403412.491556\n"
       ]
      }
     ],
     "prompt_number": 337
    },
    {
     "cell_type": "markdown",
     "metadata": {},
     "source": [
      "After computing the coefficients, we can compute the fitted value for n = 1000000. As the time it takes to compute the 20 list is different each time when I run it, the estimated coefficients might not be exactly the same. But I use one result from the previous run, the coefficients are 6.23007360e-03, -2.99826738e-05, 4.03442468e-07. Therefore, we need plug 1000000 into the polynomial function:\n",
      "$$6.23007360e-03 - 2.99826738e-05 * 1000000 + 4.03442468e-07 * 1000000^2$$\n",
      "The result is 403412.491556 seconds. "
     ]
    },
    {
     "cell_type": "code",
     "collapsed": false,
     "input": [
      "# Use the system sort for the 1000000 random vector\n",
      "# Construct the list with 1000000 elements:\n",
      "new_list = np.random.uniform(0,1,1000000)\n",
      "start_time = time.time()\n",
      "\n",
      "# sort it and time it\n",
      "sort(new_list)\n",
      "end_time = time.time()\n",
      "timeSpend = end_time - start_time\n",
      "print \"This is the length it takes for the system sort to sort a random vector of size 1,000,000:\"\n",
      "print timeSpend"
     ],
     "language": "python",
     "metadata": {},
     "outputs": [
      {
       "output_type": "stream",
       "stream": "stdout",
       "text": [
        "This is the length it takes for the system sort to sort a random vector of size 1,000,000:\n",
        "0.268663883209\n"
       ]
      }
     ],
     "prompt_number": 338
    },
    {
     "cell_type": "code",
     "collapsed": false,
     "input": [
      "# Plot the fits together with the data points uisng matplotlib.pyplot functions.\n",
      "import matplotlib.pyplot as plt\n",
      "xp = np.linspace(0, 2000, 20000)\n",
      "z = np.polyfit(size, timeEff, 2)\n",
      "# p is the fitted line\n",
      "p = np.poly1d(z)\n",
      "\n",
      "# The dot is the time we actually get for each vector\n",
      "# The smooth line is the fitted line\n",
      "_ = plt.plot(size, timeEff, '.', xp, p(xp))\n",
      "plt.xlabel('Size of input (n)', fontsize=16)\n",
      "plt.ylabel('Time of operations', fontsize=16)\n",
      "plt.legend(['$\\mathcal{O}(n^2)$'], loc='best', fontsize=20);"
     ],
     "language": "python",
     "metadata": {},
     "outputs": [
      {
       "metadata": {},
       "output_type": "display_data",
       "png": "[encoded data removed]",
       "text": [
        "<matplotlib.figure.Figure at 0x7f10ceb93a50>"
       ]
      }
     ],
     "prompt_number": 339
    },
    {
     "cell_type": "markdown",
     "metadata": {},
     "source": [
      "**Exercise 4 (20 pts)**. One of the goals of the course it that you will be able to implement novel algorihtms from the literature. \n",
      "\n",
      "- Implement the mean-shift algorithm in 1D as described [here](http://homepages.inf.ed.ac.uk/rbf/CVonline/LOCAL_COPIES/TUZEL1/MeanShift.pdf). \n",
      "    - Use the following function signature\n",
      "    ```python\n",
      "    def mean_shift(xs, x, kernel, max_iters=100, tol=1e-6):\n",
      "    ```\n",
      "    - xs is the data set, x is the starting location, and kernel is a kernel function\n",
      "    - tol is the difference in $||x||$ across iterations\n",
      "- Use the following kernels with bandwidth $h$ (a default value of 1.0 will work fine)\n",
      "    - Flat - return 1 if $||x|| < h$ and 0 otherwise\n",
      "    - Gaussian \n",
      "    $$\\frac{1}{\\sqrt{2 \\pi h}}e^{\\frac{-||x||^2}{h^2}}$$\n",
      "    - Note that $||x||$ is the norm of the data point being evaluated minus the current value of $x$\n",
      "- Use both kernels to find all 3 modes of the data set in `x1d.npy`\n",
      "- Modify the algorithm and/or kernels so that it now works in an arbitrary number of dimensions.\n",
      "- Use both kernels to find all 3 modes of the data set in `x2d.npy`\n",
      "- Plot the path of successive intermediate solutions of the mean-shift algorithm starting from `x0 = (-4, 10)` until it converges onto a mode in the 2D data for each kernel. Superimpose the path on top of a contour plot of the data density."
     ]
    },
    {
     "cell_type": "code",
     "collapsed": false,
     "input": [
      "# visualize the 1-dimensional data set \n",
      "import matplotlib\n",
      "import pylab\n",
      "\n",
      "\n",
      "x1d = np.load('x1d.npy')\n",
      "\n",
      "matplotlib.pyplot.hist(x1d)\n",
      "matplotlib.pyplot.show()"
     ],
     "language": "python",
     "metadata": {},
     "outputs": [
      {
       "metadata": {},
       "output_type": "display_data",
       "png": "[encoded data removed]",
       "text": [
        "<matplotlib.figure.Figure at 0x7f10ce967390>"
       ]
      }
     ],
     "prompt_number": 340
    },
    {
     "cell_type": "code",
     "collapsed": false,
     "input": [
      "# visualize the 2-dimensional data set \n",
      "import matplotlib\n",
      "import pylab\n",
      "\n",
      "x2d = np.load('x2d.npy')\n",
      "matplotlib.pyplot.scatter(x2d[:,1],x2d[:,0])\n",
      "matplotlib.pyplot.show()"
     ],
     "language": "python",
     "metadata": {},
     "outputs": [
      {
       "metadata": {},
       "output_type": "display_data",
       "png": "[encoded data removed]",
       "text": [
        "<matplotlib.figure.Figure at 0x7f10cea8d710>"
       ]
      }
     ],
     "prompt_number": 341
    },
    {
     "cell_type": "code",
     "collapsed": false,
     "input": [
      "### This is the code I used before revising for the 2-dimensional data\n",
      "'''\n",
      "from numpy import linalg as LA\n",
      "\n",
      "# Implement the flat kernel\n",
      "def flat_kernel(xs, x, h = 1):\n",
      "    num = sum([points* (1 if LA.norm(points-x) < h else 0) for points in xs])\n",
      "    denom = sum([(1 if LA.norm(points-x) < h else 0) for points in xs])\n",
      "    mx = num/denom - x\n",
      "    return mx   \n",
      "\n",
      "# Implement the gaussian kernel:\n",
      "def gaussian_kernel(xs, x, h = 1):\n",
      "    num = sum([points*exp(-1.0*pow(LA.norm(points-x),2)/pow(h,2)) for points in xs],0)\n",
      "    denom = sum([exp(-1.0*pow(LA.norm(points-x),2)/pow(h,2)) for points in xs],0)\n",
      "    mx = num/denom - x\n",
      "    return mx\n",
      "\n",
      "# This is for the mean shift part: for my code, there does not really need modification\n",
      "# because the norm can also be used for high dimensianal \n",
      "def mean_shift(xs, x, kernel, max_iters=100, tol=1e-6):\n",
      "    inter = 0\n",
      "    mod = []\n",
      "    boolean = True\n",
      "    xt = x\n",
      "    xStore = []\n",
      "    yStore = []\n",
      "    while boolean == True:\n",
      "        mx = kernel(xs, xt, h) #default h = 1\n",
      "        #print mx\n",
      "        newXt = xt + mx\n",
      "        if LA.norm(newXt-xt) < tol or inter > max_iters:\n",
      "            mod.append(newXt)\n",
      "            boolean = False       \n",
      "        xt = newXt\n",
      "        xStore.append(xt[0])\n",
      "        yStore.append(xt[1])\n",
      "        inter = inter + 1\n",
      "    return xStore,yStore\n",
      "\n",
      "x2d = np.load('x2d.npy')\n",
      "xs = x2d\n",
      "# for Gaussian Kernel\n",
      "x1 = np.array([3,3])\n",
      "path1_G = mean_shift(xs, x1, gaussian_kernel, max_iters=100, tol=1e-6)\n",
      "x2 = np.array([-3,3])\n",
      "path2_G = mean_shift(xs, x2, gaussian_kernel, max_iters=100, tol=1e-6)\n",
      "x3 = np.array([10,10])\n",
      "path3_G = mean_shift(xs, x2, gaussian_kernel, max_iters=100, tol=1e-6)\n",
      "'''\n"
     ],
     "language": "python",
     "metadata": {},
     "outputs": [
      {
       "metadata": {},
       "output_type": "pyout",
       "prompt_number": 342,
       "text": [
        "\"\\nfrom numpy import linalg as LA\\n\\n# Implement the flat kernel\\ndef flat_kernel(xs, x, h = 1):\\n    num = sum([points* (1 if LA.norm(points-x) < h else 0) for points in xs])\\n    denom = sum([(1 if LA.norm(points-x) < h else 0) for points in xs])\\n    mx = num/denom - x\\n    return mx   \\n\\n# Implement the gaussian kernel:\\ndef gaussian_kernel(xs, x, h = 1):\\n    num = sum([points*exp(-1.0*pow(LA.norm(points-x),2)/pow(h,2)) for points in xs],0)\\n    denom = sum([exp(-1.0*pow(LA.norm(points-x),2)/pow(h,2)) for points in xs],0)\\n    mx = num/denom - x\\n    return mx\\n\\n# This is for the mean shift part: for my code, there does not really need modification\\n# because the norm can also be used for high dimensianal \\ndef mean_shift(xs, x, kernel, max_iters=100, tol=1e-6):\\n    inter = 0\\n    mod = []\\n    boolean = True\\n    xt = x\\n    xStore = []\\n    yStore = []\\n    while boolean == True:\\n        mx = kernel(xs, xt, h) #default h = 1\\n        #print mx\\n        newXt = xt + mx\\n        if LA.norm(newXt-xt) < tol or inter > max_iters:\\n            mod.append(newXt)\\n            boolean = False       \\n        xt = newXt\\n        xStore.append(xt[0])\\n        yStore.append(xt[1])\\n        inter = inter + 1\\n    return xStore,yStore\\n\\nx2d = np.load('x2d.npy')\\nxs = x2d\\n# for Gaussian Kernel\\nx1 = np.array([3,3])\\npath1_G = mean_shift(xs, x1, gaussian_kernel, max_iters=100, tol=1e-6)\\nx2 = np.array([-3,3])\\npath2_G = mean_shift(xs, x2, gaussian_kernel, max_iters=100, tol=1e-6)\\nx3 = np.array([10,10])\\npath3_G = mean_shift(xs, x2, gaussian_kernel, max_iters=100, tol=1e-6)\\n\""
       ]
      }
     ],
     "prompt_number": 342
    },
    {
     "cell_type": "code",
     "collapsed": false,
     "input": [
      "# This is the revised function I used for both 1 and 2- dimensional computation\n",
      "from numpy import linalg as LA\n",
      "\n",
      "# Implement flat kernel\n",
      "def flat_kernel(xs, x, h = 1):\n",
      "    denom = 0.0\n",
      "    # This can be versitile multi-dimensional \n",
      "    num = 0.0 * x\n",
      "    # Mean shift\n",
      "    for points in xs:\n",
      "        # compute the flat norm\n",
      "        if LA.norm(points-x) < h:\n",
      "            denom += 1\n",
      "            num = num + points\n",
      "    mx = num/denom - x\n",
      "    # return the moving distance\n",
      "    return mx\n",
      "\n",
      "# Implement gaussian kernel\n",
      "def gaussian_kernel(xs, x, h = 1):\n",
      "    denom = 0.0\n",
      "    # This can be versitile multi-dimensional \n",
      "    num = 0.0 * x\n",
      "    # Mean shift\n",
      "    for points in xs:\n",
      "        # compute the gaussian norm\n",
      "        a = exp(-1.0*pow(LA.norm(points-x),2)/pow(h,2))\n",
      "        num = num + points * a\n",
      "        denom += a\n",
      "    mx = num/denom - x\n",
      "    # return the moving distance\n",
      "    return mx\n",
      "\n",
      "# Implement the mean shift function\n",
      "def mean_shift(xs, x, kernel, max_iters=100, tol=1e-6):\n",
      "    inter = 0\n",
      "    # store the mode into mod\n",
      "    mod = []\n",
      "    # x is the start point\n",
      "    xt = x\n",
      "    # break criteria\n",
      "    while inter <= max_iters:\n",
      "        mx = kernel(xs, xt, h) #default h = 1\n",
      "        # break criteria\n",
      "        if LA.norm(mx) <= tol:\n",
      "            #mod.append(xt)\n",
      "            break\n",
      "        # new point moved by mx based on xt\n",
      "        xt = xt + mx\n",
      "        # Calculate iteration\n",
      "        inter = inter + 1\n",
      "    mod.append(xt)\n",
      "    return mod\n",
      "\n",
      "x1d = np.load('x1d.npy')\n",
      "x2d = np.load('x2d.npy')\n",
      "xs = x2d\n",
      "\n",
      "x1 =  np.array([3,3])\n",
      "x2 =  np.array([-3,3])\n",
      "x3 =  np.array([10,10])\n",
      "\n",
      "print \"For the two dimensional data, the start points I use is (3,3), (-3,3), (10,10)\"\n",
      "print \"\\n\"\n",
      "print \"This is the max points 1 found by the flat kernel: \"\n",
      "print mean_shift(xs, x1, flat_kernel, max_iters=100, tol=1e-6)\n",
      "print \"\\n\"\n",
      "print \"This is the max points 1 found by the gaussian_kernel: \"\n",
      "print mean_shift(xs, x1, gaussian_kernel, max_iters=100, tol=1e-6)\n",
      "print \"\\n\"\n",
      "print \"This is the max points 2 found by the flat kernel: \"\n",
      "print mean_shift(xs, x2, flat_kernel, max_iters=100, tol=1e-6)\n",
      "print \"\\n\"\n",
      "print \"This is the max points 2 found by the gaussian_kernel: \"\n",
      "print mean_shift(xs, x2, gaussian_kernel, max_iters=100, tol=1e-6)\n",
      "print \"\\n\"\n",
      "print \"This is the max points 3 found by the flat kernel: \"\n",
      "print mean_shift(xs, x3, flat_kernel, max_iters=100, tol=1e-6)\n",
      "print \"\\n\"\n",
      "print \"This is the max points 3 found by the gaussian_kernel: \"\n",
      "print mean_shift(xs, x3, gaussian_kernel, max_iters=100, tol=1e-6)\n",
      "\n",
      "x1 =  -7\n",
      "x2 =  1\n",
      "x3 =  7\n",
      "xs = x1d\n",
      "print \"For the one dimensional data, the start points I use is -7, 1, 7\"\n",
      "print \"\\n\"\n",
      "print \"This is the max points 1 found by the flat kernel: \"\n",
      "print mean_shift(xs, x1, flat_kernel, max_iters=100, tol=1e-6)\n",
      "print \"\\n\"\n",
      "print \"This is the max points 1 found by the gaussian kernel: \"\n",
      "print mean_shift(xs, x1, gaussian_kernel, max_iters=100, tol=1e-6)\n",
      "print \"\\n\"\n",
      "print \"This is the max points 2 found by the flat kernel: \"\n",
      "print mean_shift(xs, x2, flat_kernel, max_iters=100, tol=1e-6)\n",
      "print \"\\n\"\n",
      "print \"This is the max points 2 found by the gaussian kernel: \"\n",
      "print mean_shift(xs, x2, gaussian_kernel, max_iters=100, tol=1e-6)\n",
      "print \"\\n\"\n",
      "print \"This is the max points 3 found by the flat kernel: \"\n",
      "print mean_shift(xs, x3, flat_kernel, max_iters=100, tol=1e-6)\n",
      "print \"\\n\"\n",
      "print \"This is the max points 3 found by the gaussian kernel: \"\n",
      "print mean_shift(xs, x3, gaussian_kernel, max_iters=100, tol=1e-6)"
     ],
     "language": "python",
     "metadata": {},
     "outputs": [
      {
       "output_type": "stream",
       "stream": "stdout",
       "text": [
        "For the two dimensional data, the start points I use is (3,3), (-3,3), (10,10)\n",
        "\n",
        "\n",
        "This is the max points 1 found by the flat kernel: \n",
        "[array([ 2.30098466,  2.89586576])]"
       ]
      },
      {
       "output_type": "stream",
       "stream": "stdout",
       "text": [
        "\n",
        "\n",
        "\n",
        "This is the max points 1 found by the gaussian_kernel: \n",
        "[array([ 2.20847034,  2.85186003])]"
       ]
      },
      {
       "output_type": "stream",
       "stream": "stdout",
       "text": [
        "\n",
        "\n",
        "\n",
        "This is the max points 2 found by the flat kernel: \n",
        "[array([-3.08261867,  3.05387831])]"
       ]
      },
      {
       "output_type": "stream",
       "stream": "stdout",
       "text": [
        "\n",
        "\n",
        "\n",
        "This is the max points 2 found by the gaussian_kernel: \n",
        "[array([-3.03944052,  3.05647199])]"
       ]
      },
      {
       "output_type": "stream",
       "stream": "stdout",
       "text": [
        "\n",
        "\n",
        "\n",
        "This is the max points 3 found by the flat kernel: \n",
        "[array([ 6.09393808,  8.88086643])]"
       ]
      },
      {
       "output_type": "stream",
       "stream": "stdout",
       "text": [
        "\n",
        "\n",
        "\n",
        "This is the max points 3 found by the gaussian_kernel: \n",
        "[array([ 6.02546049,  9.01139339])]"
       ]
      },
      {
       "output_type": "stream",
       "stream": "stdout",
       "text": [
        "\n",
        "For the one dimensional data, the start points I use is -7, 1, 7\n",
        "\n",
        "\n",
        "This is the max points 1 found by the flat kernel: \n",
        "[-4.9950246796462965]"
       ]
      },
      {
       "output_type": "stream",
       "stream": "stdout",
       "text": [
        "\n",
        "\n",
        "\n",
        "This is the max points 1 found by the gaussian kernel: \n",
        "[-4.9297892605995077]"
       ]
      },
      {
       "output_type": "stream",
       "stream": "stdout",
       "text": [
        "\n",
        "\n",
        "\n",
        "This is the max points 2 found by the flat kernel: \n",
        "[0.57546743545549206]"
       ]
      },
      {
       "output_type": "stream",
       "stream": "stdout",
       "text": [
        "\n",
        "\n",
        "\n",
        "This is the max points 2 found by the gaussian kernel: \n",
        "[0.55837558694675415]"
       ]
      },
      {
       "output_type": "stream",
       "stream": "stdout",
       "text": [
        "\n",
        "\n",
        "\n",
        "This is the max points 3 found by the flat kernel: \n",
        "[3.9793641765699981]"
       ]
      },
      {
       "output_type": "stream",
       "stream": "stdout",
       "text": [
        "\n",
        "\n",
        "\n",
        "This is the max points 3 found by the gaussian kernel: \n",
        "[3.8853814248708769]"
       ]
      },
      {
       "output_type": "stream",
       "stream": "stdout",
       "text": [
        "\n"
       ]
      }
     ],
     "prompt_number": 343
    },
    {
     "cell_type": "markdown",
     "metadata": {},
     "source": [
      "Plot the path of successive intermediate solutions of the mean-shift algorithm starting from x0 = (-4, 10) until it converges onto a mode in the 2D data for each kernel. Superimpose the path on top of a contour plot of the data density."
     ]
    },
    {
     "cell_type": "code",
     "collapsed": false,
     "input": [
      "# This is the revised function I used for both 1 and 2- dimensional computation\n",
      "from numpy import linalg as LA\n",
      "\n",
      "# Implement flat kernel\n",
      "def flat_kernel(xs, x, h = 1):\n",
      "    denom = 0.0\n",
      "    # This can be versitile multi-dimensional \n",
      "    num = 0.0 * x\n",
      "    # Mean shift\n",
      "    for points in xs:\n",
      "        # compute the flat norm\n",
      "        if LA.norm(points-x) < h:\n",
      "            denom += 1\n",
      "            num = num + points\n",
      "    mx = num/denom - x\n",
      "    # return the moving distance\n",
      "    return mx\n",
      "\n",
      "# Implement gaussian kernel\n",
      "def gaussian_kernel(xs, x, h = 1):\n",
      "    denom = 0.0\n",
      "    # This can be versitile multi-dimensional \n",
      "    num = 0.0 * x\n",
      "    # Mean shift\n",
      "    for points in xs:\n",
      "        # compute the gaussian norm\n",
      "        a = exp(-1.0*pow(LA.norm(points-x),2)/pow(h,2))\n",
      "        num = num + points * a\n",
      "        denom += a\n",
      "    mx = num/denom - x\n",
      "    # return the moving distance\n",
      "    return mx\n",
      "\n",
      "# Implement the mean shift function\n",
      "def mean_shift(xs, x, kernel, max_iters=100, tol=1e-6):\n",
      "    inter = 0\n",
      "    # store the mode into mod\n",
      "    mod = []\n",
      "    # x is the start point\n",
      "    xt = x\n",
      "    # break criteria\n",
      "    xStore = []\n",
      "    yStore = []\n",
      "    while inter <= max_iters:\n",
      "        mx = kernel(xs, xt, h) #default h = 1\n",
      "        # break criteria\n",
      "        if LA.norm(mx) <= tol:\n",
      "            #mod.append(xt)\n",
      "            break\n",
      "        # new point moved by mx based on xt\n",
      "        xt = xt + mx\n",
      "        # Calculate iteration\n",
      "        inter = inter + 1\n",
      "        xStore.append(xt[0])\n",
      "        yStore.append(xt[1])\n",
      "    mod.append(xt)\n",
      "    return xStore,yStore\n",
      "\n",
      "x1d = np.load('x1d.npy')\n",
      "x2d = np.load('x2d.npy')\n",
      "xs = x2d\n",
      "\n",
      "x1 =  np.array([3,3])\n",
      "x2 =  np.array([-5,5])\n",
      "x3 =  np.array([10,10])\n",
      "\n",
      "flat1 = mean_shift(xs, x1, flat_kernel, max_iters=100, tol=1e-6)\n",
      "flat2 = mean_shift(xs, x2, flat_kernel, max_iters=100, tol=1e-6)\n",
      "flat3 = mean_shift(xs, x3, flat_kernel, max_iters=100, tol=1e-6)\n",
      "g1 = mean_shift(xs, x1, gaussian_kernel, max_iters=100, tol=1e-6)\n",
      "g2 = mean_shift(xs, x2, gaussian_kernel, max_iters=100, tol=1e-6)\n",
      "g3 = mean_shift(xs, x3, gaussian_kernel, max_iters=100, tol=1e-6)"
     ],
     "language": "python",
     "metadata": {},
     "outputs": [],
     "prompt_number": 344
    },
    {
     "cell_type": "code",
     "collapsed": false,
     "input": [
      "from numpy import *\n",
      "import math\n",
      "import matplotlib.pyplot as plt\n",
      "\n",
      "import matplotlib\n",
      "import pylab\n",
      "\n",
      "# Here is the path plot for the 6 path for both kernels\n",
      "matplotlib.pyplot.scatter(x2d[:,1],x2d[:,0])\n",
      "plt.plot(flat1[0],flat1[1],'r')\n",
      "plt.plot(flat2[0],flat2[1],'b')\n",
      "plt.plot(flat3[0],flat3[1],'g')\n",
      "plt.plot(g1[0],g1[1],'r')\n",
      "plt.plot(g2[0],g2[1],'b')\n",
      "plt.plot(g3[0],g3[1],'g')\n",
      "plt.show()"
     ],
     "language": "python",
     "metadata": {},
     "outputs": [
      {
       "metadata": {},
       "output_type": "display_data",
       "png": "[encoded data removed]",
       "text": [
        "<matplotlib.figure.Figure at 0x7f10cf06d210>"
       ]
      }
     ],
     "prompt_number": 345
    }
   ],
   "metadata": {}
  }
 ]
}