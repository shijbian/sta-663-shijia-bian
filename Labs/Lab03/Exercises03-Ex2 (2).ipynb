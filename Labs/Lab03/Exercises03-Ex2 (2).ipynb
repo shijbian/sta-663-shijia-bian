{
 "metadata": {
  "name": "",
  "signature": "sha256:4be44240f6f5f434bc306d8affc9cc3affa2d4134cec5076c5005e0789e041c9"
 },
 "nbformat": 3,
 "nbformat_minor": 0,
 "worksheets": [
  {
   "cells": [
    {
     "cell_type": "code",
     "collapsed": false,
     "input": [
      "import os\n",
      "import sys\n",
      "import glob\n",
      "import matplotlib.pyplot as plt\n",
      "import numpy as np\n",
      "import pandas as pd\n",
      "%matplotlib inline\n",
      "plt.style.use('ggplot')\n"
     ],
     "language": "python",
     "metadata": {},
     "outputs": [],
     "prompt_number": 2
    },
    {
     "cell_type": "markdown",
     "metadata": {},
     "source": [
      "**Exercise 1 (10 pts)**. Avoding catastrophic cancellation.\n",
      "\n",
      "The tail of the standard logistic distributon is given by $1 - F(t) = 1 - (1+e^{-t})^{-1}$.\n",
      "\n",
      "- Define a function `f1` to calculate the tail probability of the logistic distribution using the formula given above\n",
      "- Use `sympy` to find the exact value of the tail distribution (using the same symbolic formula) to 20 decimal digits\n",
      "- Calculate the *relative error* of `f1` when $t = 25$ (The relative error is given by `abs(exact - approximate)/exact`)\n",
      "- Rewrite the expression for the tail of the logistic distribution using simple algebra so that there is no risk of cancellation, and write a function `f2` using this formula. Calculate the *relative error* of `f2` when $t = 25$. \n",
      "- How much more accurate is `f2` compared with `f1` in terms of the relative error?"
     ]
    },
    {
     "cell_type": "code",
     "collapsed": false,
     "input": [
      "# Your code here\n",
      "\n",
      "\n",
      "\n",
      "\n"
     ],
     "language": "python",
     "metadata": {},
     "outputs": [],
     "prompt_number": 2
    },
    {
     "cell_type": "markdown",
     "metadata": {},
     "source": [
      "**Exercise 2 (10 pts)**. Ill-conditioned linear problems.\n",
      "\n",
      "You are given a $n \\times p$ design matrix $X$ and a $p$-vector of observations $y$ and asked to find the coefficients $\\beta$ that solve the linear equations $X \\beta = y$. \n",
      "```python\n",
      "X = np.load('x.npy')\n",
      "y = np.load('y.npy')\n",
      "```\n",
      "\n",
      "The solution $\\beta$ can also be loaded as\n",
      "```python\n",
      "beta = np.load('b.npy')\n",
      "```\n",
      "\n",
      "- Write a formula that could solve the system of linear equations in terms of $X$ and $y$ Write a function `f1` that takes arguments $X$ and $y$ and returns $\\beta$ using this formula.\n",
      "- How could you code this formula using `np.linalg.solve` that does not require inverting a matrix? Write a function `f2` that takes arguments $X$ and $y$ and returns $\\beta$ using this.\n",
      "- Note that carefully designed algorithms *can* solve this ill-conditioned problem, which is why you should always use library functions for linear algebra rather than write your own.\n",
      "```python\n",
      "np.linalg.lstsq(x, y)[0]\n",
      "```\n",
      "- What happens if you try to solve for $\\beta$ using `f1` or `f2`? Remove the column of $X$ that is making the matrix singluar and find the $p-1$ vector $b$ using `f2`.\n",
      "- Note that the solution differs from that given by `np.linalg.lstsq`? This arises because the relevant condition number for `f2` is actually for the matrix $X^TX$ while the condition number of `lstsq` is for the matrix $X$. Why is the condition so high even after removing the column that makes the matrix singular?"
     ]
    },
    {
     "cell_type": "code",
     "collapsed": false,
     "input": [
      "# Your code here\n",
      "import numpy.linalg as la\n",
      "\n",
      "# Function f1: \n",
      "# Pre: solve the system of linear equations given X and y\n",
      "# Post: return beta\n",
      "def f1 (A, Y):\n",
      "    xmat = np.mat(A)\n",
      "    ymat = np.mat(Y).T \n",
      "    return np.dot(np.dot(la.inv(np.dot(xmat.T, xmat)), xmat.T), Y)\n",
      "\n",
      "#How could you code this formula using np.linalg.solve that does not require inverting a matrix? \n",
      "# Because the matrix is singular and is not invertible"
     ],
     "language": "python",
     "metadata": {},
     "outputs": [],
     "prompt_number": 41
    },
    {
     "cell_type": "code",
     "collapsed": false,
     "input": [
      "X = np.load('x.npy')\n",
      "y = np.load('y.npy')\n",
      "\n",
      "#Write a function f2 that takes arguments X and y and returns \u03b2 using this\n",
      "def f2 (X,y):\n",
      "    U,s,V = numpy.linalg.svd(X, full_matrices=False)\n",
      "    S = np.diag(s)\n",
      "    left = dot(S,V)\n",
      "    right = dot(U.T,y)\n",
      "    return numpy.linalg.solve(left,right)\n",
      "\n",
      "print f2 (X,y)\n"
     ],
     "language": "python",
     "metadata": {},
     "outputs": [
      {
       "output_type": "stream",
       "stream": "stdout",
       "text": [
        "[  4.70119624e-01   9.61722604e-02   9.05820027e-01  -2.76229236e+12\n",
        "   5.24730332e-01   2.76229236e+11]\n"
       ]
      }
     ],
     "prompt_number": 50
    },
    {
     "cell_type": "code",
     "collapsed": false,
     "input": [
      "#use library functions for linear algebra rather than write your own.\n",
      "X = np.load('x.npy')\n",
      "y = np.load('y.npy')\n",
      "def f3 (X,y):\n",
      "    return np.linalg.lstsq(X, y)[0]\n",
      "print f3(X,y)\n",
      "\n",
      "beta = np.load('b.npy')\n",
      "print beta"
     ],
     "language": "python",
     "metadata": {},
     "outputs": [
      {
       "output_type": "stream",
       "stream": "stdout",
       "text": [
        "[ 0.46950359  0.09617226  0.90379971  0.00945473  0.52517152  0.09454725]\n",
        "[ 0.46923853  0.09617226  0.90337017  0.11949047  0.52479938  0.083623  ]\n"
       ]
      }
     ],
     "prompt_number": 21
    },
    {
     "cell_type": "code",
     "collapsed": false,
     "input": [
      "#What happens if you try to solve for \u03b2 using f1 or f2? \n",
      "# f1 has the singular matrix: X.T*X, so it does not have inverse.\n",
      "# ???\n",
      "\n",
      "# Remove the column of X that is making the matrix singluar and find the p\u22121 vector b using f2.\n",
      "X = np.load('x.npy')\n",
      "newX = X[:,[0,1,2,4,5]]\n",
      "y = np.load('y.npy')\n",
      "\n",
      "# Note that the solution differs from that given by np.linalg.lstsq? \n",
      "print f2 (newX,y)\n",
      "print f3 (newX,y)\n",
      "\n",
      "# This arises because the relevant condition number for f2 is actually for the matrix XTX while the condition \n",
      "#number of lstsq is for the matrix X. Why is the condition so high even after removing the column that makes \n",
      "#the matrix singular?"
     ],
     "language": "python",
     "metadata": {},
     "outputs": [
      {
       "output_type": "stream",
       "stream": "stdout",
       "text": [
        "[ 0.47205826  0.09617226  0.90400172  0.52337497  0.09544283]\n",
        "[ 0.46950359  0.09617226  0.90379971  0.52517152  0.09549273]\n"
       ]
      },
      {
       "metadata": {},
       "output_type": "pyout",
       "prompt_number": 57,
       "text": [
        "True"
       ]
      }
     ],
     "prompt_number": 57
    },
    {
     "cell_type": "markdown",
     "metadata": {},
     "source": [
      "**Exercise 4 (20 pts)**. One of the goals of the course it that you will be able to implement novel algorihtms from the literature. \n",
      "\n",
      "- Implement the mean-shift algorithm in 1D as described [here](http://homepages.inf.ed.ac.uk/rbf/CVonline/LOCAL_COPIES/TUZEL1/MeanShift.pdf). \n",
      "    - Use the following function signature\n",
      "    ```python\n",
      "    def mean_shift(xs, x, kernel, max_iters=100, tol=1e-6):\n",
      "    ```\n",
      "    - xs is the data set, x is the starting location, and kernel is a kernel function\n",
      "    - tol is the difference in $||x||$ across iterations\n",
      "- Use the following kernels with bandwidth $h$ (a default value of 1.0 will work fine)\n",
      "    - Flat - return 1 if $||x|| < h$ and 0 otherwise\n",
      "    - Gaussian \n",
      "    $$\\frac{1}{\\sqrt{2 \\pi h}}e^{\\frac{-||x||^2}{h^2}}$$\n",
      "    - Note that $||x||$ is the norm of the data point being evaluated minus the current value of $x$\n",
      "- Use both kernels to find all 3 modes of the data set in `x1d.npy`\n",
      "- Modify the algorithm and/or kernels so that it now works in an arbitrary number of dimensions.\n",
      "- Use both kernels to find all 3 modes of the data set in `x2d.npy`\n",
      "- Plot the path of successive intermediate solutions of the mean-shift algorithm starting from `x0 = (-4, 10)` until it converges onto a mode in the 2D data for each kernel. Superimpose the path on top of a contour plot of the data density."
     ]
    },
    {
     "cell_type": "code",
     "collapsed": false,
     "input": [
      "x1d = np.load('x1d.npy')\n",
      "print x1d\n",
      "print len(x1d)\n"
     ],
     "language": "python",
     "metadata": {},
     "outputs": [
      {
       "ename": "IOError",
       "evalue": "[Errno 2] No such file or directory: 'x1d.npy'",
       "output_type": "pyerr",
       "traceback": [
        "\u001b[0;31m---------------------------------------------------------------------------\u001b[0m\n\u001b[0;31mIOError\u001b[0m                                   Traceback (most recent call last)",
        "\u001b[0;32m<ipython-input-3-e0f9dae4b333>\u001b[0m in \u001b[0;36m<module>\u001b[0;34m()\u001b[0m\n\u001b[0;32m----> 1\u001b[0;31m \u001b[0mx1d\u001b[0m \u001b[0;34m=\u001b[0m \u001b[0mnp\u001b[0m\u001b[0;34m.\u001b[0m\u001b[0mload\u001b[0m\u001b[0;34m(\u001b[0m\u001b[0;34m'x1d.npy'\u001b[0m\u001b[0;34m)\u001b[0m\u001b[0;34m\u001b[0m\u001b[0m\n\u001b[0m\u001b[1;32m      2\u001b[0m \u001b[0;32mprint\u001b[0m \u001b[0mx1d\u001b[0m\u001b[0;34m\u001b[0m\u001b[0m\n\u001b[1;32m      3\u001b[0m \u001b[0;32mprint\u001b[0m \u001b[0mlen\u001b[0m\u001b[0;34m(\u001b[0m\u001b[0mx1d\u001b[0m\u001b[0;34m)\u001b[0m\u001b[0;34m\u001b[0m\u001b[0m\n",
        "\u001b[0;32m/Applications/anaconda/lib/python2.7/site-packages/numpy/lib/npyio.pyc\u001b[0m in \u001b[0;36mload\u001b[0;34m(file, mmap_mode)\u001b[0m\n\u001b[1;32m    367\u001b[0m     \u001b[0mown_fid\u001b[0m \u001b[0;34m=\u001b[0m \u001b[0mFalse\u001b[0m\u001b[0;34m\u001b[0m\u001b[0m\n\u001b[1;32m    368\u001b[0m     \u001b[0;32mif\u001b[0m \u001b[0misinstance\u001b[0m\u001b[0;34m(\u001b[0m\u001b[0mfile\u001b[0m\u001b[0;34m,\u001b[0m \u001b[0mbasestring\u001b[0m\u001b[0;34m)\u001b[0m\u001b[0;34m:\u001b[0m\u001b[0;34m\u001b[0m\u001b[0m\n\u001b[0;32m--> 369\u001b[0;31m         \u001b[0mfid\u001b[0m \u001b[0;34m=\u001b[0m \u001b[0mopen\u001b[0m\u001b[0;34m(\u001b[0m\u001b[0mfile\u001b[0m\u001b[0;34m,\u001b[0m \u001b[0;34m\"rb\"\u001b[0m\u001b[0;34m)\u001b[0m\u001b[0;34m\u001b[0m\u001b[0m\n\u001b[0m\u001b[1;32m    370\u001b[0m         \u001b[0mown_fid\u001b[0m \u001b[0;34m=\u001b[0m \u001b[0mTrue\u001b[0m\u001b[0;34m\u001b[0m\u001b[0m\n\u001b[1;32m    371\u001b[0m     \u001b[0;32melif\u001b[0m \u001b[0misinstance\u001b[0m\u001b[0;34m(\u001b[0m\u001b[0mfile\u001b[0m\u001b[0;34m,\u001b[0m \u001b[0mgzip\u001b[0m\u001b[0;34m.\u001b[0m\u001b[0mGzipFile\u001b[0m\u001b[0;34m)\u001b[0m\u001b[0;34m:\u001b[0m\u001b[0;34m\u001b[0m\u001b[0m\n",
        "\u001b[0;31mIOError\u001b[0m: [Errno 2] No such file or directory: 'x1d.npy'"
       ]
      }
     ],
     "prompt_number": 3
    },
    {
     "cell_type": "code",
     "collapsed": false,
     "input": [
      "X = np.load('x.npy')\n",
      "y = np.load('y.npy')\n",
      "print 'Below is for the QR decomposition'\n",
      "q, r = numpy.linalg.qr(X)\n",
      "print 'this is the dimension for Q R', q.shape, r.shape\n",
      "print '\\n'\n",
      "print 'Below is the beta solved by Q R decomposition'\n",
      "print numpy.linalg.solve(r,dot(q.T,y))\n",
      "print '\\n'\n",
      "print 'Below is for the SVD decomposition'\n",
      "U,s,V = numpy.linalg.svd(X, full_matrices=False)\n",
      "S = np.diag(s)\n",
      "left = dot(S,V)\n",
      "right = dot(U.T,y)\n",
      "print '\\n'\n",
      "print 'Below is the beta solved by SVD decomposition'\n",
      "print numpy.linalg.solve(left,right)\n",
      "print '\\n'\n",
      "print 'Below is for the system function'\n",
      "print np.linalg.lstsq(X, y)[0]\n"
     ],
     "language": "python",
     "metadata": {},
     "outputs": [
      {
       "output_type": "stream",
       "stream": "stdout",
       "text": [
        "Below is for the QR decomposition\n",
        "this is the dimension for Q R (10, 6) (6, 6)\n",
        "\n",
        "\n",
        "Below is the beta solved by Q R decomposition\n",
        "[  4.67025005e-01   9.61722604e-02   9.02972664e-01  -2.60826543e+12\n",
        "   5.25649036e-01   2.60826543e+11]\n",
        "\n",
        "\n",
        "Below is for the SVD decomposition\n",
        "\n",
        "\n",
        "Below is the beta solved by SVD decomposition\n",
        "[  4.70119624e-01   9.61722604e-02   9.05820027e-01  -2.76229236e+12\n",
        "   5.24730332e-01   2.76229236e+11]\n",
        "\n",
        "\n",
        "Below is for the system function\n",
        "[ 0.46950359  0.09617226  0.90379971  0.00945473  0.52517152  0.09454725]\n"
       ]
      }
     ],
     "prompt_number": 67
    },
    {
     "cell_type": "code",
     "collapsed": false,
     "input": [
      "print X\n"
     ],
     "language": "python",
     "metadata": {},
     "outputs": [
      {
       "output_type": "stream",
       "stream": "stdout",
       "text": [
        "[[  5.00000000e+00   4.81600000e+14   9.00000000e+00   5.00000000e+00\n",
        "    0.00000000e+00   5.00000000e+01]\n",
        " [  1.00000000e+00   4.21400000e+14   6.00000000e+00   9.00000000e+00\n",
        "    2.00000000e+00   9.00000000e+01]\n",
        " [  5.00000000e+00   1.20400000e+14   4.00000000e+00   2.00000000e+00\n",
        "    4.00000000e+00   2.00000000e+01]\n",
        " [  7.00000000e+00   5.41800000e+14   1.00000000e+00   7.00000000e+00\n",
        "    0.00000000e+00   7.00000000e+01]\n",
        " [  9.00000000e+00   5.41800000e+14   7.00000000e+00   6.00000000e+00\n",
        "    9.00000000e+00   6.00000000e+01]\n",
        " [  0.00000000e+00   6.02000000e+13   8.00000000e+00   8.00000000e+00\n",
        "    3.00000000e+00   8.00000000e+01]\n",
        " [  8.00000000e+00   4.21400000e+14   3.00000000e+00   6.00000000e+00\n",
        "    5.00000000e+00   6.00000000e+01]\n",
        " [  9.00000000e+00   1.80600000e+14   4.00000000e+00   8.00000000e+00\n",
        "    1.00000000e+00   8.00000000e+01]\n",
        " [  0.00000000e+00   1.80600000e+14   9.00000000e+00   2.00000000e+00\n",
        "    0.00000000e+00   2.00000000e+01]\n",
        " [  9.00000000e+00   1.20400000e+14   7.00000000e+00   7.00000000e+00\n",
        "    9.00000000e+00   7.00000000e+01]]\n"
       ]
      }
     ],
     "prompt_number": 68
    },
    {
     "cell_type": "code",
     "collapsed": false,
     "input": [],
     "language": "python",
     "metadata": {},
     "outputs": []
    }
   ],
   "metadata": {}
  }
 ]
}