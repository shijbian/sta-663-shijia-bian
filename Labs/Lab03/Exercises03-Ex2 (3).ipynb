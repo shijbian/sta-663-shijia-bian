{
 "metadata": {
  "name": "",
  "signature": "sha256:938ebd3ff9a9dccbcc3d5661e99620d75fc40bd2731e9df3e78cef858d8c4118"
 },
 "nbformat": 3,
 "nbformat_minor": 0,
 "worksheets": [
  {
   "cells": [
    {
     "cell_type": "code",
     "collapsed": false,
     "input": [
      "import os\n",
      "import sys\n",
      "import glob\n",
      "import matplotlib.pyplot as plt\n",
      "import numpy as np\n",
      "import pandas as pd\n",
      "%matplotlib inline\n",
      "plt.style.use('ggplot')\n"
     ],
     "language": "python",
     "metadata": {},
     "outputs": [],
     "prompt_number": 69
    },
    {
     "cell_type": "markdown",
     "metadata": {},
     "source": [
      "**Exercise 1 (10 pts)**. Avoding catastrophic cancellation.\n",
      "\n",
      "The tail of the standard logistic distributon is given by $1 - F(t) = 1 - (1+e^{-t})^{-1}$.\n",
      "\n",
      "- Define a function `f1` to calculate the tail probability of the logistic distribution using the formula given above\n",
      "- Use `sympy` to find the exact value of the tail distribution (using the same symbolic formula) to 20 decimal digits\n",
      "- Calculate the *relative error* of `f1` when $t = 25$ (The relative error is given by `abs(exact - approximate)/exact`)\n",
      "- Rewrite the expression for the tail of the logistic distribution using simple algebra so that there is no risk of cancellation, and write a function `f2` using this formula. Calculate the *relative error* of `f2` when $t = 25$. \n",
      "- How much more accurate is `f2` compared with `f1` in terms of the relative error?"
     ]
    },
    {
     "cell_type": "code",
     "collapsed": false,
     "input": [
      "# Your code here\n",
      "\n",
      "\n",
      "\n",
      "\n"
     ],
     "language": "python",
     "metadata": {},
     "outputs": [],
     "prompt_number": 2
    },
    {
     "cell_type": "markdown",
     "metadata": {},
     "source": [
      "**Exercise 2 (10 pts)**. Ill-conditioned linear problems.\n",
      "\n",
      "You are given a $n \\times p$ design matrix $X$ and a $p$-vector of observations $y$ and asked to find the coefficients $\\beta$ that solve the linear equations $X \\beta = y$. \n",
      "```python\n",
      "X = np.load('x.npy')\n",
      "y = np.load('y.npy')\n",
      "```\n",
      "\n",
      "The solution $\\beta$ can also be loaded as\n",
      "```python\n",
      "beta = np.load('b.npy')\n",
      "```\n",
      "\n",
      "- Write a formula that could solve the system of linear equations in terms of $X$ and $y$ Write a function `f1` that takes arguments $X$ and $y$ and returns $\\beta$ using this formula.\n",
      "- How could you code this formula using `np.linalg.solve` that does not require inverting a matrix? Write a function `f2` that takes arguments $X$ and $y$ and returns $\\beta$ using this.\n",
      "- Note that carefully designed algorithms *can* solve this ill-conditioned problem, which is why you should always use library functions for linear algebra rather than write your own.\n",
      "```python\n",
      "np.linalg.lstsq(x, y)[0]\n",
      "```\n",
      "- What happens if you try to solve for $\\beta$ using `f1` or `f2`? Remove the column of $X$ that is making the matrix singluar and find the $p-1$ vector $b$ using `f2`.\n",
      "- Note that the solution differs from that given by `np.linalg.lstsq`? This arises because the relevant condition number for `f2` is actually for the matrix $X^TX$ while the condition number of `lstsq` is for the matrix $X$. Why is the condition so high even after removing the column that makes the matrix singular?"
     ]
    },
    {
     "cell_type": "code",
     "collapsed": false,
     "input": [
      "# Your code here\n",
      "import numpy.linalg as la\n",
      "\n",
      "# Function f1: \n",
      "# Pre: solve the system of linear equations given X and y\n",
      "# Post: return beta\n",
      "def f1 (A, Y):\n",
      "    xmat = np.mat(A)\n",
      "    ymat = np.mat(Y).T \n",
      "    return np.dot(np.dot(la.inv(np.dot(xmat.T, xmat)), xmat.T), Y)\n",
      "\n",
      "#How could you code this formula using np.linalg.solve that does not require inverting a matrix? \n",
      "# Because the matrix is singular and is not invertible"
     ],
     "language": "python",
     "metadata": {},
     "outputs": [],
     "prompt_number": 110
    },
    {
     "cell_type": "code",
     "collapsed": false,
     "input": [
      "X = np.load('x.npy')\n",
      "y = np.load('y.npy')\n",
      "\n",
      "#Write a function f2 that takes arguments X and y and returns \u03b2 using this\n",
      "def f2 (X,y):\n",
      "    U,s,V = numpy.linalg.svd(X, full_matrices=False)\n",
      "    S = np.diag(s)\n",
      "    left = dot(S,V)\n",
      "    right = dot(U.T,y)\n",
      "    return numpy.linalg.solve(left,right)\n",
      "\n",
      "print f2 (X,y)\n"
     ],
     "language": "python",
     "metadata": {},
     "outputs": [
      {
       "output_type": "stream",
       "stream": "stdout",
       "text": [
        "[  4.70119624e-01   9.61722604e-02   9.05820027e-01  -2.76229236e+12\n",
        "   5.24730332e-01   2.76229236e+11]\n"
       ]
      }
     ],
     "prompt_number": 50
    },
    {
     "cell_type": "code",
     "collapsed": false,
     "input": [
      "#use library functions for linear algebra rather than write your own.\n",
      "X = np.load('x.npy')\n",
      "y = np.load('y.npy')\n",
      "def f3 (X,y):\n",
      "    return np.linalg.lstsq(X, y)[0]\n",
      "print f3(X,y)\n",
      "\n",
      "beta = np.load('b.npy')\n",
      "print beta"
     ],
     "language": "python",
     "metadata": {},
     "outputs": [
      {
       "output_type": "stream",
       "stream": "stdout",
       "text": [
        "[ 0.46950359  0.09617226  0.90379971  0.00945473  0.52517152  0.09454725]\n",
        "[ 0.46923853  0.09617226  0.90337017  0.11949047  0.52479938  0.083623  ]\n"
       ]
      }
     ],
     "prompt_number": 21
    },
    {
     "cell_type": "code",
     "collapsed": false,
     "input": [
      "#What happens if you try to solve for \u03b2 using f1 or f2? \n",
      "# f1 has the singular matrix: X.T*X, so it does not have inverse.\n",
      "# ???\n",
      "\n",
      "# Remove the column of X that is making the matrix singluar and find the p\u22121 vector b using f2.\n",
      "X = np.load('x.npy')\n",
      "newX = X[:,[0,1,2,4,5]]\n",
      "y = np.load('y.npy')\n",
      "\n",
      "# Note that the solution differs from that given by np.linalg.lstsq? \n",
      "print f2 (newX,y)\n",
      "print f3 (newX,y)\n",
      "\n",
      "# This arises because the relevant condition number for f2 is actually for the matrix XTX while the condition \n",
      "#number of lstsq is for the matrix X. Why is the condition so high even after removing the column that makes \n",
      "#the matrix singular?\n"
     ],
     "language": "python",
     "metadata": {},
     "outputs": [
      {
       "output_type": "stream",
       "stream": "stdout",
       "text": [
        "[ 0.47205826  0.09617226  0.90400172  0.52337497  0.09544283]\n",
        "[ 0.46950359  0.09617226  0.90379971  0.52517152  0.09549273]\n",
        "[[  5.00000000e+00   4.81600000e+14   9.00000000e+00   5.00000000e+00\n",
        "    0.00000000e+00   5.00000000e+01]\n",
        " [  1.00000000e+00   4.21400000e+14   6.00000000e+00   9.00000000e+00\n",
        "    2.00000000e+00   9.00000000e+01]\n",
        " [  5.00000000e+00   1.20400000e+14   4.00000000e+00   2.00000000e+00\n",
        "    4.00000000e+00   2.00000000e+01]\n",
        " [  7.00000000e+00   5.41800000e+14   1.00000000e+00   7.00000000e+00\n",
        "    0.00000000e+00   7.00000000e+01]\n",
        " [  9.00000000e+00   5.41800000e+14   7.00000000e+00   6.00000000e+00\n",
        "    9.00000000e+00   6.00000000e+01]\n",
        " [  0.00000000e+00   6.02000000e+13   8.00000000e+00   8.00000000e+00\n",
        "    3.00000000e+00   8.00000000e+01]\n",
        " [  8.00000000e+00   4.21400000e+14   3.00000000e+00   6.00000000e+00\n",
        "    5.00000000e+00   6.00000000e+01]\n",
        " [  9.00000000e+00   1.80600000e+14   4.00000000e+00   8.00000000e+00\n",
        "    1.00000000e+00   8.00000000e+01]\n",
        " [  0.00000000e+00   1.80600000e+14   9.00000000e+00   2.00000000e+00\n",
        "    0.00000000e+00   2.00000000e+01]\n",
        " [  9.00000000e+00   1.20400000e+14   7.00000000e+00   7.00000000e+00\n",
        "    9.00000000e+00   7.00000000e+01]]\n"
       ]
      }
     ],
     "prompt_number": 73
    },
    {
     "cell_type": "markdown",
     "metadata": {},
     "source": [
      "**Exercise 4 (20 pts)**. One of the goals of the course it that you will be able to implement novel algorihtms from the literature. \n",
      "\n",
      "- Implement the mean-shift algorithm in 1D as described [here](http://homepages.inf.ed.ac.uk/rbf/CVonline/LOCAL_COPIES/TUZEL1/MeanShift.pdf). \n",
      "    - Use the following function signature\n",
      "    ```python\n",
      "    def mean_shift(xs, x, kernel, max_iters=100, tol=1e-6):\n",
      "    ```\n",
      "    - xs is the data set, x is the starting location, and kernel is a kernel function\n",
      "    - tol is the difference in $||x||$ across iterations\n",
      "- Use the following kernels with bandwidth $h$ (a default value of 1.0 will work fine)\n",
      "    - Flat - return 1 if $||x|| < h$ and 0 otherwise\n",
      "    - Gaussian \n",
      "    $$\\frac{1}{\\sqrt{2 \\pi h}}e^{\\frac{-||x||^2}{h^2}}$$\n",
      "    - Note that $||x||$ is the norm of the data point being evaluated minus the current value of $x$\n",
      "- Use both kernels to find all 3 modes of the data set in `x1d.npy`\n",
      "- Modify the algorithm and/or kernels so that it now works in an arbitrary number of dimensions.\n",
      "- Use both kernels to find all 3 modes of the data set in `x2d.npy`\n",
      "- Plot the path of successive intermediate solutions of the mean-shift algorithm starting from `x0 = (-4, 10)` until it converges onto a mode in the 2D data for each kernel. Superimpose the path on top of a contour plot of the data density."
     ]
    },
    {
     "cell_type": "code",
     "collapsed": false,
     "input": [
      "from numpy import linalg as LA\n",
      "\n",
      "def gaussain_kernel (xs, x, h=1):\n",
      "    num = sum([points*exp(-1.0*pow(LA.norm(points-x),2)/pow(h,2)) for points in xs])\n",
      "    denom = sum([exp(-1.0*pow(LA.norm(points-x),2)/pow(h,2)) for points in xs])\n",
      "    mx = num/denom - x\n",
      "    return mx\n",
      "\n",
      "def grad_density (xs, x, h=1):\n",
      "    frac = 1.0/len(xs)\n",
      "    first_term = frac*2*pow(2*pi,0.5)*sum([(exp(points-x)/h)**2 for points in xs])\n",
      "    num =  sum([points*(exp(points-x)/h)**2 for points in xs])\n",
      "    denom = sum([(exp(points-x)/h)**2 for points in xs])\n",
      "    grad_dens = first_term*(num/denom - x)\n",
      "    return grad_dens\n",
      "\n",
      "x1d = np.load('x1d.npy')\n",
      "xs = x1d\n",
      "x = 2\n",
      "h = 1\n",
      "print gaussain_kernel (xs, x, h)\n",
      "print sum(xs)\n",
      "print sum(xs,0)\n"
     ],
     "language": "python",
     "metadata": {},
     "outputs": [
      {
       "output_type": "stream",
       "stream": "stdout",
       "text": [
        "2.14510107808\n",
        "-925.637649062\n",
        "-925.637649062\n"
       ]
      }
     ],
     "prompt_number": 27
    },
    {
     "cell_type": "code",
     "collapsed": false,
     "input": [
      "from numpy import linalg as LA\n",
      "\n",
      "def flat_kernel ()\n",
      "def gaussain_kernel (xs, x, h=1):\n",
      "    num = sum([points*exp(-1.0*pow(LA.norm(points-x),2)/pow(h,2)) for points in xs])\n",
      "    denom = sum([exp(-1.0*pow(LA.norm(points-x),2)/pow(h,2)) for points in xs])\n",
      "    mx = num/denom - x\n",
      "    return mx\n",
      "\n",
      "def mean_shift(xs, x, kernel, max_iters=100, tol=1e-6):\n",
      "    inter = 0\n",
      "    mod = []\n",
      "    boolean = True\n",
      "    xt = x\n",
      "    while boolean == True:\n",
      "        mx = kernel (xs, xt, h)\n",
      "        newXt = xt + mx\n",
      "        if inter > max_iters or grad_density(xs, newXt, h) <= tol:\n",
      "            mod.append(newXt)\n",
      "            boolean = False\n",
      "        xt = newXt\n",
      "        inter = inter + 1\n",
      "    return mod\n",
      "\n",
      "x1d = np.load('x1d.npy')\n",
      "xs = x1d\n",
      "x = -7\n",
      "\n",
      "mean_shift(xs, x, gaussain_kernel, max_iters=100, tol=1e-6)"
     ],
     "language": "python",
     "metadata": {},
     "outputs": [
      {
       "metadata": {},
       "output_type": "pyout",
       "prompt_number": 77,
       "text": [
        "[-4.9297872619004561]"
       ]
      }
     ],
     "prompt_number": 77
    },
    {
     "cell_type": "code",
     "collapsed": false,
     "input": [
      "-4.9297872619004561\n",
      "matplotlib.pyplot.hist(x1d)"
     ],
     "language": "python",
     "metadata": {},
     "outputs": [
      {
       "metadata": {},
       "output_type": "pyout",
       "prompt_number": 66,
       "text": [
        "(array([  80.,  472.,  451.,  192.,  234.,  296.,  280.,  609.,  355.,   31.]),\n",
        " array([-7.96812571, -6.43048764, -4.89284958, -3.35521152, -1.81757345,\n",
        "        -0.27993539,  1.25770267,  2.79534073,  4.3329788 ,  5.87061686,\n",
        "         7.40825492]),\n",
        " <a list of 10 Patch objects>)"
       ]
      },
      {
       "metadata": {},
       "output_type": "display_data",
       "png": "[encoded data removed]",
       "text": [
        "<matplotlib.figure.Figure at 0x7f10da938890>"
       ]
      }
     ],
     "prompt_number": 66
    },
    {
     "cell_type": "code",
     "collapsed": false,
     "input": [
      "import matplotlib\n",
      "import pylab\n",
      "\n",
      "\n",
      "x2d = np.load('x2d.npy')\n",
      "print x2d[:,1]\n",
      "print len(x2d[:,1])\n",
      "N=len(x2d)\n",
      "\n",
      "matplotlib.pyplot.scatter(x2d[:,1],x2d[:,0])\n",
      "matplotlib.pyplot.show()"
     ],
     "language": "python",
     "metadata": {},
     "outputs": [
      {
       "output_type": "stream",
       "stream": "stdout",
       "text": [
        "[ 5.04778625  3.07351811  3.1473007  ...,  3.73703507  2.96653319\n",
        "  3.77225574]\n",
        "2400\n"
       ]
      },
      {
       "metadata": {},
       "output_type": "display_data",
       "png": "[encoded data removed]",
       "text": [
        "<matplotlib.figure.Figure at 0x7f10da98e210>"
       ]
      }
     ],
     "prompt_number": 65
    },
    {
     "cell_type": "code",
     "collapsed": false,
     "input": [
      "myList=[1,2,3,4,5,6]\n",
      "\n",
      "a = sum([x*1.0/2 for x in myList])\n",
      "print a\n",
      "\n",
      "mod = range(len(myList))\n",
      "print mod\n",
      "mod[0]"
     ],
     "language": "python",
     "metadata": {},
     "outputs": [
      {
       "output_type": "stream",
       "stream": "stdout",
       "text": [
        "10.5\n",
        "[0, 1, 2, 3, 4, 5]\n"
       ]
      },
      {
       "metadata": {},
       "output_type": "pyout",
       "prompt_number": 108,
       "text": [
        "0"
       ]
      }
     ],
     "prompt_number": 108
    },
    {
     "cell_type": "code",
     "collapsed": false,
     "input": [],
     "language": "python",
     "metadata": {},
     "outputs": [],
     "prompt_number": 43
    },
    {
     "cell_type": "code",
     "collapsed": false,
     "input": [],
     "language": "python",
     "metadata": {},
     "outputs": []
    }
   ],
   "metadata": {}
  }
 ]
}