{
 "metadata": {
  "name": "",
  "signature": "sha256:607ab59f6a28fc13b07281cf2c0d219e589964b370be16d5bf47b521d8de8ff7"
 },
 "nbformat": 3,
 "nbformat_minor": 0,
 "worksheets": [
  {
   "cells": [
    {
     "cell_type": "code",
     "collapsed": false,
     "input": [
      "import os\n",
      "import sys\n",
      "import glob\n",
      "import matplotlib.pyplot as plt\n",
      "import numpy as np\n",
      "import pandas as pd\n",
      "%matplotlib inline\n",
      "plt.style.use('ggplot')\n"
     ],
     "language": "python",
     "metadata": {},
     "outputs": [],
     "prompt_number": 190
    },
    {
     "cell_type": "markdown",
     "metadata": {},
     "source": [
      "**Exercise 1 (10 pts)**. Avoding catastrophic cancellation.\n",
      "\n",
      "The tail of the standard logistic distributon is given by $1 - F(t) = 1 - (1+e^{-t})^{-1}$.\n",
      "\n",
      "- Define a function `f1` to calculate the tail probability of the logistic distribution using the formula given above\n",
      "- Use `sympy` to find the exact value of the tail distribution (using the same symbolic formula) to 20 decimal digits\n",
      "- Calculate the *relative error* of `f1` when $t = 25$ (The relative error is given by `abs(exact - approximate)/exact`)\n",
      "- Rewrite the expression for the tail of the logistic distribution using simple algebra so that there is no risk of cancellation, and write a function `f2` using this formula. Calculate the *relative error* of `f2` when $t = 25$. \n",
      "- How much more accurate is `f2` compared with `f1` in terms of the relative error?"
     ]
    },
    {
     "cell_type": "code",
     "collapsed": false,
     "input": [
      "# Step 1: f1, calculate the tail probability of the logistic distribution using given formila\n",
      "def f1 (t):\n",
      "    result = 1 - np.power((1+np.exp(-t)),-1)\n",
      "    return result\n",
      "\n",
      "# Step 2: exact, calculate the tail probability of the logistic distribution using sympy \n",
      "import sympy \n",
      "def exact (t):\n",
      "    result = 1 - 1/(1+sympy.exp(-t))\n",
      "    return result.evalf(20)\n",
      "#\u4fdd\u7559\u5c0f\u6570sympy.N(,20)\n",
      "\n",
      "# Step 3: relative error of f1 when t=25\n",
      "t = 25\n",
      "relError1 = abs((exact(t)-f1(t))/exact(t))\n",
      "print 'The relative error of f1 to exact value is:',relError1\n",
      "\n",
      "# Step 4: f2, the expression for the tail of the logistic distribution by simple algebra \n",
      "import math\n",
      "def f2 (t):\n",
      "    result = 1/(math.exp(t)+1)\n",
      "    return result\n",
      "\n",
      "# Step 5: relative error of f1 when t=25\n",
      "t = 25\n",
      "relError2 = abs((exact(t)-f2(t))/exact(t))\n",
      "print 'The relative error of f2 to exact value is:',relError2\n",
      "\n",
      "# Step 6: How much more accurate is f2 compared with f1 in terms of the relative error\n",
      "print \"The accuracy of f2 compared with f1 in terms of the relative error is\", (relError2-relError1)/relError1"
     ],
     "language": "python",
     "metadata": {},
     "outputs": [
      {
       "output_type": "stream",
       "stream": "stdout",
       "text": [
        "The relative error of f1 to exact value is: 4.1759147665982646285e-6\n",
        "The relative error of f2 to exact value is: 1.1401906367350844868e-16\n",
        "The accuracy of f2 compared with f1 in terms of the relative error is -0.99999999997269602709\n"
       ]
      }
     ],
     "prompt_number": 151
    },
    {
     "cell_type": "markdown",
     "metadata": {},
     "source": [
      "**Exercise 2 (10 pts)**. Ill-conditioned linear problems.\n",
      "\n",
      "You are given a $n \\times p$ design matrix $X$ and a $p$-vector of observations $y$ and asked to find the coefficients $\\beta$ that solve the linear equations $X \\beta = y$. \n",
      "```python\n",
      "X = np.load('x.npy')\n",
      "y = np.load('y.npy')\n",
      "```\n",
      "\n",
      "The solution $\\beta$ can also be loaded as\n",
      "```python\n",
      "beta = np.load('b.npy')\n",
      "```\n",
      "\n",
      "- Write a formula that could solve the system of linear equations in terms of $X$ and $y$ Write a function `f1` that takes arguments $X$ and $y$ and returns $\\beta$ using this formula.\n",
      "- How could you code this formula using `np.linalg.solve` that does not require inverting a matrix? Write a function `f2` that takes arguments $X$ and $y$ and returns $\\beta$ using this.\n",
      "- Note that carefully designed algorithms *can* solve this ill-conditioned problem, which is why you should always use library functions for linear algebra rather than write your own.\n",
      "```python\n",
      "np.linalg.lstsq(x, y)[0]\n",
      "```\n",
      "- What happens if you try to solve for $\\beta$ using `f1` or `f2`? Remove the column of $X$ that is making the matrix singluar and find the $p-1$ vector $b$ using `f2`.\n",
      "- Note that the solution differs from that given by `np.linalg.lstsq`? This arises because the relevant condition number for `f2` is actually for the matrix $X^TX$ while the condition number of `lstsq` is for the matrix $X$. Why is the condition so high even after removing the column that makes the matrix singular?"
     ]
    },
    {
     "cell_type": "heading",
     "level": 6,
     "metadata": {},
     "source": [
      "Question 1: Write a formula that could solve the system of linear equations in terms of $X$ and $y$ Write a function `f1` that takes arguments $X$ and $y$ and returns $\\beta$ using this formula."
     ]
    },
    {
     "cell_type": "code",
     "collapsed": false,
     "input": [
      "import numpy.linalg as la\n",
      "\n",
      "# Function f1: \n",
      "# Pre: solve the system of linear equations given X and y\n",
      "# Post: return beta\n",
      "def f1 (A, Y):\n",
      "    xmat = np.mat(A)\n",
      "    ymat = np.mat(Y).T \n",
      "    return np.dot(np.dot(la.inv(np.dot(xmat.T, xmat)), xmat.T), Y)"
     ],
     "language": "python",
     "metadata": {},
     "outputs": [],
     "prompt_number": 152
    },
    {
     "cell_type": "heading",
     "level": 6,
     "metadata": {},
     "source": [
      "Question 2: How could you code this formula using np.linalg.solve that does not require inverting a matrix? Write a function f2 that takes arguments X and y and returns $\\beta$ using this."
     ]
    },
    {
     "cell_type": "markdown",
     "metadata": {},
     "source": [
      "$\\beta$ cannot be computed by f1, because the matrix X is singular."
     ]
    },
    {
     "cell_type": "markdown",
     "metadata": {},
     "source": [
      "This part needs apply Singular Value Decomposition: \n",
      "$$X=S*U*V$$\n",
      "Given:\n",
      "$$X\\beta=Y$$\n",
      "We can compute:\n",
      "$$S*U*V\\beta=Y$$\n",
      "Since $S$ is orthogonal matrix, so we can get:\n",
      "$$S^T*S*U*V\\beta=S^T*Y$$\n",
      "$$U*V\\beta=S^T*Y$$\n",
      "Therefore, $U*V$ is the new $X$, and $S^T*Y$ becomes the new $Y$."
     ]
    },
    {
     "cell_type": "code",
     "collapsed": false,
     "input": [
      "X = np.load('x.npy')\n",
      "y = np.load('y.npy')\n",
      "\n",
      "#Write a function f2 that takes arguments X and y and returns \u03b2 using this\n",
      "def f2 (X,y):\n",
      "    U,s,V = numpy.linalg.svd(X, full_matrices=False)\n",
      "    S = np.diag(s)\n",
      "    left = dot(S,V)\n",
      "    right = dot(U.T,y)\n",
      "    return numpy.linalg.solve(left,right)\n",
      "\n",
      "print \"The beta computed by f2 is:\"\n",
      "print f2 (X,y)"
     ],
     "language": "python",
     "metadata": {},
     "outputs": [
      {
       "output_type": "stream",
       "stream": "stdout",
       "text": [
        "The beta computed by f2 is:\n",
        "[  4.70119624e-01   9.61722604e-02   9.05820027e-01  -2.76229236e+12\n",
        "   5.24730332e-01   2.76229236e+11]\n"
       ]
      }
     ],
     "prompt_number": 153
    },
    {
     "cell_type": "heading",
     "level": 6,
     "metadata": {},
     "source": [
      "Question 3: Note that carefully designed algorithms can solve this ill-conditioned problem, which is why you should always use library functions for linear algebra rather than write your own.\n",
      "np.linalg.lstsq(x, y)[0]"
     ]
    },
    {
     "cell_type": "code",
     "collapsed": false,
     "input": [
      "# f3 is function using library functions for linear algebra. \n",
      "X = np.load('x.npy')\n",
      "y = np.load('y.npy')\n",
      "def f3 (X,y):\n",
      "    return np.linalg.lstsq(X, y)[0]\n",
      "print \"This is the beta computed by f3:\"\n",
      "print f3(X,y)\n",
      "print \"\\n\"\n",
      "print \"This is the b.npy stored in the system:\"\n",
      "beta = np.load('b.npy')\n",
      "print beta"
     ],
     "language": "python",
     "metadata": {},
     "outputs": [
      {
       "output_type": "stream",
       "stream": "stdout",
       "text": [
        "This is the beta computed by f3:\n",
        "[ 0.46950359  0.09617226  0.90379971  0.00945473  0.52517152  0.09454725]\n",
        "\n",
        "\n",
        "This is the b.npy stored in the system:\n",
        "[ 0.46923853  0.09617226  0.90337017  0.11949047  0.52479938  0.083623  ]\n"
       ]
      }
     ],
     "prompt_number": 155
    },
    {
     "cell_type": "heading",
     "level": 6,
     "metadata": {},
     "source": [
      "Question 4: What happens if you try to solve for $\\beta$ using f1 or f2? Remove the column of X that is making the matrix singluar and find the p\u22121 vector b using f2."
     ]
    },
    {
     "cell_type": "markdown",
     "metadata": {},
     "source": [
      "If I try to solve for $\\beta$ using f1 or f2, f1 is not computable. f2 will give the inaccurate answer. \n",
      "Then I remove the column 4 of X, colomn 4 is exactly the same as colomn 6, it is making the matrix singluar.\n",
      "The output below is how I find the p\u22121 vector b using f2. The solution computed from f2 will be the same as \n",
      "the solution computed from f3."
     ]
    },
    {
     "cell_type": "code",
     "collapsed": false,
     "input": [
      "# Remove the column of X that is making the matrix singluar and find the p\u22121 vector b using f2.\n",
      "X = np.load('x.npy')\n",
      "newX = X[:,[0,1,2,4,5]]\n",
      "y = np.load('y.npy')\n",
      "\n",
      "print \"This is the beta computed by the f2:\"\n",
      "print f2 (newX,y)\n",
      "print \"\\n\""
     ],
     "language": "python",
     "metadata": {},
     "outputs": [
      {
       "output_type": "stream",
       "stream": "stdout",
       "text": [
        "This is the beta computed by the f2:\n",
        "[ 0.47205826  0.09617226  0.90400172  0.52337497  0.09544283]\n",
        "\n",
        "\n"
       ]
      }
     ],
     "prompt_number": 163
    },
    {
     "cell_type": "heading",
     "level": 6,
     "metadata": {},
     "source": [
      "Question 5: Note that the solution differs from that given by np.linalg.lstsq? This arises because the relevant condition number for f2 is actually for the matrix XTX while the condition number of lstsq is for the matrix X. Why is the condition so high even after removing the column that makes the matrix singular?"
     ]
    },
    {
     "cell_type": "code",
     "collapsed": false,
     "input": [
      "print \"This is the beta computed by the f3:\"\n",
      "print f3 (newX,y)\n",
      "\n",
      "# This arises because the relevant condition number for f2 is actually for the matrix XTX while the condition \n",
      "#number of lstsq is for the matrix X. Why is the condition so high even after removing the column that makes \n",
      "#the matrix singular?"
     ],
     "language": "python",
     "metadata": {},
     "outputs": [
      {
       "output_type": "stream",
       "stream": "stdout",
       "text": [
        "This is the beta computed by the f3:\n",
        "[ 0.46950359  0.09617226  0.90379971  0.52517152  0.09549273]\n"
       ]
      }
     ],
     "prompt_number": 165
    },
    {
     "cell_type": "markdown",
     "metadata": {},
     "source": [
      "**Exercise 3 (10 pts)**. Importance of using efficient algorihtms.\n",
      "\n",
      "- Implement bubble sort\n",
      "- Calculate its big $\\mathcal{O}$ algorithmic complexity\n",
      "- Time the performance of bubble sort on random uniform deviate vectors of sizes `range(100, 2000, 100)` using `time.time()` from the standard library\n",
      "- Use `scipy.optimize.curve_fit` to fit an appropriate function to the collection of (size, execution time) data points. Extrapolate how long it would take to sort a random vector of size 1,000,000. Now time how long it takes for the system sort to sort a random vector of size 1,000,000.\n",
      "- Plot the fits together with the data points uisng `matplotlib.pyplot` functions."
     ]
    },
    {
     "cell_type": "code",
     "collapsed": false,
     "input": [
      "\n",
      "import time\n",
      "from scipy.interpolate import spline\n",
      "\n",
      "# Define and implement the function of bubble sort\n",
      "def bubbleSort (list):\n",
      "    length = len(list)\n",
      "    for i in range(length):\n",
      "        for j in range(length-1):\n",
      "            if list[j]>list[j+1]:\n",
      "                list[j], list[j+1] = list[j+1], list[j] \n",
      "    return list\n",
      "\n",
      "# Calculate its big O algorithmic complexity\n",
      "# for my algorithm, this is O(n^2)\n",
      "\n",
      "# Time the performance of bubble sort on random uniform \n",
      "# deviate vectors of sizes range(100, 2000, 100) \n",
      "size = range(100, 2000, 100)\n",
      "sizeLen = len(size)\n",
      "timeEff = []\n",
      "for k in range(sizeLen):\n",
      "    start_time = time.time()\n",
      "    my_list = np.random.uniform(0,1,size[k])\n",
      "    bubbleSort(my_list)\n",
      "    end_time = time.time()\n",
      "    timeEff.append(end_time - start_time)\n",
      "print \"Below is the time each of the 20 list take to finish the bubble sort:\"\n",
      "print timeEff\n"
     ],
     "language": "python",
     "metadata": {},
     "outputs": [
      {
       "output_type": "stream",
       "stream": "stdout",
       "text": [
        "Below is the time each of the 20 list take to finish the bubble sort:\n",
        "[0.0038712024688720703, 0.015486001968383789, 0.035791873931884766, 0.06138300895690918, 0.09395194053649902, 0.13654494285583496, 0.185654878616333, 0.24488496780395508, 0.30779099464416504, 0.37841320037841797, 0.45882391929626465, 0.5459959506988525, 0.6508240699768066, 0.7409601211547852, 0.8741428852081299, 0.997750997543335, 1.1226959228515625, 1.2670531272888184, 1.392690896987915]\n"
       ]
      }
     ],
     "prompt_number": 191
    },
    {
     "cell_type": "code",
     "collapsed": false,
     "input": [
      "# Use scipy.optimize.curve_fit to fit an appropriate function \n",
      "# to the collection of (size, execution time) data points\n",
      "import numpy as np\n",
      "from scipy.optimize import curve_fit\n",
      "import matplotlib.pyplot as mpl\n",
      "\n",
      "# By visualizing the pattern of data, we know this is a polynomial curve\n",
      "# Use scipy.optimize.curve_fit to fit the polynomial function\n",
      "def func(x, a, b, c):\n",
      "    return a + b*x + c*(x**2)\n",
      "\n",
      "popt, pcov = curve_fit(func, size, timeEff)\n",
      "\n",
      "print \"The coefficients for the polynomial is: \"\n",
      "print popt\n",
      "print \"\\n\"\n",
      "print \"The is the seconds that the bubble sort needs to compute when the length of the list is 1000000\"\n",
      "print 6.23007360e-03 - 2.99826738e-05 * 1000000 + 4.03442468e-07 * 1000000**2\n"
     ],
     "language": "python",
     "metadata": {},
     "outputs": [
      {
       "output_type": "stream",
       "stream": "stdout",
       "text": [
        "The coefficients for the polynomial is: \n",
        "[  5.72016547e-03  -2.58498903e-05   4.00695371e-07]\n",
        "\n",
        "\n",
        "The is the seconds that the bubble sort needs to compute when the length of the list is 1000000\n",
        "403412.491556\n"
       ]
      }
     ],
     "prompt_number": 192
    },
    {
     "cell_type": "markdown",
     "metadata": {},
     "source": [
      "After computing the coefficients, we can compute the fitted value for n = 1000000. As the time it takes to compute the 20 list is different each time when I run it, the estimated coefficients might not be exactly the same. But I use one result from the previous run, the coefficients are 6.23007360e-03, -2.99826738e-05, 4.03442468e-07. Therefore, we need plug 1000000 into the polynomial function:\n",
      "$$6.23007360e-03 - 2.99826738e-05 * 1000000 + 4.03442468e-07 * 1000000^2$$\n",
      "The result is 403412.491556 seconds. "
     ]
    },
    {
     "cell_type": "code",
     "collapsed": false,
     "input": [
      "# Use the system sort for the 1000000 random vector\n",
      "# Construct the list with 1000000 elements:\n",
      "new_list = np.random.uniform(0,1,1000000)\n",
      "start_time = time.time()\n",
      "# sort it and time it\n",
      "sort(new_list)\n",
      "end_time = time.time()\n",
      "timeSpend = end_time - start_time\n",
      "print \"This is the length it takes for the system sort to sort a random vector of size 1,000,000:\"\n",
      "print timeSpend"
     ],
     "language": "python",
     "metadata": {},
     "outputs": [
      {
       "output_type": "stream",
       "stream": "stdout",
       "text": [
        "This is the length it takes for the system sort to sort a random vector of size 1,000,000:\n",
        "0.0848178863525\n"
       ]
      }
     ],
     "prompt_number": 193
    },
    {
     "cell_type": "code",
     "collapsed": false,
     "input": [
      "# Plot the fits together with the data points uisng matplotlib.pyplot functions.\n",
      "import matplotlib.pyplot as plt\n",
      "xp = np.linspace(0, 2000, 20000)\n",
      "z = np.polyfit(size, timeEff, 2)\n",
      "p = np.poly1d(z)\n",
      "_ = plt.plot(size, timeEff, '.', xp, p(xp))\n",
      "plt.xlabel('Size of input (n)', fontsize=16)\n",
      "plt.ylabel('Time of operations', fontsize=16)\n",
      "plt.legend(['$\\mathcal{O}(n^2)$'], loc='best', fontsize=20);"
     ],
     "language": "python",
     "metadata": {},
     "outputs": [
      {
       "metadata": {},
       "output_type": "display_data",
       "png": "[encoded data removed]",
       "text": [
        "<matplotlib.figure.Figure at 0x7f10cf175790>"
       ]
      }
     ],
     "prompt_number": 201
    },
    {
     "cell_type": "markdown",
     "metadata": {},
     "source": [
      "**Exercise 4 (20 pts)**. One of the goals of the course it that you will be able to implement novel algorihtms from the literature. \n",
      "\n",
      "- Implement the mean-shift algorithm in 1D as described [here](http://homepages.inf.ed.ac.uk/rbf/CVonline/LOCAL_COPIES/TUZEL1/MeanShift.pdf). \n",
      "    - Use the following function signature\n",
      "    ```python\n",
      "    def mean_shift(xs, x, kernel, max_iters=100, tol=1e-6):\n",
      "    ```\n",
      "    - xs is the data set, x is the starting location, and kernel is a kernel function\n",
      "    - tol is the difference in $||x||$ across iterations\n",
      "- Use the following kernels with bandwidth $h$ (a default value of 1.0 will work fine)\n",
      "    - Flat - return 1 if $||x|| < h$ and 0 otherwise\n",
      "    - Gaussian \n",
      "    $$\\frac{1}{\\sqrt{2 \\pi h}}e^{\\frac{-||x||^2}{h^2}}$$\n",
      "    - Note that $||x||$ is the norm of the data point being evaluated minus the current value of $x$\n",
      "- Use both kernels to find all 3 modes of the data set in `x1d.npy`\n",
      "- Modify the algorithm and/or kernels so that it now works in an arbitrary number of dimensions.\n",
      "- Use both kernels to find all 3 modes of the data set in `x2d.npy`\n",
      "- Plot the path of successive intermediate solutions of the mean-shift algorithm starting from `x0 = (-4, 10)` until it converges onto a mode in the 2D data for each kernel. Superimpose the path on top of a contour plot of the data density."
     ]
    },
    {
     "cell_type": "code",
     "collapsed": false,
     "input": [
      "from numpy import linalg as LA\n",
      "\n",
      "# Implement the Flat Kernel\n",
      "# xs is the data set, x is the starting location, h is the bandwidth\n",
      "def flat_kernel (xs, x, h=1):\n",
      "    num = sum([points* (1 if LA.norm(points-x) < h else 0) for points in xs])\n",
      "    denom = sum([(1 if LA.norm(points-x) < h else 0) for points in xs])\n",
      "    mx = num/denom - x\n",
      "    return mx   \n",
      "\n",
      "# Implement the Gaussian Kernel\n",
      "# xs is the data set, x is the starting location, h is the bandwidth\n",
      "def gaussain_kernel (xs, x, h=1):\n",
      "    num = sum([points*exp(-1.0*pow(LA.norm(points-x),2)/pow(h,2)) for points in xs])\n",
      "    denom = sum([exp(-1.0*pow(LA.norm(points-x),2)/pow(h,2)) for points in xs])\n",
      "    mx = num/denom - x\n",
      "    return mx\n",
      "\n",
      "# Implement the mean-shift algorithm in 1D\n",
      "# xs is the data set, x is the starting location, and kernel is a kernel function\n",
      "# tol is the difference in ||x|| across iterations\n",
      "def mean_shift(xs, x, kernel, max_iters=100, tol=1e-6):\n",
      "    inter = 0\n",
      "    mod = []\n",
      "    boolean = True\n",
      "    xt = x\n",
      "    while boolean == True:\n",
      "        mx = kernel (xs, xt, h)\n",
      "        newXt = xt + mx\n",
      "        # use norm to decide if has reached the mode\n",
      "        if LA.norm(newXt-xt) < tol or inter > max_iters:\n",
      "            mod.append(newXt)\n",
      "            boolean = False\n",
      "        xt = newXt\n",
      "        inter = inter + 1\n",
      "    return mod\n",
      "\n",
      "x1d = np.load('x1d.npy')\n",
      "xs = x1d\n",
      "x = 7\n",
      "\n",
      "mode = mean_shift(xs, x, flat_kernel, max_iters=100, tol=1e-6)"
     ],
     "language": "python",
     "metadata": {},
     "outputs": [],
     "prompt_number": 207
    },
    {
     "cell_type": "markdown",
     "metadata": {},
     "source": [
      "Now, I use both kernels to find all 3 modes of the data set in x1d.npy.\n",
      "\n",
      "The Gausian kernel finds the three modes:\n",
      "\n",
      "-4.9297872619004561,\n",
      "\n",
      "3.8853805101147536,\n",
      "\n",
      "0.55812355368607725.\n",
      "\n",
      "The Flat kernel finds the three modes:\n",
      "\n",
      "-4.9950246796462956;\n",
      "\n",
      "3.9793641765699963;\n",
      "\n",
      "0.57546743545549217.\n"
     ]
    },
    {
     "cell_type": "code",
     "collapsed": false,
     "input": [
      "# I want to visualize the data set before modifying the code\n",
      "import matplotlib\n",
      "import pylab\n",
      "\n",
      "\n",
      "x2d = np.load('x2d.npy')\n",
      "print x2d[:,1]\n",
      "print len(x2d[:,1])\n",
      "N=len(x2d)\n",
      "\n",
      "matplotlib.pyplot.scatter(x2d[:,1],x2d[:,0])\n",
      "matplotlib.pyplot.show()"
     ],
     "language": "python",
     "metadata": {},
     "outputs": [
      {
       "output_type": "stream",
       "stream": "stdout",
       "text": [
        "[ 5.04778625  3.07351811  3.1473007  ...,  3.73703507  2.96653319\n",
        "  3.77225574]\n",
        "2400\n"
       ]
      },
      {
       "metadata": {},
       "output_type": "display_data",
       "png": "[encoded data removed]",
       "text": [
        "<matplotlib.figure.Figure at 0x7f10cf571350>"
       ]
      }
     ],
     "prompt_number": 208
    },
    {
     "cell_type": "code",
     "collapsed": false,
     "input": [
      "# Modify the algorithm and/or kernels so that it now works in an arbitrary number of dimensions.\n",
      "\n",
      "from numpy import linalg as LA\n",
      "\n",
      "# Implement the flat kernel\n",
      "def flat_kernel(xs, x, h = 1):\n",
      "    num = sum([points* (1 if LA.norm(points-x) < h else 0) for points in xs],0)\n",
      "    denom = sum([(1 if LA.norm(points-x) < h else 0) for points in xs],0)\n",
      "    mx = num/denom - x\n",
      "    return mx   \n",
      "\n",
      "# Implement the gaussian kernel:\n",
      "def gaussian_kernel(xs, x, h = 1):\n",
      "    num = sum([points*exp(-1.0*pow(LA.norm(points-x),2)/pow(h,2)) for points in xs],0)\n",
      "    denom = sum([exp(-1.0*pow(LA.norm(points-x),2)/pow(h,2)) for points in xs],0)\n",
      "    mx = num/denom - x\n",
      "    return mx\n",
      "\n",
      "# This is for the mean shift part: for my code, there does not really need modification\n",
      "# because the norm can also be used for high dimensianal \n",
      "def mean_shift(xs, x, kernel, max_iters=100, tol=1e-6):\n",
      "    inter = 0\n",
      "    mod = []\n",
      "    boolean = True\n",
      "    xt = x\n",
      "    while boolean == True:\n",
      "        mx = kernel(xs, xt, h) #default h = 1\n",
      "        #print mx\n",
      "        newXt = xt + mx\n",
      "        if LA.norm(newXt-xt) < tol or inter > max_iters:\n",
      "            mod.append(newXt)\n",
      "            boolean = False\n",
      "        xt = newXt\n",
      "        inter = inter + 1\n",
      "    return mod\n",
      "\n",
      "x2d = np.load('x2d.npy')\n",
      "xs = x2d\n",
      "\n",
      "x1 =  np.array([3,3])\n",
      "mode_G = mean_shift(xs, x1, gaussian_kernel, max_iters=100, tol=1e-6)\n",
      "mode_F = mean_shift(xs, x1, flat_kernel, max_iters=100, tol=1e-6)\n"
     ],
     "language": "python",
     "metadata": {},
     "outputs": [
      {
       "output_type": "stream",
       "stream": "stdout",
       "text": [
        "[array([ 2.20846979,  2.85185934])]\n"
       ]
      }
     ],
     "prompt_number": 234
    },
    {
     "cell_type": "markdown",
     "metadata": {},
     "source": [
      "Here are the three modes found by the modified Gaussian Kernel:\n",
      "\n",
      "array([ 2.20846798,  2.85185203]),\n",
      "\n",
      "array([ 6.02546034,  9.0113935 ]),\n",
      "\n",
      "array([-3.03944091,  3.05647246]).\n",
      "\n",
      "Here are the three modes found by the modified Flat Kernel:\n",
      "\n",
      "array([-3.08261867,  3.05387831]),\n",
      "\n",
      "array([ 6.09393808,  8.88086643]),\n",
      "\n",
      "array([ 2.30098466,  2.89586576])."
     ]
    },
    {
     "cell_type": "code",
     "collapsed": false,
     "input": [
      "from numpy import linalg as LA\n",
      "\n",
      "# Implement the flat kernel\n",
      "def flat_kernel(xs, x, h = 1):\n",
      "    num = sum([points* (1 if LA.norm(points-x) < h else 0) for points in xs],0)\n",
      "    denom = sum([(1 if LA.norm(points-x) < h else 0) for points in xs],0)\n",
      "    mx = num/denom - x\n",
      "    return mx   \n",
      "\n",
      "# Implement the gaussian kernel:\n",
      "def gaussian_kernel(xs, x, h = 1):\n",
      "    num = sum([points*exp(-1.0*pow(LA.norm(points-x),2)/pow(h,2)) for points in xs],0)\n",
      "    denom = sum([exp(-1.0*pow(LA.norm(points-x),2)/pow(h,2)) for points in xs],0)\n",
      "    mx = num/denom - x\n",
      "    return mx\n",
      "\n",
      "# This is for the mean shift part: for my code, there does not really need modification\n",
      "# because the norm can also be used for high dimensianal \n",
      "def mean_shift(xs, x, kernel, max_iters=100, tol=1e-6):\n",
      "    inter = 0\n",
      "    mod = []\n",
      "    boolean = True\n",
      "    xt = x\n",
      "    xStore = []\n",
      "    yStore = []\n",
      "    while boolean == True:\n",
      "        mx = kernel(xs, xt, h) #default h = 1\n",
      "        #print mx\n",
      "        newXt = xt + mx\n",
      "        if LA.norm(newXt-xt) < tol or inter > max_iters:\n",
      "            mod.append(newXt)\n",
      "            boolean = False       \n",
      "        xt = newXt\n",
      "        xStore.append(xt[0])\n",
      "        yStore.append(xt[1])\n",
      "        inter = inter + 1\n",
      "    return xStore,yStore\n",
      "\n",
      "x2d = np.load('x2d.npy')\n",
      "xs = x2d\n",
      "# for Gaussian Kernel\n",
      "x1 = np.array([3,3])\n",
      "path1_G = mean_shift(xs, x1, gaussian_kernel, max_iters=100, tol=1e-6)\n",
      "x2 = np.array([-3,3])\n",
      "path2_G = mean_shift(xs, x2, gaussian_kernel, max_iters=100, tol=1e-6)\n",
      "x3 = np.array([10,10])\n",
      "path3_G = mean_shift(xs, x2, gaussian_kernel, max_iters=100, tol=1e-6)\n"
     ],
     "language": "python",
     "metadata": {},
     "outputs": [],
     "prompt_number": 246
    },
    {
     "cell_type": "code",
     "collapsed": false,
     "input": [
      "from numpy import linalg as LA\n",
      "\n",
      "def flat_kernel(xs, x, h = 1):\n",
      "    denom = 0\n",
      "    num = 0.0 * x\n",
      "    for points in xs:\n",
      "        if LA.norm(points-x) < h:\n",
      "            denom += 1\n",
      "            num = num + points\n",
      "    mx = num/denom - x\n",
      "    return mx\n",
      "\n",
      "def gaussian_kernel(xs, x, h = 1):\n",
      "    denom = 0\n",
      "    num = 0.0 * x\n",
      "    for points in xs:\n",
      "        a = exp(-1.0*pow(LA.norm(points-x),2)/pow(h,2))\n",
      "        num = num + points * a\n",
      "        denom += a\n",
      "    mx = num/denom - x\n",
      "    return mx\n",
      "\n",
      "def mean_shift(xs, x, kernel, max_iters=100, tol=1e-6):\n",
      "    inter = 0\n",
      "    mod = []\n",
      "    xt = x\n",
      "    while inter <= max_iters:\n",
      "        mx = kernel(xs, xt) #default h = 1\n",
      "        #print mx\n",
      "        if LA.norm(mx) < tol:\n",
      "            mod.append(xt)\n",
      "            break\n",
      "        xt = xt + mx\n",
      "        inter = inter + 1\n",
      "    return mod\n",
      "\n",
      "x1d = np.load('x1d.npy')\n",
      "x2d = np.load('x2d.npy')\n",
      "xs = x2d\n",
      "\n",
      "x1 =  np.array([3,3])\n",
      "x2 =  np.array([-3,3])\n",
      "x3 =  np.array([10,10])\n",
      "\n",
      "print mean_shift(xs, x1, flat_kernel, max_iters=100, tol=1e-6)\n",
      "print mean_shift(xs, x1, gaussian_kernel, max_iters=100, tol=1e-6)\n",
      "print mean_shift(xs, x2, flat_kernel, max_iters=100, tol=1e-6)\n",
      "print mean_shift(xs, x2, gaussian_kernel, max_iters=100, tol=1e-6)\n",
      "print mean_shift(xs, x3, flat_kernel, max_iters=100, tol=1e-6)\n",
      "print mean_shift(xs, x3, gaussian_kernel, max_iters=100, tol=1e-6)\n",
      "\n",
      "x1 =  -7\n",
      "x2 =  1\n",
      "x3 =  7\n",
      "xs = x1d\n",
      "print mean_shift(xs, x1, flat_kernel, max_iters=100, tol=1e-6)\n",
      "print mean_shift(xs, x1, gaussian_kernel, max_iters=100, tol=1e-6)\n",
      "print mean_shift(xs, x2, flat_kernel, max_iters=100, tol=1e-6)\n",
      "print mean_shift(xs, x2, gaussian_kernel, max_iters=100, tol=1e-6)\n",
      "print mean_shift(xs, x3, flat_kernel, max_iters=100, tol=1e-6)\n",
      "print mean_shift(xs, x3, gaussian_kernel, max_iters=100, tol=1e-6)\n"
     ],
     "language": "python",
     "metadata": {},
     "outputs": [
      {
       "output_type": "stream",
       "stream": "stdout",
       "text": [
        "[array([ 2.30098466,  2.89586576])]\n",
        "[array([ 2.20847034,  2.85186003])]"
       ]
      },
      {
       "output_type": "stream",
       "stream": "stdout",
       "text": [
        "\n",
        "[array([-3.08261867,  3.05387831])]"
       ]
      },
      {
       "output_type": "stream",
       "stream": "stdout",
       "text": [
        "\n",
        "[array([-3.03944052,  3.05647199])]"
       ]
      },
      {
       "output_type": "stream",
       "stream": "stdout",
       "text": [
        "\n",
        "[array([ 6.09393808,  8.88086643])]"
       ]
      },
      {
       "output_type": "stream",
       "stream": "stdout",
       "text": [
        "\n",
        "[array([ 6.02546049,  9.01139339])]"
       ]
      },
      {
       "output_type": "stream",
       "stream": "stdout",
       "text": [
        "\n",
        "[-4.9950246796462965]"
       ]
      },
      {
       "output_type": "stream",
       "stream": "stdout",
       "text": [
        "\n",
        "[-4.9297892605995077]"
       ]
      },
      {
       "output_type": "stream",
       "stream": "stdout",
       "text": [
        "\n",
        "[0.57546743545549206]"
       ]
      },
      {
       "output_type": "stream",
       "stream": "stdout",
       "text": [
        "\n",
        "[]"
       ]
      },
      {
       "output_type": "stream",
       "stream": "stdout",
       "text": [
        "\n",
        "[3.9793641765699981]"
       ]
      },
      {
       "output_type": "stream",
       "stream": "stdout",
       "text": [
        "\n",
        "[3.8853814248708769]"
       ]
      },
      {
       "output_type": "stream",
       "stream": "stdout",
       "text": [
        "\n"
       ]
      }
     ],
     "prompt_number": 274
    },
    {
     "cell_type": "code",
     "collapsed": false,
     "input": [
      "\n",
      "The Gausian kernel finds the three modes:\n",
      "\n",
      "-4.9297872619004561,\n",
      "\n",
      "3.8853805101147536,\n",
      "\n",
      "0.55812355368607725.\n",
      "\n",
      "The Flat kernel finds the three modes:\n",
      "\n",
      "-4.9950246796462956;\n",
      "\n",
      "3.9793641765699963;\n",
      "\n",
      "0.57546743545549217."
     ],
     "language": "python",
     "metadata": {},
     "outputs": [],
     "prompt_number": 271
    },
    {
     "cell_type": "code",
     "collapsed": false,
     "input": [],
     "language": "python",
     "metadata": {},
     "outputs": []
    }
   ],
   "metadata": {}
  }
 ]
}