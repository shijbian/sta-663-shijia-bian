{
 "metadata": {
  "name": "",
  "signature": "sha256:1d90f0153a6eb214a3defa26b0dca8684105c005bf6d0db803d22b9989d6e836"
 },
 "nbformat": 3,
 "nbformat_minor": 0,
 "worksheets": [
  {
   "cells": [
    {
     "cell_type": "markdown",
     "metadata": {},
     "source": [
      "```python\n",
      "for i in ---:\n",
      "    if condition:\n",
      "        output\n",
      "    elif condition:\n",
      "        output\n",
      "    else:\n",
      "        output\n",
      "\n",
      "la.norm\n",
      "\n",
      "from collections import Counter\n",
      "counter3 = Counter(s.lower())\n",
      "print counter3['a']\n",
      "\n",
      "from collections import defaultdict\n",
      "counter2 = defaultdict(int)\n",
      "for _ in s.lower():\n",
      "    counter2[_] += 1\n",
      "print counter2['a']\n",
      "\n",
      "counter1 = {}\n",
      "for _ in s.lower():\n",
      "    counter1[_] = counter1.get(_, 0) + 1\n",
      "print counter1['a']\n",
      "```"
     ]
    },
    {
     "cell_type": "markdown",
     "metadata": {},
     "source": []
    }
   ],
   "metadata": {}
  }
 ]
}