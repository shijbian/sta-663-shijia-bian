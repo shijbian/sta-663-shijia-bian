{
 "metadata": {
  "name": "",
  "signature": "sha256:e98a8e650d4459b5f6fca64cbd1cea35a9123572b070f4db2d2b1687dbca4098"
 },
 "nbformat": 3,
 "nbformat_minor": 0,
 "worksheets": [
  {
   "cells": [
    {
     "cell_type": "code",
     "collapsed": false,
     "input": [
      "!git status"
     ],
     "language": "python",
     "metadata": {},
     "outputs": [
      {
       "output_type": "stream",
       "stream": "stdout",
       "text": [
        "On branch master\r\n",
        "Your branch is up-to-date with 'origin/master'.\r\n",
        "\r\n",
        "Changes not staged for commit:\r\n",
        "  (use \"git add/rm <file>...\" to update what will be committed)\r\n",
        "  (use \"git checkout -- <file>...\" to discard changes in working directory)\r\n",
        "\r\n",
        "\t\u001b[31mmodified:   ../.DS_Store\u001b[m\r\n",
        "\t\u001b[31mdeleted:    ../LabWork/README.md\u001b[m\r\n",
        "\t\u001b[31mmodified:   .DS_Store\u001b[m\r\n",
        "\t\u001b[31mmodified:   Lab01/.DS_Store\u001b[m\r\n",
        "\t\u001b[31mdeleted:    Lab01/.ipynb_checkpoints/Exercises01-checkpoint.ipynb\u001b[m\r\n",
        "\t\u001b[31mdeleted:    Lab01/Exercises01.ipynb\u001b[m\r\n",
        "\t\u001b[31mmodified:   Lab01/Untitled0.ipynb\u001b[m\r\n",
        "\t\u001b[31mmodified:   ../Lecture/.DS_Store\u001b[m\r\n",
        "\t\u001b[31mdeleted:    ../Lecture/Functional Programming Lecture 2/.DS_Store\u001b[m\r\n",
        "\t\u001b[31mdeleted:    ../Lecture/Functional Programming Lecture 2/Functions.ipynb\u001b[m\r\n",
        "\t\u001b[31mdeleted:    ../Lecture/Functional Programming Lecture 2/TextProcessing.ipynb\u001b[m\r\n",
        "\r\n"
       ]
      },
      {
       "output_type": "stream",
       "stream": "stdout",
       "text": [
        "Untracked files:\r\n",
        "  (use \"git add <file>...\" to include in what will be committed)\r\n",
        "\r\n",
        "\t\u001b[31mLab01/.ipynb_checkpoints/HW01_shijia_bian_42-checkpoint.ipynb\u001b[m\r\n",
        "\t\u001b[31mLab01/.ipynb_checkpoints/HW01_shijia_bian_46-checkpoint.ipynb\u001b[m\r\n",
        "\t\u001b[31mLab01/HW01_shijia_bian_46.ipynb\u001b[m\r\n",
        "\t\u001b[31mLab02/\u001b[m\r\n",
        "\t\u001b[31mUntitled0.ipynb\u001b[m\r\n",
        "\t\u001b[31m../Lecture/Topic03_Data_Munging/\u001b[m\r\n",
        "\r\n",
        "no changes added to commit (use \"git add\" and/or \"git commit -a\")\r\n"
       ]
      }
     ],
     "prompt_number": 1
    },
    {
     "cell_type": "code",
     "collapsed": false,
     "input": [
      "!git stage"
     ],
     "language": "python",
     "metadata": {},
     "outputs": [
      {
       "output_type": "stream",
       "stream": "stdout",
       "text": [
        "Nothing specified, nothing added.\r\n",
        "Maybe you wanted to say 'git add .'?\r\n"
       ]
      }
     ],
     "prompt_number": 2
    },
    {
     "cell_type": "code",
     "collapsed": false,
     "input": [
      "!git add ."
     ],
     "language": "python",
     "metadata": {},
     "outputs": [
      {
       "output_type": "stream",
       "stream": "stdout",
       "text": [
        "warning: You ran 'git add' with neither '-A (--all)' or '--ignore-removal',\r\n",
        "whose behaviour will change in Git 2.0 with respect to paths you removed.\r\n",
        "Paths like 'Labs/Lab01/.ipynb_checkpoints/Exercises01-checkpoint.ipynb' that are\r\n",
        "removed from your working tree are ignored with this version of Git.\r\n",
        "\r\n",
        "* 'git add --ignore-removal <pathspec>', which is the current default,\r\n",
        "  ignores paths you removed from your working tree.\r\n",
        "\r\n",
        "* 'git add --all <pathspec>' will let you also record the removals.\r\n",
        "\r\n",
        "Run 'git status' to check the paths you removed from your working tree.\r\n",
        "\r\n"
       ]
      }
     ],
     "prompt_number": 3
    },
    {
     "cell_type": "code",
     "collapsed": false,
     "input": [
      "! git commit -m \"today pull lab\""
     ],
     "language": "python",
     "metadata": {},
     "outputs": [
      {
       "output_type": "stream",
       "stream": "stdout",
       "text": [
        "[master f4e041a] today pull lab\r\n",
        " 9 files changed, 2290 insertions(+), 15 deletions(-)\r\n",
        " create mode 100644 Labs/Lab01/.ipynb_checkpoints/HW01_shijia_bian_42-checkpoint.ipynb\r\n",
        " create mode 100644 Labs/Lab01/.ipynb_checkpoints/HW01_shijia_bian_46-checkpoint.ipynb\r\n",
        " create mode 100644 Labs/Lab01/HW01_shijia_bian_46.ipynb\r\n",
        " create mode 100644 Labs/Lab02/.DS_Store\r\n",
        " create mode 100644 Labs/Lab02/Exercises02.ipynb\r\n",
        " create mode 100644 Labs/Untitled0.ipynb\r\n"
       ]
      }
     ],
     "prompt_number": 4
    },
    {
     "cell_type": "code",
     "collapsed": false,
     "input": [
      "!git push"
     ],
     "language": "python",
     "metadata": {},
     "outputs": [
      {
       "output_type": "stream",
       "stream": "stdout",
       "text": [
        "warning: push.default is unset; its implicit value is changing in\r\n",
        "Git 2.0 from 'matching' to 'simple'. To squelch this message\r\n",
        "and maintain the current behavior after the default changes, use:\r\n",
        "\r\n",
        "  git config --global push.default matching\r\n",
        "\r\n",
        "To squelch this message and adopt the new behavior now, use:\r\n",
        "\r\n",
        "  git config --global push.default simple\r\n",
        "\r\n",
        "When push.default is set to 'matching', git will push local branches\r\n",
        "to the remote branches that already exist with the same name.\r\n",
        "\r\n",
        "In Git 2.0, Git will default to the more conservative 'simple'\r\n",
        "behavior, which only pushes the current branch to the corresponding\r\n",
        "remote branch that 'git pull' uses to update the current branch.\r\n",
        "\r\n",
        "See 'git help config' and search for 'push.default' for further information.\r\n",
        "(the 'simple' mode was introduced in Git 1.7.11. Use the similar mode\r\n",
        "'current' instead of 'simple' if you sometimes use older versions of Git)\r\n",
        "\r\n"
       ]
      },
      {
       "output_type": "stream",
       "stream": "stdout",
       "text": [
        "Counting objects: 22, done.\r\n",
        "Delta compression using up to 8 threads.\r\n",
        "Compressing objects:   7% (1/13)   \r",
        "Compressing objects:  15% (2/13)   \r",
        "Compressing objects:  23% (3/13)   \r",
        "Compressing objects:  30% (4/13)   \r",
        "Compressing objects:  38% (5/13)   \r",
        "Compressing objects:  46% (6/13)   \r",
        "Compressing objects:  53% (7/13)   \r",
        "Compressing objects:  61% (8/13)   \r",
        "Compressing objects:  69% (9/13)   \r",
        "Compressing objects:  76% (10/13)   \r",
        "Compressing objects:  84% (11/13)   \r",
        "Compressing objects:  92% (12/13)   \r",
        "Compressing objects: 100% (13/13)   \r",
        "Compressing objects: 100% (13/13), done.\r\n",
        "Writing objects:   7% (1/13)   \r",
        "Writing objects:  15% (2/13)   \r",
        "Writing objects:  23% (3/13)   \r",
        "Writing objects:  30% (4/13)   \r",
        "Writing objects:  38% (5/13)   \r",
        "Writing objects:  46% (6/13)   \r",
        "Writing objects:  53% (7/13)   \r",
        "Writing objects:  69% (9/13)   \r",
        "Writing objects:  76% (10/13)   \r",
        "Writing objects:  84% (11/13)   \r",
        "Writing objects:  92% (12/13)   \r",
        "Writing objects: 100% (13/13)   \r",
        "Writing objects: 100% (13/13), 10.34 KiB | 0 bytes/s, done.\r\n",
        "Total 13 (delta 6), reused 0 (delta 0)\r\n"
       ]
      },
      {
       "output_type": "stream",
       "stream": "stdout",
       "text": [
        "To https://github.com/shijbian/sta-663-shijia-bian.git\r\n",
        "   4d84df8..f4e041a  master -> master\r\n"
       ]
      }
     ],
     "prompt_number": 5
    },
    {
     "cell_type": "code",
     "collapsed": false,
     "input": [],
     "language": "python",
     "metadata": {},
     "outputs": []
    }
   ],
   "metadata": {}
  }
 ]
}