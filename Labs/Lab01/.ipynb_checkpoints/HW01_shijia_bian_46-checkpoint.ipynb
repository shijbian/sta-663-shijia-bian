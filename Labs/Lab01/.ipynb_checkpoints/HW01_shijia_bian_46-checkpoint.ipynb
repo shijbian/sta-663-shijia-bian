{
 "metadata": {
  "name": "",
  "signature": "sha256:d35927086899b2f077069de50042f9790591afa79fc8240b0eb80cc278271716"
 },
 "nbformat": 3,
 "nbformat_minor": 0,
 "worksheets": [
  {
   "cells": [
    {
     "cell_type": "code",
     "collapsed": false,
     "input": [
      "from IPython.display import Image"
     ],
     "language": "python",
     "metadata": {},
     "outputs": [],
     "prompt_number": 2
    },
    {
     "cell_type": "markdown",
     "metadata": {},
     "source": [
      "Computer lab\n",
      "----\n",
      "\n",
      "These exercises are designed to give you some practice coding in Python and proivde familiarity with the language syntax."
     ]
    },
    {
     "cell_type": "markdown",
     "metadata": {},
     "source": [
      "**Exercise 1 [10 pts]**. Write code to solve the [Project Euler puzzle 1](https://projecteuler.net/problems)"
     ]
    },
    {
     "cell_type": "code",
     "collapsed": false,
     "input": [
      "'''\n",
      "Project Euler puzzle 1: If we list all the natural numbers below 10 that are multiples of 3 or 5, we get 3, 5, 6 and 9. The sum of these multiples is 23.\n",
      "\n",
      "Find the sum of all the multiples of 3 or 5 below 1000.\n",
      "'''\n",
      "\n",
      "# init is the value that we want to store our sum\n",
      "init = 0\n",
      "for x in range(1,1000):\n",
      "    # condition that satisfy the umbers that are multiples of 3 or 5\n",
      "    if (x % 3 == 0 or x % 5 == 0):\n",
      "        init = x + init\n",
      "print 'The sum is {0}.'.format(init) "
     ],
     "language": "python",
     "metadata": {},
     "outputs": [
      {
       "output_type": "stream",
       "stream": "stdout",
       "text": [
        "The sum is 233168.\n"
       ]
      }
     ],
     "prompt_number": 56
    },
    {
     "cell_type": "markdown",
     "metadata": {},
     "source": [
      "**Exericse 2 [10 pts]**. Wikipedia gives the sample correlation coefficient formula as shown below. Write functions to calculate the sample mean, the sample standard deviation and the sample correlation coefficient. Calculate the sample correlation coefficent for the following lists of numbers:\n",
      "\n",
      "```python\n",
      "x = [10.0, 8.0, 13.0, 9.0, 11.0, 14.0, 6.0, 4.0, 12.0, 7.0, 5.0]\n",
      "y = [8.04, 6.95, 7.58, 8.81, 8.33, 9.96, 7.24, 4.26, 10.84, 4.82, 5.68]\n",
      "```\n",
      "\n",
      "Do NOT use `numpy`  functions - the idea is to code the functions yourself! The square root of $x$ can be calculated as ```x**0.5```."
     ]
    },
    {
     "cell_type": "code",
     "collapsed": false,
     "input": [
      "Image(url=\"http://upload.wikimedia.org/math/0/4/e/04e3ee493ddb1f01e03d8bf024fbd0a5.png\")"
     ],
     "language": "python",
     "metadata": {},
     "outputs": [
      {
       "ename": "NameError",
       "evalue": "name 'Image' is not defined",
       "output_type": "pyerr",
       "traceback": [
        "\u001b[0;31m---------------------------------------------------------------------------\u001b[0m\n\u001b[0;31mNameError\u001b[0m                                 Traceback (most recent call last)",
        "\u001b[0;32m<ipython-input-12-b79fab5d6347>\u001b[0m in \u001b[0;36m<module>\u001b[0;34m()\u001b[0m\n\u001b[0;32m----> 1\u001b[0;31m \u001b[0mImage\u001b[0m\u001b[0;34m(\u001b[0m\u001b[0murl\u001b[0m\u001b[0;34m=\u001b[0m\u001b[0;34m\"http://upload.wikimedia.org/math/0/4/e/04e3ee493ddb1f01e03d8bf024fbd0a5.png\"\u001b[0m\u001b[0;34m)\u001b[0m\u001b[0;34m\u001b[0m\u001b[0m\n\u001b[0m",
        "\u001b[0;31mNameError\u001b[0m: name 'Image' is not defined"
       ]
      }
     ],
     "prompt_number": 12
    },
    {
     "cell_type": "code",
     "collapsed": false,
     "input": [
      "Image(url=\"http://upload.wikimedia.org/math/7/0/d/70df5220933ae8298cd5ef1c719360bf.png\")"
     ],
     "language": "python",
     "metadata": {},
     "outputs": [
      {
       "ename": "NameError",
       "evalue": "name 'Image' is not defined",
       "output_type": "pyerr",
       "traceback": [
        "\u001b[0;31m---------------------------------------------------------------------------\u001b[0m\n\u001b[0;31mNameError\u001b[0m                                 Traceback (most recent call last)",
        "\u001b[0;32m<ipython-input-58-aae0067c9e19>\u001b[0m in \u001b[0;36m<module>\u001b[0;34m()\u001b[0m\n\u001b[0;32m----> 1\u001b[0;31m \u001b[0mImage\u001b[0m\u001b[0;34m(\u001b[0m\u001b[0murl\u001b[0m\u001b[0;34m=\u001b[0m\u001b[0;34m\"http://upload.wikimedia.org/math/7/0/d/70df5220933ae8298cd5ef1c719360bf.png\"\u001b[0m\u001b[0;34m)\u001b[0m\u001b[0;34m\u001b[0m\u001b[0m\n\u001b[0m",
        "\u001b[0;31mNameError\u001b[0m: name 'Image' is not defined"
       ]
      }
     ],
     "prompt_number": 58
    },
    {
     "cell_type": "code",
     "collapsed": false,
     "input": [
      "## Define the list for x and y\n",
      "x = [10.0, 8.0, 13.0, 9.0, 11.0, 14.0, 6.0, 4.0, 12.0, 7.0, 5.0]\n",
      "y = [8.04, 6.95, 7.58, 8.81, 8.33, 9.96, 7.24, 4.26, 10.84, 4.82, 5.68]\n",
      "\n",
      "## Function for calculating sample mean\n",
      "def meanCal (num, sampleMean = None):\n",
      "    sum = 0\n",
      "    for i in range(0,len(num)):\n",
      "        sum = sum + num[i]\n",
      "    sampleMean = sum/len(num)\n",
      "    return sampleMean\n",
      "print 'The mean of x is {0:.3f}.'.format(meanCal(x))   #9.000\n",
      "print 'The mean of y is {0:.3f}.'.format(meanCal(y))   #7.501\n",
      "\n",
      "## Function for calculating sample standard deviation \n",
      "def sdCal (x, sampleSd = None):\n",
      "    mseSum = 0\n",
      "    for i in range(0,len(x)):\n",
      "        mseSum = mseSum + (x[i]-meanCal(x))**2\n",
      "    sampleSd = ((1.0/(len(x)-1))*mseSum)**0.5\n",
      "    return sampleSd\n",
      "print 'The standard deviation of x is {0:.3f}.'.format(sdCal(x))   #3.317\n",
      "print 'The standard deviation of y is {0:.3f}.'.format(sdCal(y))   #2.032\n",
      "\n",
      "## Sample correlation coefficient for x and y.\n",
      "def corcoefCal (x, y, standSum = None):\n",
      "    standSum1 = 0\n",
      "    for i in range(0,len(x)):\n",
      "        standSum1 = standSum1 + ((x[i]-meanCal(x))/sdCal(x))*((y[i]-meanCal(y))/sdCal(y))\n",
      "    standSum = 1.0/(len(x)-1) * standSum1\n",
      "    return standSum\n",
      "print 'The sample correlation coefficient of x and y is {0:.3f}.'.format(corcoefCal(x,y))   #0.816"
     ],
     "language": "python",
     "metadata": {},
     "outputs": [
      {
       "output_type": "stream",
       "stream": "stdout",
       "text": [
        "The mean of x is 9.000.\n",
        "The mean of y is 7.501.\n",
        "The standard deviation of x is 3.317.\n",
        "The standard deviation of y is 2.032.\n",
        "The sample correlation coefficient of x and y is 0.816.\n"
       ]
      }
     ],
     "prompt_number": 59
    },
    {
     "cell_type": "markdown",
     "metadata": {},
     "source": [
      "**Exercise 3** [10 pts]. Write a function to calculate hailstone numbers.\n",
      "\n",
      "Start with any positive integer (an initial seed) and obtain a sequence of numbers by following these rules.\n",
      "\n",
      "1. Base case: If the number is 1, stop.\n",
      "2. Recursive case: If the current number is even, divide it by two; else if it is odd, multiply it by three and add one. \n",
      "\n",
      "The seqeunce of numbers obtained are known as *hailstone numbers* - although it is not proven that all sequences will eventually terminate with 1 (Collatz conjecture), no counter-example has yet been found. \n",
      "\n",
      "For example, starting with 7, we get the sequence 7, 22, 11, 34, 17, 52, 26, 13, 40, 20, 10, 5, 16, 8, 4, 2, 1.\n",
      "\n",
      "A recursive function to find the sequence of hailstone numbers is given below. Write a *non-recursive* version of the function that gives the same result. Using your function, what is the length of the sequeence obtained when we start with 23?\n",
      "\n",
      "```python\n",
      "def hailstone(n, acc=None):\n",
      "    \"\"\"Given a positive integer n, return the series of hailstone numbers.\"\"\"\n",
      "    if acc is None:\n",
      "        acc = []\n",
      "    acc.append(n)\n",
      "    if n == 1:\n",
      "        return acc\n",
      "    else:\n",
      "        if n%2 == 0:\n",
      "            return hailstone(n/2, acc)\n",
      "        else:\n",
      "            return hailstone(n*3 + 1, acc)\n",
      "```\n",
      "hailstone(23)"
     ]
    },
    {
     "cell_type": "code",
     "collapsed": false,
     "input": [
      "# pass the given number, n, and the empty set, the sequnce storage, into this function\n",
      "def hailstone (n, acc = None):\n",
      "    # temp is to store value\n",
      "    temp = n\n",
      "    acc = []\n",
      "    length = 0\n",
      "    acc.append(temp)\n",
      "    # while loop terminate at temp = 1\n",
      "    while temp != 1:\n",
      "        if (temp % 2 == 0):\n",
      "            temp = temp / 2\n",
      "            acc.append(temp)\n",
      "        else:\n",
      "            temp = temp * 3 + 1\n",
      "            acc.append(temp)\n",
      "    length = len(acc)\n",
      "    return acc\n",
      "print 'The length of the sequence is {0} for 23.'.format(len(hailstone(23)))\n",
      "print 'The list of the sequence is {0} for 23.'.format(hailstone(23))"
     ],
     "language": "python",
     "metadata": {},
     "outputs": [
      {
       "output_type": "stream",
       "stream": "stdout",
       "text": [
        "The length of the sequence is 16 for 23.\n",
        "The list of the sequence is [23, 70, 35, 106, 53, 160, 80, 40, 20, 10, 5, 16, 8, 4, 2, 1] for 23.\n"
       ]
      }
     ],
     "prompt_number": 60
    },
    {
     "cell_type": "markdown",
     "metadata": {},
     "source": [
      "**Exercise 4 [20 pts]**. A Caesar cipher replaces each in a string with the letter $k$ modulo 26 positions down. For example, with $k=3$, 'a' would become 'd', 'b' would become 'e' and so on. The Caesar cipher is very easy to crack, since the relative letter frequencies are preserved - that is, 'e' is the most commonly used English letter, so the most frequent letter in the cipher is likely to be the code for 'e'. We can download a large corpus of English text (e.g. a few books from Project Gutenberg), and estimate the individual letter frequencies. Using for example, a multinomial model where each letter is one of 26 possibiilites with frequencies given by the the previous estimates, and assuming that each letter is independent, we can simply go through all 26 possible values of $k$ and choose the model with the highest likelihood. Or just use $\\chi^2$ statistic to compare observed and expected frequencies.\n",
      "\n",
      "Here is an extended exercise to write a Caesar encoder and code to crack the cipher. \n",
      "\n",
      "**Writing the encoder/decoder**:\n",
      "    - Convert a sentence to lowercase\n",
      "    - Write a function let2int to convert a lowercase letter to a number from $0$ to $25$\n",
      "        - Hint: look up ord() function\n",
      "    - Write the reverse function int2let to convert a number to a lowercase letter\n",
      "        - Hint: look up chr() function\n",
      "    - Write a functiton to encode a sentence with shift $k$\n",
      "        - Hint: Use list comprehension with [ternary operator](https://docs.python.org/3.3/faq/programming.html#is-there-an-equivalent-of-c-s-ternary-operator) to check for a lowercase letter\n",
      "    - Write a function to decode a sentence with shift $k$\n",
      "        - Hint: Use the encode function\n",
      "    - Confirm that sentence = decode(encode(sentence))\n",
      "\n",
      "**More hints for encoding/decoding**:\n",
      "\n",
      "There are two slightly tricky aspects to encoding/decoding. First is that we want to convert any character into an integer in $[0, 26)$. Because letters are ordered ('b' comes after 'a'), this can be done by subtracting `ord('a')` for the lowercase letters. After adding $k$, we need to take the number modulo $26$ since the Caesar cipher \"wraps around\". Second is that this will only work for lowercase letters - so we need to pass along any characters that are not in 'a-z' unchanged.\n",
      "    \n",
      "**Writing the cracker**:\n",
      "    - Write a function to download a book from Project Gutenberg\n",
      "        - Hint: use\n",
      "        ```python\n",
      "        text = urllib2.urlopen('http://www.gutenberg.org/ebooks/1342.txt.utf-8').read()\n",
      "        ```\n",
      "    - The book is now in the Github repository as book.txt.  Instead of using the above code, just use\n",
      "    ```python\n",
      "    text = open('book.txt').read()\n",
      "    ```\n",
      "    - Write a fucntion to estimate letter frequencies in text\n",
      "        - Hint: recall various ways to count letters in a string from Lecture 1\n",
      "    - Write a function to calculate the $\\chi^2$ statistic given observed and expected frequencies\n",
      "        - Hint: $\\chi^2 = \\sum_{i=1}{k} \\frac{(\\text{Observed} - \\text{Expected})^2}{\\text{Expected}}$\n",
      "    - Write a cracker to decode encrypted text by choosing the shift $k$ with the smallest $\\chi^2$ score\n",
      "        - Hint: xs.index(min(xs)) gives location of minimum value in the list xs.\n",
      "    - Any reasoanable Englsh sentence should work - just maek one up or copy and paste from somewhere."
     ]
    },
    {
     "cell_type": "code",
     "collapsed": false,
     "input": [
      "import os\n",
      "import urllib2\n",
      "from collections import Counter\n",
      "from string import punctuation\n",
      "import time\n",
      "\n",
      "################################################################################\n",
      "######################### Writing the encoder/decoder: #########################\n",
      "################################################################################\n",
      "\n",
      "#####################################\n",
      "## Convert a sentence to lowercase ##\n",
      "#####################################\n",
      "\n",
      "## Pre: string with punctuation, lower case, upper case or special sign\n",
      "## Post: string with punctuation, lower case only or special sign\n",
      "def lowCase(s):\n",
      "    return s.lower()\n",
      "\n",
      "# sentenceT = 'L6@ KDAASF'\n",
      "# lowCase(sentenceT)\n",
      "\n",
      "#####################################\n",
      "## Write a function let2int to convert a lowercase letter to a number from $0$ to $25$ ord() ##\n",
      "#####################################\n",
      "\n",
      "## Pre: one lower case letter\n",
      "## Post: the lower case letter is converted to to number, a --> 0, b --> 1, ..., z --> 25\n",
      "def let2int(letter):\n",
      "    # The index of 'a' is 97, so we need minus 97\n",
      "    return ord(lowCase(letter))- ord(\"a\")\n",
      "\n",
      "#####################################\n",
      "## Write the reverse function int2let to convert a number to a lowercase letter ##\n",
      "#####################################\n",
      "\n",
      "## Pre: The input ranges from 0 to 25\n",
      "## Post: the output is the lower case letter a, b,...,z\n",
      "def int2let(num):\n",
      "    # The index of 'a' is 97\n",
      "    return chr(num + ord(\"a\"))\n",
      "\n",
      "#####################################\n",
      "## Write a functiton to encode a sentence with shift $k$ ##\n",
      "#####################################\n",
      "\n",
      "## Pre: the index of the letter should be equal or smaller than 25 after adding/subtracting k \n",
      "##      for ' '\uff0c ignore the punctuation\n",
      "## Post: shift the letter to the next k-1 position\n",
      "def encode (k, sentence, sentenceMock=None):\n",
      "    i = 0\n",
      "    sentenceMock = ''\n",
      "    k = k%26\n",
      "    # Convert all the letters to lower case and exclude the punctuation \n",
      "    for letter in sentence:\n",
      "        if (letter.isalpha() == True):\n",
      "            # should consider two cases let2int(letter) + k < 26 and let2int(letter) + k >= 26\n",
      "            if (let2int(letter) + k) < 26:\n",
      "                sentenceMock = sentenceMock + int2let(let2int(letter) + k)\n",
      "            else:\n",
      "                sentenceMock = sentenceMock + int2let(let2int(letter) + k - 26)\n",
      "        else:\n",
      "            sentenceMock = sentenceMock + letter\n",
      "    return sentenceMock\n",
      "\n",
      "#####################################\n",
      "## Write a function to decode a sentence with shift $k$ ##\n",
      "#####################################\n",
      "def decode (k, numberString, sentenceMock=None):\n",
      "    sentenceMock = encode(26-k, numberString)\n",
      "    return sentenceMock\n",
      "\n",
      "#####################################\n",
      "######## Writing the cracker ########\n",
      "#####################################\n",
      "\n",
      "#####################################\n",
      "## Write a function to download a book from Project Gutenberg ##\n",
      "## Which text source I should use ##\n",
      "#####################################\n",
      "\n",
      "## Post: read the file into book\n",
      "def openBook (url):\n",
      "    return urllib2.urlopen(url).read()\n",
      "book = openBook ('http://www.gutenberg.org/cache/epub/1342/pg1342.txt')\n",
      "\n",
      "\n",
      "#####################################\n",
      "## Write a fucntion to estimate letter frequencies in text ##\n",
      "#####################################\n",
      "\n",
      "## Post: count the frequency of each of the 26 letters\n",
      "def estFrequency (text):\n",
      "    letterInven = [0] * 26\n",
      "    for letter in text:\n",
      "        if (let2int(letter) >= 0 and let2int(letter) < 26):\n",
      "            letterInven[let2int(letter)] = letterInven[let2int(letter)] + 1\n",
      "    letterInven = [float(j)/sum(letterInven) for j in letterInven]            \n",
      "    return letterInven\n",
      "\n",
      "#####################################\n",
      "## Calculate the observed Frequency ##\n",
      "#####################################\n",
      "\n",
      "# This is the sentence I give\n",
      "observed = '''\n",
      "the index of the letter should be equal or smaller than 25 after adding/subtracting k ??? or loop 26 --> 0 ??? no output\n",
      "'''\n",
      "\n",
      "#####################################\n",
      "## Write a function to calculate the $\\chi^2$ statistic given observed and expected frequencies ##\n",
      "#####################################\n",
      "# Pre: the given observed and expected frequencies\n",
      "# Post: give the the $\\chi^2$ statistic \n",
      "def calChi (observedFreq,expeFreq, lStore=None):\n",
      "    lStore = []\n",
      "    finalSum = 0\n",
      "    for num in range(26):\n",
      "        value = (observedFreq[num]-expeFreq[num])**2/(expeFreq[num])\n",
      "        lStore.append(value)\n",
      "    finalSum = sum(lStore)\n",
      "    return finalSum\n",
      "\n",
      "#####################################\n",
      "## Write a cracker to decode encrypted text by choosing the shift $k$ with the smallest $\\chi^2$ score ##\n",
      "#####################################\n",
      "# Pre: The observed is any encrypted text converted from the reasonable Englsh sentence.  \n",
      "#      The expected is the Pride and Prejudice text.    \n",
      "# Post: return the position of the smallest chi square. The position ranges from 0 to 25.\n",
      "def cracker (observed, expected):\n",
      "    chiList = [0]*26\n",
      "    expeFreq = estFrequency(expected) \n",
      "    for i in range(0,26):\n",
      "        observedFreq = estFrequency(encode(i,observed))\n",
      "        chiList[i] = calChi(observedFreq,expeFreq)\n",
      "    minChi2 = chiList.index(min(chiList)) \n",
      "    return (26-minChi2)%26\n",
      "\n",
      "# Below is an example, encrip is the encrypted text by setting num = 0:25. \n",
      "# Then I use the cracker function to test the performance. If the cracker function is well \n",
      "# written, the returned position would be the same as num%26. All I also time the run.\n",
      "for num in range(0,26):\n",
      "    mockobserved = encode(num, observed)\n",
      "    start = time.time()\n",
      "    print 'The position that give the smallest chi square is {0}'.format(cracker(mockobserved,book))\n",
      "    end = time.time()\n",
      "    print 'The time spent for this run is {0:.5f}'.format(end - start)\n"
     ],
     "language": "python",
     "metadata": {},
     "outputs": [
      {
       "output_type": "stream",
       "stream": "stdout",
       "text": [
        "The position that give the smallest chi square is 0\n",
        "The time spent for this run is 0.74476\n",
        "The position that give the smallest chi square is 1"
       ]
      },
      {
       "output_type": "stream",
       "stream": "stdout",
       "text": [
        "\n",
        "The time spent for this run is 0.76003\n",
        "The position that give the smallest chi square is 2"
       ]
      },
      {
       "output_type": "stream",
       "stream": "stdout",
       "text": [
        "\n",
        "The time spent for this run is 0.76535\n",
        "The position that give the smallest chi square is 3"
       ]
      },
      {
       "output_type": "stream",
       "stream": "stdout",
       "text": [
        "\n",
        "The time spent for this run is 0.76242\n",
        "The position that give the smallest chi square is 4"
       ]
      },
      {
       "output_type": "stream",
       "stream": "stdout",
       "text": [
        "\n",
        "The time spent for this run is 0.77390\n",
        "The position that give the smallest chi square is 5"
       ]
      },
      {
       "output_type": "stream",
       "stream": "stdout",
       "text": [
        "\n",
        "The time spent for this run is 0.77789\n",
        "The position that give the smallest chi square is 6"
       ]
      },
      {
       "output_type": "stream",
       "stream": "stdout",
       "text": [
        "\n",
        "The time spent for this run is 0.77986\n",
        "The position that give the smallest chi square is 7"
       ]
      },
      {
       "output_type": "stream",
       "stream": "stdout",
       "text": [
        "\n",
        "The time spent for this run is 0.78994\n",
        "The position that give the smallest chi square is 8"
       ]
      },
      {
       "output_type": "stream",
       "stream": "stdout",
       "text": [
        "\n",
        "The time spent for this run is 0.78153\n",
        "The position that give the smallest chi square is 9"
       ]
      },
      {
       "output_type": "stream",
       "stream": "stdout",
       "text": [
        "\n",
        "The time spent for this run is 0.82852\n",
        "The position that give the smallest chi square is 10"
       ]
      },
      {
       "output_type": "stream",
       "stream": "stdout",
       "text": [
        "\n",
        "The time spent for this run is 0.79586\n",
        "The position that give the smallest chi square is 11"
       ]
      },
      {
       "output_type": "stream",
       "stream": "stdout",
       "text": [
        "\n",
        "The time spent for this run is 0.79528\n",
        "The position that give the smallest chi square is 12"
       ]
      },
      {
       "output_type": "stream",
       "stream": "stdout",
       "text": [
        "\n",
        "The time spent for this run is 0.78979\n",
        "The position that give the smallest chi square is 13"
       ]
      },
      {
       "output_type": "stream",
       "stream": "stdout",
       "text": [
        "\n",
        "The time spent for this run is 0.79157\n",
        "The position that give the smallest chi square is 14"
       ]
      },
      {
       "output_type": "stream",
       "stream": "stdout",
       "text": [
        "\n",
        "The time spent for this run is 0.79983\n",
        "The position that give the smallest chi square is 15"
       ]
      },
      {
       "output_type": "stream",
       "stream": "stdout",
       "text": [
        "\n",
        "The time spent for this run is 0.81733\n",
        "The position that give the smallest chi square is 16"
       ]
      },
      {
       "output_type": "stream",
       "stream": "stdout",
       "text": [
        "\n",
        "The time spent for this run is 0.80811\n",
        "The position that give the smallest chi square is 17"
       ]
      },
      {
       "output_type": "stream",
       "stream": "stdout",
       "text": [
        "\n",
        "The time spent for this run is 0.81115\n",
        "The position that give the smallest chi square is 18"
       ]
      },
      {
       "output_type": "stream",
       "stream": "stdout",
       "text": [
        "\n",
        "The time spent for this run is 0.80622\n",
        "The position that give the smallest chi square is 19"
       ]
      },
      {
       "output_type": "stream",
       "stream": "stdout",
       "text": [
        "\n",
        "The time spent for this run is 0.81483\n",
        "The position that give the smallest chi square is 20"
       ]
      },
      {
       "output_type": "stream",
       "stream": "stdout",
       "text": [
        "\n",
        "The time spent for this run is 0.81898\n",
        "The position that give the smallest chi square is 21"
       ]
      },
      {
       "output_type": "stream",
       "stream": "stdout",
       "text": [
        "\n",
        "The time spent for this run is 0.80876\n",
        "The position that give the smallest chi square is 22"
       ]
      },
      {
       "output_type": "stream",
       "stream": "stdout",
       "text": [
        "\n",
        "The time spent for this run is 0.79836\n",
        "The position that give the smallest chi square is 23"
       ]
      },
      {
       "output_type": "stream",
       "stream": "stdout",
       "text": [
        "\n",
        "The time spent for this run is 0.81260\n",
        "The position that give the smallest chi square is 24"
       ]
      },
      {
       "output_type": "stream",
       "stream": "stdout",
       "text": [
        "\n",
        "The time spent for this run is 0.81109\n",
        "The position that give the smallest chi square is 25"
       ]
      },
      {
       "output_type": "stream",
       "stream": "stdout",
       "text": [
        "\n",
        "The time spent for this run is 0.81320\n"
       ]
      }
     ],
     "prompt_number": 11
    },
    {
     "cell_type": "code",
     "collapsed": false,
     "input": [],
     "language": "python",
     "metadata": {},
     "outputs": []
    }
   ],
   "metadata": {}
  }
 ]
}