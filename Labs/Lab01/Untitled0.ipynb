{
 "metadata": {
  "name": "",
  "signature": "sha256:c8fcd8dd180c3d0838c34d5f6db50904511c3f9c83b390f3634295ef1dd0ae05"
 },
 "nbformat": 3,
 "nbformat_minor": 0,
 "worksheets": [
  {
   "cells": [
    {
     "cell_type": "code",
     "collapsed": false,
     "input": [
      " # Paste your code into this box \n",
      "\n",
      "i=0\n",
      "  \n",
      "for letter in s:\n",
      "    if (letter == 'a' or letter == 'e' or letter == 'i' or letter == 'o' or letter == 'u'):\n",
      "        i = i + 1\n",
      "\n",
      "print'Number of vowels: ', i\n",
      " \n",
      "\n",
      "s = 'azcbobobegghakl'\n",
      "  \n",
      "     "
     ],
     "language": "python",
     "metadata": {},
     "outputs": [
      {
       "output_type": "stream",
       "stream": "stdout",
       "text": [
        "Number of vowels:  5\n"
       ]
      }
     ],
     "prompt_number": 7
    },
    {
     "cell_type": "code",
     "collapsed": false,
     "input": [],
     "language": "python",
     "metadata": {},
     "outputs": []
    }
   ],
   "metadata": {}
  }
 ]
}