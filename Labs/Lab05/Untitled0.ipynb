{
 "metadata": {
  "name": "",
  "signature": "sha256:015ca5355bd6aabfe6eb74757bbd0cdb38bb334b5c184924facea75647ac8fe9"
 },
 "nbformat": 3,
 "nbformat_minor": 0,
 "worksheets": [
  {
   "cells": [
    {
     "cell_type": "code",
     "collapsed": false,
     "input": [
      "import sympy as sp\n",
      "from sympy.abc import *\n",
      "\n",
      "import os\n",
      "import sys\n",
      "import glob\n",
      "import matplotlib.pyplot as plt\n",
      "import numpy as np\n",
      "import pandas as pd\n",
      "import sympy as sp\n",
      "%matplotlib inline\n",
      "%precision 4\n",
      "plt.style.use('ggplot')\n",
      "\n",
      "from sympy import Symbol, exp, I, pi, N, expand\n",
      "from sympy import init_printing\n",
      "\n"
     ],
     "language": "python",
     "metadata": {},
     "outputs": [],
     "prompt_number": 6
    },
    {
     "cell_type": "code",
     "collapsed": false,
     "input": [
      "def newton(z, f, fprime, max_iter=100, tol=1e-6):\n",
      "    # Created list 'theta' to store value of z in each iteration\n",
      "    theta = [z]\n",
      "\n",
      "    for i in range(max_iter):\n",
      "        theta.append(theta[i]-(f(theta[i]))/fprime(theta[i]))\n",
      "    \n",
      "    # Used abs() (distance) to compare value of complex number\n",
      "        if abs(theta[i+1]-theta[i]) < tol:\n",
      "            break\n",
      "    return len(theta), theta[-1]\n",
      "\n",
      "f = sp.lambdify(x,expand(x**3-1,complex=True))\n",
      "fprime = sp.lambdify(x,expand(3*x**2,complex=True))\n",
      "\n",
      "print 'Starting point: -0.3'\n",
      "print newton(0.3, f, fprime)\n",
      "\n",
      "print 'Starting point: -0.3 + i'\n",
      "print newton(-0.3 + I, f, fprime)\n",
      "\n",
      "print 'Starting point: -0.3 - i'\n",
      "print newton(-0.3 - I, f, fprime)"
     ],
     "language": "python",
     "metadata": {},
     "outputs": []
    },
    {
     "cell_type": "code",
     "collapsed": false,
     "input": [],
     "language": "python",
     "metadata": {},
     "outputs": []
    }
   ],
   "metadata": {}
  }
 ]
}