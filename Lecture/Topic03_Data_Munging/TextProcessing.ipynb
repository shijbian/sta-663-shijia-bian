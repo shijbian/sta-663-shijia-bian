{
 "metadata": {
  "name": "",
  "signature": "sha256:7e0cece25e137ee9a250b40f49bf4881b97587c7f7fe861fc1dd98ebe62baea5"
 },
 "nbformat": 3,
 "nbformat_minor": 0,
 "worksheets": [
  {
   "cells": [
    {
     "cell_type": "markdown",
     "metadata": {},
     "source": [
      "s.count()\n",
      "\n",
      "s.count()\n",
      "\n",
      "s.upper()\n",
      "\n",
      "s.lower()\n",
      "\n",
      "s.replace(original, the sub)\n",
      "\n",
      "s.find\n",
      "\n",
      "from string import maketrans\n",
      "\n",
      ".translate\n",
      "\n",
      "from string import punctuation\n",
      "\n",
      "import os\n",
      "\n",
      "from collections import Counter\n"
     ]
    },
    {
     "cell_type": "markdown",
     "metadata": {},
     "source": [
      "Working with text\n",
      "====\n",
      "\n",
      "One of Python's strengths is the ease of working with text. Here are some examples."
     ]
    },
    {
     "cell_type": "markdown",
     "metadata": {},
     "source": [
      "String methods\n",
      "----"
     ]
    },
    {
     "cell_type": "code",
     "collapsed": false,
     "input": [
      "# multi-line strings use triple quotes\n",
      "s = \"\"\"\n",
      "it was the best of times,\n",
      "it was the worst of times,\n",
      "it was the age of wisdom,\n",
      "it was the age of foolishness,\n",
      "it was the epoch of belief,\n",
      "it was the epoch of incredulity,\n",
      "it was the season of Light,\n",
      "it was the season of Darkness,\n",
      "it was the spring of hope,\n",
      "it was the winter of despair,\n",
      "\"\"\"\n",
      "\n",
      "print s.count('of')\n",
      "print s.find('wisdom')\n",
      "print s.find('age')"
     ],
     "language": "python",
     "metadata": {},
     "outputs": [
      {
       "output_type": "stream",
       "stream": "stdout",
       "text": [
        "10\n",
        "72\n",
        "65\n"
       ]
      }
     ],
     "prompt_number": 1
    },
    {
     "cell_type": "code",
     "collapsed": false,
     "input": [
      "print s.upper()\n",
      "print s.lower()"
     ],
     "language": "python",
     "metadata": {},
     "outputs": [
      {
       "output_type": "stream",
       "stream": "stdout",
       "text": [
        "\n",
        "IT WAS THE BEST OF TIMES,\n",
        "IT WAS THE WORST OF TIMES,\n",
        "IT WAS THE AGE OF WISDOM,\n",
        "IT WAS THE AGE OF FOOLISHNESS,\n",
        "IT WAS THE EPOCH OF BELIEF,\n",
        "IT WAS THE EPOCH OF INCREDULITY,\n",
        "IT WAS THE SEASON OF LIGHT,\n",
        "IT WAS THE SEASON OF DARKNESS,\n",
        "IT WAS THE SPRING OF HOPE,\n",
        "IT WAS THE WINTER OF DESPAIR,\n",
        "\n",
        "\n",
        "it was the best of times,\n",
        "it was the worst of times,\n",
        "it was the age of wisdom,\n",
        "it was the age of foolishness,\n",
        "it was the epoch of belief,\n",
        "it was the epoch of incredulity,\n",
        "it was the season of light,\n",
        "it was the season of darkness,\n",
        "it was the spring of hope,\n",
        "it was the winter of despair,\n",
        "\n"
       ]
      }
     ],
     "prompt_number": 2
    },
    {
     "cell_type": "code",
     "collapsed": false,
     "input": [
      "print s.replace('was', 'might have been')"
     ],
     "language": "python",
     "metadata": {},
     "outputs": [
      {
       "output_type": "stream",
       "stream": "stdout",
       "text": [
        "\n",
        "it might have been the best of times,\n",
        "it might have been the worst of times,\n",
        "it might have been the age of wisdom,\n",
        "it might have been the age of foolishness,\n",
        "it might have been the epoch of belief,\n",
        "it might have been the epoch of incredulity,\n",
        "it might have been the season of Light,\n",
        "it might have been the season of Darkness,\n",
        "it might have been the spring of hope,\n",
        "it might have been the winter of despair,\n",
        "\n"
       ]
      }
     ],
     "prompt_number": 12
    },
    {
     "cell_type": "markdown",
     "metadata": {},
     "source": [
      "Splitting and joining strings\n",
      "----"
     ]
    },
    {
     "cell_type": "code",
     "collapsed": false,
     "input": [
      "paths = !`echo $PATH`\n",
      "print paths[0]"
     ],
     "language": "python",
     "metadata": {},
     "outputs": [
      {
       "output_type": "stream",
       "stream": "stdout",
       "text": [
        "/bin/sh: //anaconda/bin:/usr/bin:/bin:/usr/sbin:/sbin:/usr/local/bin:/opt/X11/bin:/usr/texbin: No such file or directory\n"
       ]
      }
     ],
     "prompt_number": 3
    },
    {
     "cell_type": "code",
     "collapsed": false,
     "input": [
      "for path in paths[0].split(':'):\n",
      "    print '=> '.join(path.strip().split('/'))"
     ],
     "language": "python",
     "metadata": {},
     "outputs": [
      {
       "output_type": "stream",
       "stream": "stdout",
       "text": [
        "=> bin=> sh\n",
        "=> => anaconda=> bin\n",
        "=> usr=> bin\n",
        "=> bin\n",
        "=> usr=> sbin\n",
        "=> sbin\n",
        "=> usr=> local=> bin\n",
        "=> opt=> X11=> bin\n",
        "=> usr=> texbin\n",
        "No such file or directory\n"
       ]
      }
     ],
     "prompt_number": 4
    },
    {
     "cell_type": "markdown",
     "metadata": {},
     "source": [
      "# The string module\n",
      "\n",
      "The string module provides a very useful `maketrans` function. It is easier to show than to explain what this does."
     ]
    },
    {
     "cell_type": "code",
     "collapsed": false,
     "input": [
      "from string import maketrans\n",
      "\n",
      "dna_to_rna = maketrans('ACTG', 'ACUG')\n",
      "\n",
      "dna = 'gattaca'\n",
      "print dna.upper().translate(dna_to_rna).lower()"
     ],
     "language": "python",
     "metadata": {},
     "outputs": [
      {
       "output_type": "stream",
       "stream": "stdout",
       "text": [
        "gauuaca\n"
       ]
      }
     ],
     "prompt_number": 30
    },
    {
     "cell_type": "code",
     "collapsed": false,
     "input": [
      "# Incidentally the translate function is useful for getting rid of unwanted characters in a string\n",
      "\n",
      "from string import punctuation\n",
      "print punctuation"
     ],
     "language": "python",
     "metadata": {},
     "outputs": [
      {
       "output_type": "stream",
       "stream": "stdout",
       "text": [
        "!\"#$%&'()*+,-./:;<=>?@[\\]^_`{|}~\n"
       ]
      }
     ],
     "prompt_number": 31
    },
    {
     "cell_type": "code",
     "collapsed": false,
     "input": [
      "import os\n",
      "\n",
      "# Alice in Wonderland from Project Gutenberg\n",
      "\n",
      "if not os.path.exists('alice.txt'):\n",
      "    ! wget http://www.kellynch.com/e-texts/Pride%20and%20Prejudice/Pride%20and%20Prejudice,%20Chapter%2040.txt -O alice.txt"
     ],
     "language": "python",
     "metadata": {},
     "outputs": [
      {
       "output_type": "stream",
       "stream": "stdout",
       "text": [
        "--2015-01-17 16:55:52--  http://www.kellynch.com/e-texts/Pride%20and%20Prejudice/Pride%20and%20Prejudice,%20Chapter%2040.txt\r\n",
        "Resolving www.kellynch.com (www.kellynch.com)... "
       ]
      },
      {
       "output_type": "stream",
       "stream": "stdout",
       "text": [
        "66.7.196.158\r\n",
        "Connecting to www.kellynch.com (www.kellynch.com)|66.7.196.158|:80... "
       ]
      },
      {
       "output_type": "stream",
       "stream": "stdout",
       "text": [
        "connected.\r\n",
        "HTTP request sent, awaiting response... "
       ]
      },
      {
       "output_type": "stream",
       "stream": "stdout",
       "text": [
        "200 OK\r\n",
        "Length: 9307 (9.1K) [text/plain]\r\n",
        "Saving to: \u2018alice.txt\u2019\r\n",
        "\r\n",
        "\r",
        " 0% [                                       ] 0           --.-K/s              \r",
        "100%[======================================>] 9,307       --.-K/s   in 0s      \r\n",
        "\r\n",
        "2015-01-17 16:55:53 (161 MB/s) - \u2018alice.txt\u2019 saved [9307/9307]\r\n",
        "\r\n"
       ]
      }
     ],
     "prompt_number": 37
    },
    {
     "cell_type": "code",
     "collapsed": false,
     "input": [
      "! wget http://www.kellynch.com/e-texts/Pride%20and%20Prejudice/Pride%20and%20Prejudice,%20Chapter%2040.txt -O alice.txt\n",
      "#with open(\"alice.txt\", 'r') as file:\n",
      "#  for line in file:\n",
      "#    print line\n",
      "\n",
      "from collections import Counter\n",
      "\n",
      "# Opening a file in python for reading:\n",
      "alice = open('alice.txt','r').read()\n",
      "\n",
      "#get everything in the file, just use read()\n",
      "#file_contents = alice.read()\n",
      "\n",
      "# print content\n",
      "# print (alice)\n",
      "\n",
      "words = alice.translate(None, punctuation).lower().split()\n",
      "# print words\n",
      "\n",
      "word_counts = Counter(words)\n",
      "for item in word_counts.most_common(10):\n",
      "    print item\n",
      "print 'alice', word_counts['alice']\n"
     ],
     "language": "python",
     "metadata": {},
     "outputs": [
      {
       "output_type": "stream",
       "stream": "stdout",
       "text": [
        "--2015-01-17 17:00:16--  http://www.kellynch.com/e-texts/Pride%20and%20Prejudice/Pride%20and%20Prejudice,%20Chapter%2040.txt\r\n",
        "Resolving www.kellynch.com (www.kellynch.com)... 66.7.196.158\r\n",
        "Connecting to www.kellynch.com (www.kellynch.com)|66.7.196.158|:80... "
       ]
      },
      {
       "output_type": "stream",
       "stream": "stdout",
       "text": [
        "connected.\r\n",
        "HTTP request sent, awaiting response... "
       ]
      },
      {
       "output_type": "stream",
       "stream": "stdout",
       "text": [
        "200 OK\r\n",
        "Length: 9307 (9.1K) [text/plain]\r\n",
        "Saving to: \u2018alice.txt\u2019\r\n",
        "\r\n",
        "\r",
        " 0% [                                       ] 0           --.-K/s              \r",
        "100%[======================================>] 9,307       --.-K/s   in 0s      \r\n",
        "\r\n",
        "2015-01-17 17:00:16 (52.8 MB/s) - \u2018alice.txt\u2019 saved [9307/9307]\r\n",
        "\r\n"
       ]
      },
      {
       "output_type": "stream",
       "stream": "stdout",
       "text": [
        "('of', 52)\n",
        "('to', 51)\n",
        "('i', 44)\n",
        "('the', 43)\n",
        "('and', 41)\n",
        "('it', 29)\n",
        "('in', 25)\n",
        "('not', 24)\n",
        "('a', 23)\n",
        "('is', 23)\n",
        "alice 0\n"
       ]
      }
     ],
     "prompt_number": 47
    },
    {
     "cell_type": "markdown",
     "metadata": {},
     "source": [
      "Regular expressions\n",
      "----\n",
      "\n",
      "Regular expressions are a domain specific language for flexible text processing. It is a useful tool, but can be hard to deciper unless you use it often. Where possible, use string methods in preference to regular expressions. Sometimes, however, regular expressions are extremely useful. We will illustrate their use for motif finding in DNA sequences.\n",
      "\n",
      "\n",
      "\n",
      "See [Regular Expression HOWTO](https://docs.python.org/2/howto/regex.html) and the [re documnetation](https://docs.python.org/2/library/re.html) for details."
     ]
    },
    {
     "cell_type": "code",
     "collapsed": false,
     "input": [
      "# Here is the E Coli DNA sequnce for the beta-D-galactosidase enzyme.\n",
      "\n",
      "gene = \"\"\"\n",
      ">ENA|BAE76126|BAE76126.1 Escherichia coli str. K-12 substr. W3110 beta-D-galactosidase \n",
      "ATGACCATGATTACGGATTCACTGGCCGTCGTTTTACAACGTCGTGACTGGGAAAACCCT\n",
      "GGCGTTACCCAACTTAATCGCCTTGCAGCACATCCCCCTTTCGCCAGCTGGCGTAATAGC\n",
      "GAAGAGGCCCGCACCGATCGCCCTTCCCAACAGTTGCGCAGCCTGAATGGCGAATGGCGC\n",
      "TTTGCCTGGTTTCCGGCACCAGAAGCGGTGCCGGAAAGCTGGCTGGAGTGCGATCTTCCT\n",
      "GAGGCCGATACTGTCGTCGTCCCCTCAAACTGGCAGATGCACGGTTACGATGCGCCCATC\n",
      "TACACCAACGTGACCTATCCCATTACGGTCAATCCGCCGTTTGTTCCCACGGAGAATCCG\n",
      "ACGGGTTGTTACTCGCTCACATTTAATGTTGATGAAAGCTGGCTACAGGAAGGCCAGACG\n",
      "CGAATTATTTTTGATGGCGTTAACTCGGCGTTTCATCTGTGGTGCAACGGGCGCTGGGTC\n",
      "GGTTACGGCCAGGACAGTCGTTTGCCGTCTGAATTTGACCTGAGCGCATTTTTACGCGCC\n",
      "GGAGAAAACCGCCTCGCGGTGATGGTGCTGCGCTGGAGTGACGGCAGTTATCTGGAAGAT\n",
      "CAGGATATGTGGCGGATGAGCGGCATTTTCCGTGACGTCTCGTTGCTGCATAAACCGACT\n",
      "ACACAAATCAGCGATTTCCATGTTGCCACTCGCTTTAATGATGATTTCAGCCGCGCTGTA\n",
      "CTGGAGGCTGAAGTTCAGATGTGCGGCGAGTTGCGTGACTACCTACGGGTAACAGTTTCT\n",
      "TTATGGCAGGGTGAAACGCAGGTCGCCAGCGGCACCGCGCCTTTCGGCGGTGAAATTATC\n",
      "GATGAGCGTGGTGGTTATGCCGATCGCGTCACACTACGTCTGAACGTCGAAAACCCGAAA\n",
      "CTGTGGAGCGCCGAAATCCCGAATCTCTATCGTGCGGTGGTTGAACTGCACACCGCCGAC\n",
      "GGCACGCTGATTGAAGCAGAAGCCTGCGATGTCGGTTTCCGCGAGGTGCGGATTGAAAAT\n",
      "GGTCTGCTGCTGCTGAACGGCAAGCCGTTGCTGATTCGAGGCGTTAACCGTCACGAGCAT\n",
      "CATCCTCTGCATGGTCAGGTCATGGATGAGCAGACGATGGTGCAGGATATCCTGCTGATG\n",
      "AAGCAGAACAACTTTAACGCCGTGCGCTGTTCGCATTATCCGAACCATCCGCTGTGGTAC\n",
      "ACGCTGTGCGACCGCTACGGCCTGTATGTGGTGGATGAAGCCAATATTGAAACCCACGGC\n",
      "ATGGTGCCAATGAATCGTCTGACCGATGATCCGCGCTGGCTACCGGCGATGAGCGAACGC\n",
      "GTAACGCGAATGGTGCAGCGCGATCGTAATCACCCGAGTGTGATCATCTGGTCGCTGGGG\n",
      "AATGAATCAGGCCACGGCGCTAATCACGACGCGCTGTATCGCTGGATCAAATCTGTCGAT\n",
      "CCTTCCCGCCCGGTGCAGTATGAAGGCGGCGGAGCCGACACCACGGCCACCGATATTATT\n",
      "TGCCCGATGTACGCGCGCGTGGATGAAGACCAGCCCTTCCCGGCTGTGCCGAAATGGTCC\n",
      "ATCAAAAAATGGCTTTCGCTACCTGGAGAGACGCGCCCGCTGATCCTTTGCGAATACGCC\n",
      "CACGCGATGGGTAACAGTCTTGGCGGTTTCGCTAAATACTGGCAGGCGTTTCGTCAGTAT\n",
      "CCCCGTTTACAGGGCGGCTTCGTCTGGGACTGGGTGGATCAGTCGCTGATTAAATATGAT\n",
      "GAAAACGGCAACCCGTGGTCGGCTTACGGCGGTGATTTTGGCGATACGCCGAACGATCGC\n",
      "CAGTTCTGTATGAACGGTCTGGTCTTTGCCGACCGCACGCCGCATCCAGCGCTGACGGAA\n",
      "GCAAAACACCAGCAGCAGTTTTTCCAGTTCCGTTTATCCGGGCAAACCATCGAAGTGACC\n",
      "AGCGAATACCTGTTCCGTCATAGCGATAACGAGCTCCTGCACTGGATGGTGGCGCTGGAT\n",
      "GGTAAGCCGCTGGCAAGCGGTGAAGTGCCTCTGGATGTCGCTCCACAAGGTAAACAGTTG\n",
      "ATTGAACTGCCTGAACTACCGCAGCCGGAGAGCGCCGGGCAACTCTGGCTCACAGTACGC\n",
      "GTAGTGCAACCGAACGCGACCGCATGGTCAGAAGCCGGGCACATCAGCGCCTGGCAGCAG\n",
      "TGGCGTCTGGCGGAAAACCTCAGTGTGACGCTCCCCGCCGCGTCCCACGCCATCCCGCAT\n",
      "CTGACCACCAGCGAAATGGATTTTTGCATCGAGCTGGGTAATAAGCGTTGGCAATTTAAC\n",
      "CGCCAGTCAGGCTTTCTTTCACAGATGTGGATTGGCGATAAAAAACAACTGCTGACGCCG\n",
      "CTGCGCGATCAGTTCACCCGTGCACCGCTGGATAACGACATTGGCGTAAGTGAAGCGACC\n",
      "CGCATTGACCCTAACGCCTGGGTCGAACGCTGGAAGGCGGCGGGCCATTACCAGGCCGAA\n",
      "GCAGCGTTGTTGCAGTGCACGGCAGATACACTTGCTGATGCGGTGCTGATTACGACCGCT\n",
      "CACGCGTGGCAGCATCAGGGGAAAACCTTATTTATCAGCCGGAAAACCTACCGGATTGAT\n",
      "GGTAGTGGTCAAATGGCGATTACCGTTGATGTTGAAGTGGCGAGCGATACACCGCATCCG\n",
      "GCGCGGATTGGCCTGAACTGCCAGCTGGCGCAGGTAGCAGAGCGGGTAAACTGGCTCGGA\n",
      "TTAGGGCCGCAAGAAAACTATCCCGACCGCCTTACTGCCGCCTGTTTTGACCGCTGGGAT\n",
      "CTGCCATTGTCAGACATGTATACCCCGTACGTCTTCCCGAGCGAAAACGGTCTGCGCTGC\n",
      "GGGACGCGCGAATTGAATTATGGCCCACACCAGTGGCGCGGCGACTTCCAGTTCAACATC\n",
      "AGCCGCTACAGTCAACAGCAACTGATGGAAACCAGCCATCGCCATCTGCTGCACGCGGAA\n",
      "GAAGGCACATGGCTGAATATCGACGGTTTCCATATGGGGATTGGTGGCGACGACTCCTGG\n",
      "AGCCCGTCAGTATCGGCGGAATTCCAGCTGAGCGCCGGTCGCTACCATTACCAGTTGGTC\n",
      "TGGTGTCAAAAATAA\n",
      "\"\"\""
     ],
     "language": "python",
     "metadata": {},
     "outputs": [],
     "prompt_number": 48
    },
    {
     "cell_type": "code",
     "collapsed": false,
     "input": [
      "# Suppose we want to replace motifs that start with 'ATA', \n",
      "# followed by between 1 and 4 of any nucleotide, followed by 'CG'\n",
      "# with a blank string of the same length\n",
      "\n",
      "import re\n",
      "from toolz import partition\n",
      "\n",
      "def replace(match):\n",
      "    return ' ' * len(match.group(0))\n",
      "\n",
      "# convert FASTA into single DNA sequence\n",
      "dna = ''.join(line for line in gene.strip().split('\\n') \n",
      "              if not line.startswith('>'))\n",
      "pattern = 'ATA.{1,4}CG'\n",
      "modified_dna = re.sub(pattern, replace, dna)\n",
      "\n",
      "# pretty print modified sequence\n",
      "linewidth = 60\n",
      "print '\\n'.join([''.join(line) for line \n",
      "                in partition(linewidth, modified_dna)])"
     ],
     "language": "python",
     "metadata": {},
     "outputs": [
      {
       "output_type": "stream",
       "stream": "stdout",
       "text": [
        "ATGACCATGATTACGGATTCACTGGCCGTCGTTTTACAACGTCGTGACTGGGAAAACCCT\n",
        "GGCGTTACCCAACTTAATCGCCTTGCAGCACATCCCCCTTTCGCCAGCTGGCGTA     \n",
        " AAGAGGCCCGCACCGATCGCCCTTCCCAACAGTTGCGCAGCCTGAATGGCGAATGGCGC\n",
        "TTTGCCTGGTTTCCGGCACCAGAAGCGGTGCCGGAAAGCTGGCTGGAGTGCGATCTTCCT\n",
        "GAGGCCG         TCGTCCCCTCAAACTGGCAGATGCACGGTTACGATGCGCCCATC\n",
        "TACACCAACGTGACCTATCCCATTACGGTCAATCCGCCGTTTGTTCCCACGGAGAATCCG\n",
        "ACGGGTTGTTACTCGCTCACATTTAATGTTGATGAAAGCTGGCTACAGGAAGGCCAGACG\n",
        "CGAATTATTTTTGATGGCGTTAACTCGGCGTTTCATCTGTGGTGCAACGGGCGCTGGGTC\n",
        "GGTTACGGCCAGGACAGTCGTTTGCCGTCTGAATTTGACCTGAGCGCATTTTTACGCGCC\n",
        "GGAGAAAACCGCCTCGCGGTGATGGTGCTGCGCTGGAGTGACGGCAGTTATCTGGAAGAT\n",
        "CAGGATATGTGGCGGATGAGCGGCATTTTCCGTGACGTCTCGTTGCTGC        ACT\n",
        "ACACAAATCAGCGATTTCCATGTTGCCACTCGCTTTAATGATGATTTCAGCCGCGCTGTA\n",
        "CTGGAGGCTGAAGTTCAGATGTGCGGCGAGTTGCGTGACTACCTACGGGTAACAGTTTCT\n",
        "TTATGGCAGGGTGAAACGCAGGTCGCCAGCGGCACCGCGCCTTTCGGCGGTGAAATTATC\n",
        "GATGAGCGTGGTGGTTATGCCGATCGCGTCACACTACGTCTGAACGTCGAAAACCCGAAA\n",
        "CTGTGGAGCGCCGAAATCCCGAATCTCTATCGTGCGGTGGTTGAACTGCACACCGCCGAC\n",
        "GGCACGCTGATTGAAGCAGAAGCCTGCGATGTCGGTTTCCGCGAGGTGCGGATTGAAAAT\n",
        "GGTCTGCTGCTGCTGAACGGCAAGCCGTTGCTGATTCGAGGCGTTAACCGTCACGAGCAT\n",
        "CATCCTCTGCATGGTCAGGTCATGGATGAGCAGACGATGGTGCAGGATATCCTGCTGATG\n",
        "AAGCAGAACAACTTTAACGCCGTGCGCTGTTCGCATTATCCGAACCATCCGCTGTGGTAC\n",
        "ACGCTGTGCGACCGCTACGGCCTGTATGTGGTGGATGAAGCCAATATTGAAACCCACGGC\n",
        "ATGGTGCCAATGAATCGTCTGACCGATGATCCGCGCTGGCTACCGGCGATGAGCGAACGC\n",
        "GTAACGCGAATGGTGCAGCGCGATCGTAATCACCCGAGTGTGATCATCTGGTCGCTGGGG\n",
        "AATGAATCAGGCCACGGCGCTAATCACGACGCGCTGTATCGCTGGATCAAATCTGTCGAT\n",
        "CCTTCCCGCCCGGTGCAGTATGAAGGCGGCGGAGCCGACACCACGGCCACCGATATTATT\n",
        "TGCCCGATGTACGCGCGCGTGGATGAAGACCAGCCCTTCCCGGCTGTGCCGAAATGGTCC\n",
        "ATCAAAAAATGGCTTTCGCTACCTGGAGAGACGCGCCCGCTGATCCTTTGCGAATACGCC\n",
        "CACGCGATGGGTAACAGTCTTGGCGGTTTCGCTAAATACTGGCAGGCGTTTCGTCAGTAT\n",
        "CCCCGTTTACAGGGCGGCTTCGTCTGGGACTGGGTGGATCAGTCGCTGATTAAATATGAT\n",
        "GAAAACGGCAACCCGTGGTCGGCTTACGGCGGTGATTTTGGCG        AACGATCGC\n",
        "CAGTTCTGTATGAACGGTCTGGTCTTTGCCGACCGCACGCCGCATCCAGCGCTGACGGAA\n",
        "GCAAAACACCAGCAGCAGTTTTTCCAGTTCCGTTTATCCGGGCAAACCATCGAAGTGACC\n",
        "AGCGAATACCTGTTCCGTC            AGCTCCTGCACTGGATGGTGGCGCTGGAT\n",
        "GGTAAGCCGCTGGCAAGCGGTGAAGTGCCTCTGGATGTCGCTCCACAAGGTAAACAGTTG\n",
        "ATTGAACTGCCTGAACTACCGCAGCCGGAGAGCGCCGGGCAACTCTGGCTCACAGTACGC\n",
        "GTAGTGCAACCGAACGCGACCGCATGGTCAGAAGCCGGGCACATCAGCGCCTGGCAGCAG\n",
        "TGGCGTCTGGCGGAAAACCTCAGTGTGACGCTCCCCGCCGCGTCCCACGCCATCCCGCAT\n",
        "CTGACCACCAGCGAAATGGATTTTTGCATCGAGCTGGGTA       TTGGCAATTTAAC\n",
        "CGCCAGTCAGGCTTTCTTTCACAGATGTGGATTGGCGATAAAAAACAACTGCTGACGCCG\n",
        "CTGCGCGATCAGTTCACCCGTGCACCGCTGG      ACATTGGCGTAAGTGAAGCGACC\n",
        "CGCATTGACCCTAACGCCTGGGTCGAACGCTGGAAGGCGGCGGGCCATTACCAGGCCGAA\n",
        "GCAGCGTTGTTGCAGTGCACGGCAGATACACTTGCTGATGCGGTGCTGATTACGACCGCT\n",
        "CACGCGTGGCAGCATCAGGGGAAAACCTTATTTATCAGCCGGAAAACCTACCGGATTGAT\n",
        "GGTAGTGGTCAAATGGCGATTACCGTTGATGTTGAAGTGGCGAGCG        CATCCG\n",
        "GCGCGGATTGGCCTGAACTGCCAGCTGGCGCAGGTAGCAGAGCGGGTAAACTGGCTCGGA\n",
        "TTAGGGCCGCAAGAAAACTATCCCGACCGCCTTACTGCCGCCTGTTTTGACCGCTGGGAT\n",
        "CTGCCATTGTCAGACATGT        TACGTCTTCCCGAGCGAAAACGGTCTGCGCTGC\n",
        "GGGACGCGCGAATTGAATTATGGCCCACACCAGTGGCGCGGCGACTTCCAGTTCAACATC\n",
        "AGCCGCTACAGTCAACAGCAACTGATGGAAACCAGCCATCGCCATCTGCTGCACGCGGAA\n",
        "GAAGGCACATGGCTGA         GTTTCCATATGGGGATTGGTGGCGACGACTCCTGG\n",
        "AGCCCGTCAGTATCGGCGGAATTCCAGCTGAGCGCCGGTCGCTACCATTACCAGTTGGTC\n"
       ]
      }
     ],
     "prompt_number": 52
    },
    {
     "cell_type": "markdown",
     "metadata": {},
     "source": [
      "The NLTK toolkit\n",
      "----\n",
      "\n",
      "If you will be doing statistical natural language processing or significant amounts of machhine learning on natural text, check out the [Natural Language Toolkit](http://www.nltk.org/)."
     ]
    },
    {
     "cell_type": "markdown",
     "metadata": {},
     "source": [
      "<font color=red>Exercises</font>\n",
      "----"
     ]
    },
    {
     "cell_type": "markdown",
     "metadata": {},
     "source": [
      "**1**. Write a function to find the complementary strand given a DNA sequence. For example\n",
      "\n",
      "Given  ATCGTTA\n",
      "Return TAGCAAT\n",
      "\n",
      "Note: The following are complementary bases A|T, C|G."
     ]
    },
    {
     "cell_type": "code",
     "collapsed": false,
     "input": [
      "# YOUR CODE HERE\n",
      "\n",
      "from string import maketrans\n",
      "\n",
      "dna_to_rna = maketrans('ATCGTTA', 'TAGCAAT')\n",
      "\n",
      "dna = 'TAGCAAT'\n",
      "print dna.upper().translate(dna_to_rna)"
     ],
     "language": "python",
     "metadata": {},
     "outputs": [
      {
       "output_type": "stream",
       "stream": "stdout",
       "text": [
        "ATCGTTA\n"
       ]
      }
     ],
     "prompt_number": 50
    },
    {
     "cell_type": "markdown",
     "metadata": {},
     "source": [
      "**2**. Write a regular expression that matches the following:\n",
      "\n",
      "- Phone numbers with the format: (919)-1234567 (i.e. (123)-9876543 should match but not 234-1234567 or (123)-666666)\n",
      "- Email addresss john.doe@duke.edu (i.e. steve@gmail.com should match but not steve@gmail)\n",
      "- DNA seqences with the motif A-C-T-G where - indicates 0 or 1 other nucleotide (any of A,C,T or G)"
     ]
    },
    {
     "cell_type": "code",
     "collapsed": false,
     "input": [
      "# YOUR CODE HERE\n",
      "\n",
      "import re\n",
      "from toolz import partition\n",
      "\n",
      "def replace(match):\n",
      "    return ' ' * len(match.group(0))\n",
      "\n",
      "# convert FASTA into single DNA sequence\n",
      "dna = ''.join(line for line in gene.strip().split('\\n') \n",
      "              if not line.startswith('>'))\n",
      "pattern = 'ATA.{1,4}CG'\n",
      "pattern = '(.{0,9}.{0,9}.{0,9})-.{0,9}.{0,9}.{0,9}.{0,9}.{0,9}.{0,9}.{0,9}'\n",
      "modified_dna = re.sub(pattern, replace, dna)\n",
      "\n",
      "# pretty print modified sequence\n",
      "linewidth = 60\n",
      "print '\\n'.join([''.join(line) for line \n",
      "                in partition(linewidth, modified_dna)])\n"
     ],
     "language": "python",
     "metadata": {},
     "outputs": []
    },
    {
     "cell_type": "markdown",
     "metadata": {},
     "source": [
      "**3**. Download 'Pride and Prejudice' by Jane Austin from Project Gutenbrrg.\n",
      "\n",
      "- Remove all punctuation and covert to lower case\n",
      "- Count how many times the word 'married' appears\n",
      "- Count how often the word 'daughter' and 'married' appear in the same 10-word window"
     ]
    },
    {
     "cell_type": "code",
     "collapsed": false,
     "input": [
      "from string import punctuation\n",
      "from collections import Counter\n",
      "\n",
      "# Download 'Pride and Prejudice' by Jane Austin from Project Gutenbrrg.\n",
      "if not os.path.exists('pride.txt'):\n",
      "    ! wget http://www.kellynch.com/e-texts/Pride%20and%20Prejudice/Pride%20and%20Prejudice,%20Chapter%201.txt -O pride.txt\n",
      "\n",
      "# read the pride.txt into file\n",
      "pride = open('pride.txt','r').read()\n",
      "\n",
      "# Remove all punctuation and covert to lower case\n",
      "words = pride.translate(None, punctuation).lower().split()\n",
      "\n",
      "# Count how many times the word 'married' appears\n",
      "word_counts = Counter(words)\n",
      "for item in word_counts.most_common(10):\n",
      "    print item\n",
      "word_counts['who']\n",
      "\n",
      "type(words)\n",
      "# Count how often the word 'taken' and 'who' appear in the same 10-word window\n"
     ],
     "language": "python",
     "metadata": {},
     "outputs": [
      {
       "output_type": "stream",
       "stream": "stdout",
       "text": [
        "('you', 31)\n",
        "('of', 29)\n",
        "('to', 22)\n",
        "('a', 21)\n",
        "('the', 18)\n",
        "('i', 17)\n",
        "('and', 16)\n",
        "('that', 15)\n",
        "('is', 14)\n",
        "('it', 14)\n",
        "695\n"
       ]
      }
     ],
     "prompt_number": 79
    },
    {
     "cell_type": "markdown",
     "metadata": {},
     "source": [
      "**4**. Download \"The Gutenberg Webster's Unabridged Dictionary\" from Project Gutenbrrg\n",
      "\n",
      "- First extract all defined words (109561 words)\n",
      "- Count the number of *defined* English words containing 3 or more vowels (aeiou)\n",
      "- Find all longest palindromes (a palindrome is a word that is spelt the same forwards as backwards - e.g. 'deified')"
     ]
    },
    {
     "cell_type": "code",
     "collapsed": false,
     "input": [
      "# YOUR CODE HERE\n",
      "\n",
      "\n"
     ],
     "language": "python",
     "metadata": {},
     "outputs": []
    }
   ],
   "metadata": {}
  }
 ]
}